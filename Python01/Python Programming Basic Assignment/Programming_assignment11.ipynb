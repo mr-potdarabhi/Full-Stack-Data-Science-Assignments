{
  "nbformat": 4,
  "nbformat_minor": 0,
  "metadata": {
    "colab": {
      "provenance": []
    },
    "kernelspec": {
      "name": "python3",
      "display_name": "Python 3"
    },
    "language_info": {
      "name": "python"
    }
  },
  "cells": [
    {
      "cell_type": "markdown",
      "source": [
        "#**Assignment_11 Solutions**"
      ],
      "metadata": {
        "id": "Ukeid2LfcIao"
      }
    },
    {
      "cell_type": "markdown",
      "source": [
        "**1. Write a Python program to find words which are greater than given length k?**"
      ],
      "metadata": {
        "id": "mN1XVakTJPfK"
      }
    },
    {
      "cell_type": "code",
      "execution_count": 11,
      "metadata": {
        "colab": {
          "base_uri": "https://localhost:8080/"
        },
        "id": "ics1revQGB9W",
        "outputId": "9be5e724-5fb9-4b8e-8ff4-cfebfbcbd409"
      },
      "outputs": [
        {
          "output_type": "stream",
          "name": "stdout",
          "text": [
            "Enter the string : Inspiration does exist, but it must find you working\n",
            "Enter the len of string : 4\n",
            "Inspiration,exist,,working\n"
          ]
        }
      ],
      "source": [
        "def word_k():\n",
        "  string = input(\"Enter the string : \")\n",
        "  in_length = int(input(\"Enter the len of string : \"))\n",
        "  list_str = []\n",
        "  for i in string.split(\" \"):\n",
        "    if len(i)>in_length:\n",
        "      list_str.append(i)\n",
        "  print(\",\".join(list_str))\n",
        "\n",
        "word_k()"
      ]
    },
    {
      "cell_type": "markdown",
      "source": [
        "**2. Write a Python program for removing i-th character from a string?**"
      ],
      "metadata": {
        "id": "BwNjRV6SKtUr"
      }
    },
    {
      "cell_type": "code",
      "source": [
        "def removeCharacter():\n",
        "    string = input(\"Ether the string : \")\n",
        "    character_num = int(input(\"Enter the i-th character : \"))\n",
        "    str_out = ''\n",
        "\n",
        "    for x in range (len(string)):\n",
        "        if x != character_num:\n",
        "          str_out = str_out + string[x]\n",
        "    print(str_out)\n",
        "\n",
        "removeCharacter()"
      ],
      "metadata": {
        "colab": {
          "base_uri": "https://localhost:8080/"
        },
        "id": "D8ZcgrHqGDNh",
        "outputId": "3d058173-9e00-441c-80a7-51a81e21c9c2"
      },
      "execution_count": 20,
      "outputs": [
        {
          "output_type": "stream",
          "name": "stdout",
          "text": [
            "Ether the string : abhishek\n",
            "Enter the i-th character : 1\n",
            "ahishek\n"
          ]
        }
      ]
    },
    {
      "cell_type": "markdown",
      "source": [
        "**3. Write a Python program to split and join a string?**"
      ],
      "metadata": {
        "id": "TnL_8sJuOBwL"
      }
    },
    {
      "cell_type": "code",
      "source": [
        "def joinSplitString():\n",
        "  string = input(\"Enter the sentence : \")\n",
        "  print(f\"Split String: {string.split(' ')}\")\n",
        "  print(f\"Join String: {' '.join(string.split(' '))}\")\n",
        "joinSplitString()"
      ],
      "metadata": {
        "colab": {
          "base_uri": "https://localhost:8080/"
        },
        "id": "GtpK9La8G8Jj",
        "outputId": "125c86cd-96ac-4b16-9c12-13a915ac06d5"
      },
      "execution_count": 25,
      "outputs": [
        {
          "output_type": "stream",
          "name": "stdout",
          "text": [
            "Enter the sentence : Inspiration does exist, but it must find you working\n",
            "Split String: ['Inspiration', 'does', 'exist,', 'but', 'it', 'must', 'find', 'you', 'working']\n",
            "Join String: Inspiration does exist, but it must find you working\n"
          ]
        }
      ]
    },
    {
      "cell_type": "markdown",
      "source": [
        "**4. Write a Python to check if a given string is binary string or not?**"
      ],
      "metadata": {
        "id": "KzYi7hpkPzTr"
      }
    },
    {
      "cell_type": "code",
      "source": [
        "def checkbinarystring():\n",
        "    str_in = input(\"Enter the string: \")\n",
        "    binary = ['0', '1']\n",
        "\n",
        "    is_binary = True\n",
        "    for i in str_in:\n",
        "      if i not in binary:\n",
        "          is_binary = False\n",
        "    if is_binary:\n",
        "      print(\"Binary\")\n",
        "    else:\n",
        "      print(\"Not Binary\")\n",
        "\n",
        "checkbinarystring()\n",
        "checkbinarystring()"
      ],
      "metadata": {
        "colab": {
          "base_uri": "https://localhost:8080/"
        },
        "id": "7naI481kMowa",
        "outputId": "9e994f7e-aa83-4ce7-c4db-c521cc6b640e"
      },
      "execution_count": 32,
      "outputs": [
        {
          "output_type": "stream",
          "name": "stdout",
          "text": [
            "Enter the string: 145\n",
            "Not Binary\n",
            "Enter the string: 101\n",
            "Binary\n"
          ]
        }
      ]
    },
    {
      "cell_type": "markdown",
      "source": [
        "**5. Write a Python program to find uncommon words from two Strings?**"
      ],
      "metadata": {
        "id": "aIJR9HRiSncb"
      }
    },
    {
      "cell_type": "code",
      "source": [
        "def uncommonWord():\n",
        "    string1 = input(\"Enter the string : \")\n",
        "    string2 = input(\"Enter the string : \")\n",
        "    uncommon = []\n",
        "    common = []\n",
        "    \n",
        "    for i in set(string1.split(' ')):\n",
        "        if i not in string2:\n",
        "            uncommon.append(i)\n",
        "    for i in set(string2.split(' ')):\n",
        "        if i not in string1:\n",
        "            uncommon.append(i)\n",
        "                      \n",
        "    print(f\"Uncommon String : {uncommon}\")\n",
        "    \n",
        "  \n",
        "uncommonWord()"
      ],
      "metadata": {
        "colab": {
          "base_uri": "https://localhost:8080/"
        },
        "id": "mJMVn6iJSnSx",
        "outputId": "1bcff835-df46-4bf5-938e-8cff34f539f4"
      },
      "execution_count": 50,
      "outputs": [
        {
          "output_type": "stream",
          "name": "stdout",
          "text": [
            "Enter the string : Write a Python to check if a given string is binary string \n",
            "Enter the string : Write a Python program to split and join a string\n",
            "Uncommon String : ['if', 'binary', 'check', 'is', 'given', 'split', 'program', 'and', 'join']\n"
          ]
        }
      ]
    },
    {
      "cell_type": "markdown",
      "source": [
        "**6. Write a Python to find all duplicate characters in string?**"
      ],
      "metadata": {
        "id": "zda9XrPyZISX"
      }
    },
    {
      "cell_type": "code",
      "source": [
        "def duplicateChar():\n",
        "    str_in = input(\"Enter thr str : \")\n",
        "    duplicate = []\n",
        "    \n",
        "    for i in str_in:\n",
        "        if str_in.count(i) > 1:\n",
        "            duplicate.append(i)          \n",
        "    return set(duplicate)\n",
        "\n",
        "duplicateChar()"
      ],
      "metadata": {
        "colab": {
          "base_uri": "https://localhost:8080/"
        },
        "id": "0AtauD6UQVYV",
        "outputId": "1fe97799-30cb-49b3-8202-16c9222ce117"
      },
      "execution_count": 52,
      "outputs": [
        {
          "name": "stdout",
          "output_type": "stream",
          "text": [
            "Enter thr str : Write a Python to find all duplicate characters in string\n"
          ]
        },
        {
          "output_type": "execute_result",
          "data": {
            "text/plain": [
              "{' ', 'a', 'c', 'd', 'e', 'h', 'i', 'l', 'n', 'o', 'r', 's', 't'}"
            ]
          },
          "metadata": {},
          "execution_count": 52
        }
      ]
    },
    {
      "cell_type": "markdown",
      "source": [
        "**7. Write a Python Program to check if a string contains any special character?**"
      ],
      "metadata": {
        "id": "7_czDUaQZvVq"
      }
    },
    {
      "cell_type": "code",
      "source": [
        "def checkSplChar():\n",
        "  string_in =input(\"Enter the string  : \")\n",
        "  spl_chars = '[@_!#$%^&*()<>?/\\|}{~:]'\n",
        "  spl_CharList = []\n",
        "  \n",
        "  for char in string_in:\n",
        "    if char in spl_chars:\n",
        "      spl_CharList.append(char)\n",
        "\n",
        "  print(f\"Special Character : {spl_CharList}\")\n",
        "checkSplChar()"
      ],
      "metadata": {
        "colab": {
          "base_uri": "https://localhost:8080/"
        },
        "id": "8qWhQv9zZlE9",
        "outputId": "dde87d31-0817-4538-ffd0-abe228039d5e"
      },
      "execution_count": 56,
      "outputs": [
        {
          "output_type": "stream",
          "name": "stdout",
          "text": [
            "Enter the string  : string contains  # , &. @ any special character\n",
            "Special Character : ['#', '&', '@']\n"
          ]
        }
      ]
    }
  ]
}