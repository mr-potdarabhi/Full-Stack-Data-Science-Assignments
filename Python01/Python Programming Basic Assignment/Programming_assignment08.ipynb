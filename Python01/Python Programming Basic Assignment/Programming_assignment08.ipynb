{
  "nbformat": 4,
  "nbformat_minor": 0,
  "metadata": {
    "colab": {
      "provenance": []
    },
    "kernelspec": {
      "name": "python3",
      "display_name": "Python 3"
    },
    "language_info": {
      "name": "python"
    }
  },
  "cells": [
    {
      "cell_type": "markdown",
      "source": [
        "# Assignment 8 Solutions"
      ],
      "metadata": {
        "id": "TggbgL8Y4Lss"
      }
    },
    {
      "cell_type": "markdown",
      "source": [
        "**1. Write a Python Program to Add Two Matrices?**\n",
        "\n",
        "\n"
      ],
      "metadata": {
        "id": "pT2Z2Mnk4Ozn"
      }
    },
    {
      "cell_type": "code",
      "source": [
        "def addM(A,B):\n",
        "    result=[ [0,0,0],[0,0,0],[0,0,0] ]\n",
        "    #for rows\n",
        "    for i in range(len(A)):\n",
        "        #for columns\n",
        "        for j in range(len(A[0])):\n",
        "            result[i][j]=A[i][j] + B[i][j]\n",
        "\n",
        "    for k in result:\n",
        "        print(k)\n",
        "\n",
        "    return 0\n",
        "A=[ [1, 2, 3], [3, 4, 5], [6, 7, 8] ]\n",
        "\n",
        "B=[ [5, 6, 7], [1, 2, 3], [5, 3, 8] ]\n",
        "\n",
        "print(\"Result: \")\n",
        "addM(A,B)"
      ],
      "metadata": {
        "colab": {
          "base_uri": "https://localhost:8080/"
        },
        "id": "yhLao-3647pf",
        "outputId": "ccbcb00f-296a-4527-c5d4-7c8e4078ca2c"
      },
      "execution_count": 15,
      "outputs": [
        {
          "output_type": "stream",
          "name": "stdout",
          "text": [
            "Result: \n",
            "[6, 8, 10]\n",
            "[4, 6, 8]\n",
            "[11, 10, 16]\n"
          ]
        },
        {
          "output_type": "execute_result",
          "data": {
            "text/plain": [
              "0"
            ]
          },
          "metadata": {},
          "execution_count": 15
        }
      ]
    },
    {
      "cell_type": "markdown",
      "source": [
        "**2. Write a Python Program to Multiply two Matrices ?**"
      ],
      "metadata": {
        "id": "mgZvjr7q5dt1"
      }
    },
    {
      "cell_type": "code",
      "source": [
        "x = [[1,2,3],[4,5,6],[7,8,9]]\n",
        "y = [[1,5,7],[1,5,8],[4,6,9]]\n",
        "\n",
        "def multiply_matrice(x,y):\n",
        "    output = []\n",
        "    if len(x[0]) == len(y):\n",
        "        for ele in range(len(x[0])):\n",
        "            output.append([0 for ele in range(len(y[0]))])\n",
        "        for i in range(len(x)):\n",
        "            for j in range(len(y[0])):\n",
        "                for k in range(len(y)):\n",
        "                    output[i][j] += x[i][k]*y[k][j]\n",
        "        print(output)     \n",
        "    else:\n",
        "        print('Matrix Multiplication is Not Possible')\n",
        "        \n",
        "multiply_matrice(x,y)"
      ],
      "metadata": {
        "colab": {
          "base_uri": "https://localhost:8080/"
        },
        "id": "wIrItK1n5Sch",
        "outputId": "8cbeade0-6220-4622-f2d4-d95f499a30e2"
      },
      "execution_count": 13,
      "outputs": [
        {
          "output_type": "stream",
          "name": "stdout",
          "text": [
            "[[15, 33, 50], [33, 81, 122], [51, 129, 194]]\n"
          ]
        }
      ]
    },
    {
      "cell_type": "markdown",
      "source": [
        "**3. Write a Python Program to transpose a Matrix ?**"
      ],
      "metadata": {
        "id": "2KJxwYtw5-yf"
      }
    },
    {
      "cell_type": "code",
      "source": [
        "matrix= [ [2,3],[4,5],[7,8]]\n",
        "\n",
        "for m in matrix:\n",
        "  print(m)\n",
        "\n",
        "transpose= [ [matrix[j][i] for j in range(len(matrix))] for i in range(len(matrix[0]))]\n",
        "print(\"Transpose: \")\n",
        "\n",
        "for t in transpose:\n",
        "  print(t)"
      ],
      "metadata": {
        "colab": {
          "base_uri": "https://localhost:8080/"
        },
        "id": "MjzmFQZM58QS",
        "outputId": "3cace855-d7d0-4c7e-a577-03596de54eda"
      },
      "execution_count": 16,
      "outputs": [
        {
          "output_type": "stream",
          "name": "stdout",
          "text": [
            "[2, 3]\n",
            "[4, 5]\n",
            "[7, 8]\n",
            "Transpose: \n",
            "[2, 4, 7]\n",
            "[3, 5, 8]\n"
          ]
        }
      ]
    },
    {
      "cell_type": "markdown",
      "source": [
        "**4. Write a Python Program to sort Words in an Alphabatical Order ?**"
      ],
      "metadata": {
        "id": "RT0jq8xL6JY-"
      }
    },
    {
      "cell_type": "code",
      "source": [
        "def sortSTring():\n",
        "  in_str= input(\"enter the str: \").title()\n",
        "  sorted_list = sorted(in_str.split(' '))\n",
        "  print(' '.join(sorted_list))\n",
        "\n",
        "sortSTring()"
      ],
      "metadata": {
        "colab": {
          "base_uri": "https://localhost:8080/"
        },
        "id": "4UHzBS226OCu",
        "outputId": "6462c4f5-f6fb-4769-eb50-7fd13ec679b8"
      },
      "execution_count": 12,
      "outputs": [
        {
          "output_type": "stream",
          "name": "stdout",
          "text": [
            "enter the str: Look at the program\n",
            "At Look Program The\n"
          ]
        }
      ]
    },
    {
      "cell_type": "markdown",
      "source": [
        "**5. Write a Python Program to remove Punctuations From a String ?**"
      ],
      "metadata": {
        "id": "Xe9W2f1L7O9d"
      }
    },
    {
      "cell_type": "code",
      "source": [
        "def removePun():\n",
        "    punctuations = '''!()-[]{};:'\"\\,<>./?@#$%^&*_~'''\n",
        "    in_str = input('Enter a String: ')\n",
        "    out_str = ''\n",
        "    for ele in in_str:\n",
        "        if ele not in punctuations:\n",
        "            out_str += ele\n",
        "    print(out_str)\n",
        "    \n",
        "removePun()"
      ],
      "metadata": {
        "colab": {
          "base_uri": "https://localhost:8080/"
        },
        "id": "jd6OQ6SL6yfO",
        "outputId": "d10ea7ff-bbf7-43c8-b722-be83149eaf33"
      },
      "execution_count": 11,
      "outputs": [
        {
          "output_type": "stream",
          "name": "stdout",
          "text": [
            "Enter a String: Look @ the program\n",
            "Look  the program\n"
          ]
        }
      ]
    }
  ]
}