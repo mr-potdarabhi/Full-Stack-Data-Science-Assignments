{
  "nbformat": 4,
  "nbformat_minor": 0,
  "metadata": {
    "colab": {
      "provenance": []
    },
    "kernelspec": {
      "name": "python3",
      "display_name": "Python 3"
    },
    "language_info": {
      "name": "python"
    }
  },
  "cells": [
    {
      "cell_type": "markdown",
      "source": [
        "# **Assignment 13**"
      ],
      "metadata": {
        "id": "UAdVYvXFoHXb"
      }
    },
    {
      "cell_type": "markdown",
      "source": [
        "**1.Write a program that calculates and prints the value according to the given formula:**\n",
        "\n",
        "`Q = Square root of [(2 * C * D)/H]`\n",
        "\n",
        "Following are the fixed values of C and H:\n",
        "\n",
        "C is 50. H is 30.\n",
        "\n",
        "D is the variable whose values should be input to your program in a comma-separated sequence.\n",
        "\n",
        "**Example**: Let us assume the following comma separated input sequence is given to the program:`100,150,180`\n",
        "The output of the program should be: `18,22,24`\n"
      ],
      "metadata": {
        "id": "SZUmZvztkHB5"
      }
    },
    {
      "cell_type": "code",
      "source": [
        "import math\n",
        "\n",
        "def calculate_formula(args):\n",
        "    c = 50\n",
        "    h = 30\n",
        "    result = []\n",
        "    for d in args:\n",
        "        result.append(int(math.sqrt((2*c*int(d))/h)))\n",
        "    print(result)\n",
        "    \n",
        "\n",
        "inp = list(input(\"Enter comma separated numbers input: \").split(','))\n",
        "calculate_formula(inp)"
      ],
      "metadata": {
        "colab": {
          "base_uri": "https://localhost:8080/"
        },
        "id": "k65OkxTilMDh",
        "outputId": "51a9fa60-3934-441e-9a83-08f9541f415d"
      },
      "execution_count": 2,
      "outputs": [
        {
          "output_type": "stream",
          "name": "stdout",
          "text": [
            "Enter comma separated numbers input: 100,150,180\n",
            "[18, 22, 24]\n"
          ]
        }
      ]
    },
    {
      "cell_type": "markdown",
      "source": [
        "**2. Write a program which takes 2 digits, X,Y as input and generates a 2-dimensional array. The element value in the i-th row and j-th column of the array should be i*j.**"
      ],
      "metadata": {
        "id": "-8t9QDvmkIiL"
      }
    },
    {
      "cell_type": "code",
      "source": [
        "x = int(input(\"Enter X value: \"))\n",
        "y = int(input(\"Enter Y value: \"))\n",
        "matrix = []\n",
        "for i in range(x):\n",
        "    row = []\n",
        "    for j in range(y):\n",
        "        row.append(i*j)\n",
        "    matrix.append(row)\n",
        "print(matrix)"
      ],
      "metadata": {
        "colab": {
          "base_uri": "https://localhost:8080/"
        },
        "id": "_lOI_cRqldpY",
        "outputId": "9285aa42-1ff9-4632-b078-62b53f458ef9"
      },
      "execution_count": 3,
      "outputs": [
        {
          "output_type": "stream",
          "name": "stdout",
          "text": [
            "Enter X value: 6\n",
            "Enter Y value: 3\n",
            "[[0, 0, 0], [0, 1, 2], [0, 2, 4], [0, 3, 6], [0, 4, 8], [0, 5, 10]]\n"
          ]
        }
      ]
    },
    {
      "cell_type": "markdown",
      "source": [
        "**3. Write a program that accepts a comma separated sequence of words as input and prints the words in a comma-separated sequence after sorting them alphabetically.**"
      ],
      "metadata": {
        "id": "GeljlW9Wl4vI"
      }
    },
    {
      "cell_type": "code",
      "source": [
        "words = list(input(\"Enter comma seperated words: \").split(','))\n",
        "words.sort() \n",
        "print(','.join(words))"
      ],
      "metadata": {
        "colab": {
          "base_uri": "https://localhost:8080/"
        },
        "id": "zwI0mkeElzP4",
        "outputId": "c0432a9a-b685-4cfb-db68-67880a3c6a64"
      },
      "execution_count": 5,
      "outputs": [
        {
          "output_type": "stream",
          "name": "stdout",
          "text": [
            "Enter comma seperated words: bajaj,triumph,beneli,kawasaki\n",
            "bajaj,beneli,kawasaki,triumph\n"
          ]
        }
      ]
    },
    {
      "cell_type": "markdown",
      "source": [
        "**4. Write a program that accepts a sequence of whitespace separated words as input and prints the words after removing all duplicate words and sorting them alphanumerically.**"
      ],
      "metadata": {
        "id": "anrD0Ur9mmo4"
      }
    },
    {
      "cell_type": "code",
      "source": [
        "words = list(set(input(\"Enter comma seperated words: \").split(' ')))\n",
        "words.sort() \n",
        "print(' '.join(words))"
      ],
      "metadata": {
        "colab": {
          "base_uri": "https://localhost:8080/"
        },
        "id": "OWW9htiHl--n",
        "outputId": "ff821223-be87-4814-cabe-a7c6ce8529a5"
      },
      "execution_count": 6,
      "outputs": [
        {
          "output_type": "stream",
          "name": "stdout",
          "text": [
            "Enter comma seperated words: Hello hello world world\n",
            "Hello hello world\n"
          ]
        }
      ]
    },
    {
      "cell_type": "markdown",
      "source": [
        "**5. Write a program that accepts a sentence and calculate the number of letters and digits.**"
      ],
      "metadata": {
        "id": "2v4_MEb2nQmu"
      }
    },
    {
      "cell_type": "code",
      "source": [
        "words = input(\"Enter a sentence: \")\n",
        "letters = 0\n",
        "digits = 0\n",
        "for c in words:\n",
        "    if (ord(c) >= ord('a') and ord(c) <= ord('z')) or (ord(c) >= ord('A') and ord(c) <= ord('Z')):\n",
        "        letters += 1\n",
        "    elif ord(c) >= ord('0') and ord(c) <= ord('9'):\n",
        "        digits += 1\n",
        "print(\"LETTERS {}\".format(letters))\n",
        "print(\"DIGITS {}\".format(digits))"
      ],
      "metadata": {
        "colab": {
          "base_uri": "https://localhost:8080/"
        },
        "id": "DgXrmF9nmx2e",
        "outputId": "7b92dbe8-41d6-418a-9a6e-99627ed39034"
      },
      "execution_count": 8,
      "outputs": [
        {
          "output_type": "stream",
          "name": "stdout",
          "text": [
            "Enter a sentence: Hello Abhi! 09\n",
            "LETTERS 9\n",
            "DIGITS 2\n"
          ]
        }
      ]
    },
    {
      "cell_type": "markdown",
      "source": [
        "**6. A website requires the users to input username and password to register. Write a program to check the validity of password input by users.**"
      ],
      "metadata": {
        "id": "AOE9Ifv9nh06"
      }
    },
    {
      "cell_type": "code",
      "source": [
        "def check_smallcase(password):\n",
        "    check = False\n",
        "    for p in password:\n",
        "        if ord(p) >= ord('a') and ord(p) <= ord('z'):\n",
        "            check = True\n",
        "            break\n",
        "    return check\n",
        "\n",
        "def check_uppercase(password):\n",
        "    check = False\n",
        "    for p in password:\n",
        "        if ord(p) >= ord('A') and ord(p) <= ord('Z'):\n",
        "            check = True\n",
        "            break\n",
        "    return check\n",
        "\n",
        "def check_digit(password):\n",
        "    check = False\n",
        "    for p in password:\n",
        "        if ord(p) >= ord('1') and ord(p) <= ord('9'):\n",
        "            check = True\n",
        "            break\n",
        "    return check\n",
        "\n",
        "def check_specialchars(password):\n",
        "    check = False\n",
        "    specials = \"!@#$%^&*()_+=->;,:/?`\"\n",
        "    for p in password:\n",
        "        if p in specials:\n",
        "            check = True\n",
        "            break\n",
        "    return check\n",
        "\n",
        "def check_minlength(password):\n",
        "    return len(password) >= 6\n",
        "\n",
        "def check_maxlength(password):\n",
        "    return len(password) <= 12\n",
        "\n",
        "passwords = list(set(input(\"Enter comma seperated passwords: \").split(',')))\n",
        "valid_passwords = []\n",
        "for password in passwords:\n",
        "    if check_smallcase(password) and check_uppercase(password) and check_digit(password) and check_specialchars(password) and check_minlength(password) and check_maxlength(password):\n",
        "        valid_passwords.append(password)\n",
        "print(','.join(valid_passwords))"
      ],
      "metadata": {
        "colab": {
          "base_uri": "https://localhost:8080/"
        },
        "id": "2qKbHJ3XnWi1",
        "outputId": "ae467c52-8c6f-40c6-9cea-c6ce3f70c27c"
      },
      "execution_count": 9,
      "outputs": [
        {
          "output_type": "stream",
          "name": "stdout",
          "text": [
            "Enter comma seperated passwords: Abh783,asd*7,asdasd$1,askdlk#,d#$tre\n",
            "\n"
          ]
        }
      ]
    }
  ]
}