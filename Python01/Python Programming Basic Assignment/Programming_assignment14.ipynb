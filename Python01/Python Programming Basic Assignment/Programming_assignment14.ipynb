{
 "cells": [
  {
   "cell_type": "markdown",
   "id": "e568245d",
   "metadata": {},
   "source": [
    "# Assignment14"
   ]
  },
  {
   "cell_type": "markdown",
   "id": "38be6e51",
   "metadata": {},
   "source": [
    "**1. Define a class with a generator which can iterate the numbers, which are divisible by 7, between a given range 0 and n.**"
   ]
  },
  {
   "cell_type": "code",
   "execution_count": 1,
   "id": "9d898960",
   "metadata": {},
   "outputs": [
    {
     "name": "stdout",
     "output_type": "stream",
     "text": [
      "[0, 7, 14, 21, 28, 35, 42, 49, 56, 63, 70, 77, 84, 91, 98]\n"
     ]
    }
   ],
   "source": [
    "class Test1:\n",
    "    def gen(self, n):\n",
    "        for i in range(n+1):\n",
    "            if i%7 == 0:\n",
    "                yield i\n",
    "numBers=Test1()\n",
    "print([ i for i in numBers.gen(100)])"
   ]
  },
  {
   "cell_type": "markdown",
   "id": "0fdff47f",
   "metadata": {},
   "source": [
    "**2. Write a program to compute the frequency of the words from the input. The output should output after sorting the key alphanumerically**"
   ]
  },
  {
   "cell_type": "code",
   "execution_count": 2,
   "id": "ece87fb1",
   "metadata": {},
   "outputs": [
    {
     "name": "stdout",
     "output_type": "stream",
     "text": [
      "9,02,000 : 1\n",
      "India. : 1\n",
      "India.This : 1\n",
      "Kawasaki : 1\n",
      "Rs. : 1\n",
      "Z900 : 1\n",
      "a : 2\n",
      "at : 1\n",
      "available : 1\n",
      "bike : 1\n",
      "in : 2\n",
      "is : 1\n",
      "of : 1\n",
      "price : 2\n",
      "starting : 1\n",
      "super : 1\n"
     ]
    }
   ],
   "source": [
    "def Test2(string: str):\n",
    "    \n",
    "    str_list = string.split(' ')\n",
    "    output_dict = {}\n",
    "    \n",
    "    for i in str_list:\n",
    "        if i in output_dict.keys():\n",
    "            output_dict[i] += 1\n",
    "        else:\n",
    "            output_dict[i] = 1\n",
    "            \n",
    "    for k, v in sorted(output_dict.items()):\n",
    "        print(k, ':', v)\n",
    "\n",
    "Test2('Kawasaki Z900 is a super bike available at a starting price of Rs. 9,02,000 in India.This price in India.')"
   ]
  },
  {
   "cell_type": "markdown",
   "id": "05313e31",
   "metadata": {},
   "source": [
    "**3. Define a class Person and its two child classes: Male and Female. All classes have a method \"getGender\" which can print \"Male\" for Male class and \"Female\" for Female class.**"
   ]
  },
  {
   "cell_type": "code",
   "execution_count": 3,
   "id": "57ad77a4",
   "metadata": {},
   "outputs": [
    {
     "name": "stdout",
     "output_type": "stream",
     "text": [
      "Male\n",
      "Female\n"
     ]
    }
   ],
   "source": [
    "class person:\n",
    "    def getGender(self):\n",
    "        pass\n",
    "    \n",
    "class Male(person):\n",
    "    def getGender(self):\n",
    "        print('Male')\n",
    " \n",
    "\n",
    "class Female(person):\n",
    "    def getGender(self):\n",
    "        print('Female')\n",
    "        \n",
    "Male=Male()\n",
    "Female=Female()\n",
    "Male.getGender()\n",
    "Female.getGender()\n"
   ]
  },
  {
   "cell_type": "markdown",
   "id": "bf90222e",
   "metadata": {},
   "source": [
    "\n",
    "**4. Please write a program to generate all sentences where subject is in [\"I\", \"You\"] and verb is in ['Play', \"Love\"] and the object is in [\"Hockey\",\"Football\"].**"
   ]
  },
  {
   "cell_type": "code",
   "execution_count": 4,
   "id": "4155c158",
   "metadata": {},
   "outputs": [
    {
     "name": "stdout",
     "output_type": "stream",
     "text": [
      "I Play Hockey\n",
      "I Play Football\n",
      "I Love Hockey\n",
      "I Love Football\n",
      "You Play Hockey\n",
      "You Play Football\n",
      "You Love Hockey\n",
      "You Love Football\n"
     ]
    }
   ],
   "source": [
    "subject = [\"I\", \"You\"]\n",
    "verb = ['Play', \"Love\"]\n",
    "obje = [\"Hockey\",\"Football\"]\n",
    "\n",
    "sen_list = []\n",
    "\n",
    "for sub in subject:\n",
    "    for ver in verb:\n",
    "        for obj in obje:\n",
    "            sen_list.append(sub+ \" \"+ver+\" \"+obj)\n",
    "    \n",
    "    \n",
    "for i in sen_list:\n",
    "    print(i)\n",
    "    "
   ]
  },
  {
   "cell_type": "markdown",
   "id": "a0006f69",
   "metadata": {},
   "source": [
    "**5. Please write a program to compress and decompress the string \"hello world!hello world!hello world!hello world!\"**"
   ]
  },
  {
   "cell_type": "code",
   "execution_count": 5,
   "id": "78d0f551",
   "metadata": {},
   "outputs": [
    {
     "name": "stdout",
     "output_type": "stream",
     "text": [
      "compress:b'\\x1f\\x8b\\x08\\x00f\\xa2\\xe6c\\x02\\xff\\xcbH\\xcd\\xc9\\xc9W(\\xcf/\\xcaIQ\\xcc \\x82\\xad\\x07\\x00\\xca\\xae\\xa0\\x111\\x00\\x00\\x00'\n",
      "decompress:b'hello world!hello world!hello world!hello world!.'\n"
     ]
    }
   ],
   "source": [
    "\n",
    "import gzip\n",
    "s = b'hello world!hello world!hello world!hello world!.'\n",
    "s = gzip.compress(s)\n",
    "print(f'compress:{s}')\n",
    "# using gzip.decompress(s) method\n",
    "t = gzip.decompress(s)\n",
    "print(f'decompress:{t}')"
   ]
  },
  {
   "cell_type": "markdown",
   "id": "dcf47e78",
   "metadata": {},
   "source": [
    "\n",
    "**6. Please write a binary search function which searches an item in a sorted list. The function should return the index of element to be searched in the list.**"
   ]
  },
  {
   "cell_type": "code",
   "execution_count": 6,
   "id": "b840b3a9",
   "metadata": {},
   "outputs": [
    {
     "data": {
      "text/plain": [
       "5"
      ]
     },
     "execution_count": 6,
     "metadata": {},
     "output_type": "execute_result"
    }
   ],
   "source": [
    "def binarySearch(list1, n):  \n",
    "    \n",
    "    \n",
    "    low = 0  \n",
    "    high = len(list1) - 1  \n",
    "    mid = 0  \n",
    "  \n",
    "    while low <= high:  \n",
    "        mid = (high + low) // 2  \n",
    "        if list1[mid] < n:  \n",
    "            low = mid + 1  \n",
    "        elif list1[mid] > n:  \n",
    "            high = mid - 1  \n",
    "        else:  \n",
    "            return mid  \n",
    "    return -1\n",
    "\n",
    "\n",
    "sorted_list = [5,2, 1, 18, 51, 415, 65]\n",
    "\n",
    "binarySearch(sorted_list, 415)"
   ]
  },
  {
   "cell_type": "code",
   "execution_count": null,
   "id": "9645974c",
   "metadata": {},
   "outputs": [],
   "source": []
  }
 ],
 "metadata": {
  "kernelspec": {
   "display_name": "Python 3 (ipykernel)",
   "language": "python",
   "name": "python3"
  },
  "language_info": {
   "codemirror_mode": {
    "name": "ipython",
    "version": 3
   },
   "file_extension": ".py",
   "mimetype": "text/x-python",
   "name": "python",
   "nbconvert_exporter": "python",
   "pygments_lexer": "ipython3",
   "version": "3.9.12"
  }
 },
 "nbformat": 4,
 "nbformat_minor": 5
}
