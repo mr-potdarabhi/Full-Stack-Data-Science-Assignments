{
  "cells": [
    {
      "cell_type": "markdown",
      "metadata": {
        "id": "h3-VwGcP8NWl"
      },
      "source": [
        "# **Assignment 9 Solutions**\n"
      ]
    },
    {
      "cell_type": "markdown",
      "metadata": {
        "id": "x8jLqdPS8Q-K"
      },
      "source": [
        "**1.Write a Python Program to check if the given number is a Disarium Number ?**"
      ]
    },
    {
      "cell_type": "code",
      "execution_count": null,
      "metadata": {
        "colab": {
          "base_uri": "https://localhost:8080/"
        },
        "id": "JeVJA-sP8YME",
        "outputId": "49e6af5c-10f4-4c8c-d208-695177f39dc2"
      },
      "outputs": [
        {
          "name": "stdout",
          "output_type": "stream",
          "text": [
            "110 :  False\n",
            "135 :  True\n"
          ]
        }
      ],
      "source": [
        "def test1(num):\n",
        "    \n",
        "    try:\n",
        "        if type(num) != int:\n",
        "            raise Exception(\"Not an integer\")\n",
        "            \n",
        "        num = str(num)\n",
        "        total = 0\n",
        "        for i in range(0, len(num)):\n",
        "            n = int(num[i])\n",
        "            n = n**(i+1)\n",
        "            total = total + n\n",
        "\n",
        "        if total == int(num):\n",
        "            return True\n",
        "        else:\n",
        "            return False\n",
        "\n",
        "    except Exception as e:\n",
        "        print(e)\n",
        "        \n",
        "\n",
        "print(\"110 : \" ,test1(110))\n",
        "print(\"135 : \" ,test1(135))"
      ]
    },
    {
      "cell_type": "markdown",
      "metadata": {
        "id": "v50IF-gQ9FEt"
      },
      "source": [
        "**2. Write a Python program to print all disarium numbers between 1 to 100?**"
      ]
    },
    {
      "cell_type": "code",
      "execution_count": null,
      "metadata": {
        "colab": {
          "base_uri": "https://localhost:8080/"
        },
        "id": "fyJi4CT49EUl",
        "outputId": "a9e642dc-dfee-4668-9bb5-3b337a565aa9"
      },
      "outputs": [
        {
          "name": "stdout",
          "output_type": "stream",
          "text": [
            "1 2 3 4 5 6 7 8 9 89 "
          ]
        }
      ],
      "source": [
        "for i in range(1, 101):\n",
        "    if test1(i) == True:\n",
        "        print(i, end = ' ')"
      ]
    },
    {
      "cell_type": "markdown",
      "metadata": {
        "id": "IOd6-nRK9wfI"
      },
      "source": [
        "**3. Write a Python program to check if the given number is Happy Number?**"
      ]
    },
    {
      "cell_type": "code",
      "execution_count": null,
      "metadata": {
        "colab": {
          "base_uri": "https://localhost:8080/"
        },
        "id": "VRKODYgi9ukz",
        "outputId": "93760465-8bf7-4d4a-b1b2-37b1da7899b1"
      },
      "outputs": [
        {
          "name": "stdout",
          "output_type": "stream",
          "text": [
            "135 : False\n",
            "100 : True\n"
          ]
        }
      ],
      "source": [
        "def test2(num):\n",
        "\n",
        "    res = num; \n",
        "    def isHappy(num):    \n",
        "        r = 0;  \n",
        "        s = 0\n",
        "        while(num > 0):    \n",
        "            r = num%10    \n",
        "            s += r**2  \n",
        "            num //= 10    \n",
        "        return s     \n",
        "\n",
        "    while(res != 1 and res != 4):    \n",
        "        res = isHappy(res)    \n",
        "\n",
        "    if(res == 1):    \n",
        "        return True\n",
        "    elif(res == 4):    \n",
        "        return False\n",
        "\n",
        "print(\"135 :\", test2(135))\n",
        "print(\"100 :\", test2(100))"
      ]
    },
    {
      "cell_type": "markdown",
      "metadata": {
        "id": "oCoo_Ukp-mMe"
      },
      "source": [
        "**4. Write a Python program to print all happy numbers between 1 and 100?**"
      ]
    },
    {
      "cell_type": "code",
      "execution_count": null,
      "metadata": {
        "colab": {
          "base_uri": "https://localhost:8080/"
        },
        "id": "vX_V6wMs-at-",
        "outputId": "0c7f409d-5cd0-4326-d070-73847c333947"
      },
      "outputs": [
        {
          "name": "stdout",
          "output_type": "stream",
          "text": [
            "1 7 10 13 19 23 28 31 32 44 49 68 70 79 82 86 91 94 97 100 "
          ]
        }
      ],
      "source": [
        "for i in range(1, 101):\n",
        "    if test2(i) == True:\n",
        "        print(i, end = ' ')\n"
      ]
    },
    {
      "cell_type": "markdown",
      "metadata": {
        "id": "ZCdaQu5m-08y"
      },
      "source": [
        "**5. Write a Python program to determine whether the given number is a Harshad Number?**"
      ]
    },
    {
      "cell_type": "code",
      "execution_count": null,
      "metadata": {
        "colab": {
          "background_save": true
        },
        "id": "0jP8oOi--vA2",
        "outputId": "2b060261-7d1b-4152-9517-7102ce37cabb"
      },
      "outputs": [
        {
          "name": "stdout",
          "output_type": "stream",
          "text": [
            "Harshad Number\n",
            "135 : None\n",
            "Harshad Number\n",
            "100 : None\n"
          ]
        }
      ],
      "source": [
        "def test3(num):\n",
        "    temp = num\n",
        "    total = 0\n",
        "    while (temp > 0):\n",
        "        total = total + (temp%10)\n",
        "        temp = temp//10\n",
        "        \n",
        "    if num%total==0:\n",
        "        print(\"Harshad Number\")\n",
        "    else:\n",
        "        print(\"Not Harshad Number\")"
      ]
    },
    {
      "cell_type": "code",
      "execution_count": null,
      "metadata": {
        "id": "0IyqFXl1-8Y1"
      },
      "outputs": [],
      "source": []
    }
  ],
  "metadata": {
    "colab": {
      "provenance": []
    },
    "kernelspec": {
      "display_name": "Python 3",
      "name": "python3"
    },
    "language_info": {
      "name": "python"
    }
  },
  "nbformat": 4,
  "nbformat_minor": 0
}