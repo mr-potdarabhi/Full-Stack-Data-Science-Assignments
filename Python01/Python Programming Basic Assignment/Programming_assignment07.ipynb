{
  "nbformat": 4,
  "nbformat_minor": 0,
  "metadata": {
    "colab": {
      "provenance": []
    },
    "kernelspec": {
      "name": "python3",
      "display_name": "Python 3"
    },
    "language_info": {
      "name": "python"
    }
  },
  "cells": [
    {
      "cell_type": "markdown",
      "source": [
        "# Assignment 7 Solutions\n"
      ],
      "metadata": {
        "id": "Zslwombt4vmT"
      }
    },
    {
      "cell_type": "markdown",
      "source": [
        "**1. Write a Python Program to find sum of Array ?**"
      ],
      "metadata": {
        "id": "rNljovTn4xq1"
      }
    },
    {
      "cell_type": "code",
      "source": [
        "def SumOfarraY():\n",
        "    arr_in = eval(input(\"Enter the Array: \"))\n",
        "    print(f'The sum of {arr_in} is {sum(arr_in)}')\n",
        "\n",
        "SumOfarraY()\n"
      ],
      "metadata": {
        "colab": {
          "base_uri": "https://localhost:8080/"
        },
        "id": "_pK-cp-14w-m",
        "outputId": "d4f6a367-5f64-4875-f6a0-9fd0fe0286be"
      },
      "execution_count": 2,
      "outputs": [
        {
          "output_type": "stream",
          "name": "stdout",
          "text": [
            "Enter the Array: [1,5,7,8,9,4]\n",
            "The sum of [1, 5, 7, 8, 9, 4] is 34\n"
          ]
        }
      ]
    },
    {
      "cell_type": "markdown",
      "source": [
        "**2. Write a Python Program to find Largest element in an Array ?**"
      ],
      "metadata": {
        "id": "HI46hAQY5Qy1"
      }
    },
    {
      "cell_type": "code",
      "source": [
        "def largeElement():\n",
        "    arr_in = eval(input(\"Enter the Array: \"))\n",
        "    print(f\"The Largest Element in {arr_in} is {sorted(arr_in, reverse=True)[0]}\")\n",
        "    \n",
        "largeElement()"
      ],
      "metadata": {
        "colab": {
          "base_uri": "https://localhost:8080/"
        },
        "id": "H_7dp-Gz5PUE",
        "outputId": "f4ed6221-d7e4-4aef-c24c-487e69076921"
      },
      "execution_count": 3,
      "outputs": [
        {
          "output_type": "stream",
          "name": "stdout",
          "text": [
            "Enter the Array: [1,5,7,8,9,4]\n",
            "The Largest Element in [1, 5, 7, 8, 9, 4] is 9\n"
          ]
        }
      ]
    },
    {
      "cell_type": "markdown",
      "source": [
        "3. Write a Python Program for array rotation "
      ],
      "metadata": {
        "id": "oTE_XcVv5pRc"
      }
    },
    {
      "cell_type": "code",
      "source": [
        "def reverseArray():\n",
        "    arr_in= eval(input(\"Enter the Array: \"))\n",
        "    print(f\"The Reverse of Array {arr_in} is {arr_in[::-1]}\")\n",
        "    \n",
        "reverseArray()"
      ],
      "metadata": {
        "colab": {
          "base_uri": "https://localhost:8080/"
        },
        "id": "u70ClYcs5xk6",
        "outputId": "fc4624a0-17f3-4da0-eee7-7c6de403ca2f"
      },
      "execution_count": 4,
      "outputs": [
        {
          "output_type": "stream",
          "name": "stdout",
          "text": [
            "Enter the Array: [1,5,7,8,9,4]\n",
            "The Reverse of Array [1, 5, 7, 8, 9, 4] is [4, 9, 8, 7, 5, 1]\n"
          ]
        }
      ]
    },
    {
      "cell_type": "markdown",
      "source": [
        "**4. Write a Python Program to Split the array and add the first part to the end ?**"
      ],
      "metadata": {
        "id": "snoaTu3z6L1S"
      }
    },
    {
      "cell_type": "code",
      "source": [
        "def sumOfSplits():\n",
        "    arr_in = eval(input(\"Enter the Array: \"))\n",
        "    print(f\"The Sum of First and Last Elements of Array {arr_in} is {arr_in[0]+arr_in[-1]}\")\n",
        "    \n",
        "sumOfSplits()"
      ],
      "metadata": {
        "colab": {
          "base_uri": "https://localhost:8080/"
        },
        "id": "UPud-rTP6Lus",
        "outputId": "f3d485c9-d58f-445b-9df6-f3d2af6eee71"
      },
      "execution_count": 5,
      "outputs": [
        {
          "output_type": "stream",
          "name": "stdout",
          "text": [
            "Enter the Array: [1,5,7,8,9,4]\n",
            "The Sum of First and Last Elements of Array [1, 5, 7, 8, 9, 4] is 5\n"
          ]
        }
      ]
    },
    {
      "cell_type": "markdown",
      "source": [
        "**5. Write a Python Program to check if given array is Monotonic ?**"
      ],
      "metadata": {
        "id": "Zumt-GgO6fU5"
      }
    },
    {
      "cell_type": "code",
      "source": [
        "def checkMonotonic():\n",
        "    arr_in = eval(input(\"Enter the Array: \"))\n",
        "    if(all(arr_in[i]<=arr_in[i+1] for i in range(len(arr_in)-1)) or all(arr_in[i]>=arr_in[i+1] for i in range(len(arr_in)-1))):\n",
        "        print(f'Array {arr_in} is Monotonic')\n",
        "    else:\n",
        "        print(f'Array {arr_in} is Not Monotonic')\n",
        "\n",
        "checkMonotonic()\n",
        "checkMonotonic()"
      ],
      "metadata": {
        "colab": {
          "base_uri": "https://localhost:8080/"
        },
        "id": "Yan9_y5K6Gkj",
        "outputId": "3703c8b6-cd9f-4fe9-daa8-5fe240dd9f48"
      },
      "execution_count": 6,
      "outputs": [
        {
          "output_type": "stream",
          "name": "stdout",
          "text": [
            "Enter the Array: [1,5,7,8,9,4]\n",
            "Array [1, 5, 7, 8, 9, 4] is Not Monotonic\n",
            "Enter the Array: [1,2,3,4,5,6,7,8]\n",
            "Array [1, 2, 3, 4, 5, 6, 7, 8] is Monotonic\n"
          ]
        }
      ]
    }
  ]
}