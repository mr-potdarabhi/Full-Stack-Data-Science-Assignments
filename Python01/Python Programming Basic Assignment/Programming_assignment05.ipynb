{
  "nbformat": 4,
  "nbformat_minor": 0,
  "metadata": {
    "colab": {
      "provenance": []
    },
    "kernelspec": {
      "name": "python3",
      "display_name": "Python 3"
    },
    "language_info": {
      "name": "python"
    }
  },
  "cells": [
    {
      "cell_type": "markdown",
      "source": [
        "# **Assignment 5 Solutions**"
      ],
      "metadata": {
        "id": "y9IzHOWRMiA1"
      }
    },
    {
      "cell_type": "markdown",
      "source": [
        "####**1. Write a Python Program to find LCM ?**"
      ],
      "metadata": {
        "id": "zX7SFsbzNqn3"
      }
    },
    {
      "cell_type": "code",
      "source": [
        "def FindTheLcm (a , b):\n",
        "  if a > b :\n",
        "    greater  = a\n",
        "  else:\n",
        "    greater = b\n",
        "  while True :\n",
        "    if ((greater%a == 0)) and ((greater%b == 0)) :\n",
        "      lcm = greater\n",
        "      break\n",
        "    else:\n",
        "      greater += 1\n",
        "\n",
        "  print(f'The LCM of {a} , {b} is {lcm}')\n",
        "\n",
        "\n",
        "FindTheLcm(2,4)\n",
        "FindTheLcm(3,5)\n",
        "FindTheLcm(2,200)"
      ],
      "metadata": {
        "colab": {
          "base_uri": "https://localhost:8080/"
        },
        "id": "j2ogoB0-N65I",
        "outputId": "cd54363b-020c-4329-aefa-4042c6abd4ae"
      },
      "execution_count": 1,
      "outputs": [
        {
          "output_type": "stream",
          "name": "stdout",
          "text": [
            "The LCM of 2 , 4 is 4\n",
            "The LCM of 3 , 5 is 15\n",
            "The LCM of 2 , 200 is 200\n"
          ]
        }
      ]
    },
    {
      "cell_type": "markdown",
      "source": [
        "####**2. Write a Python Program to find HCF ?**"
      ],
      "metadata": {
        "id": "FDwg3N90N3Da"
      }
    },
    {
      "cell_type": "code",
      "source": [
        "def FindTheHcf (a , b):\n",
        "  if a > b :\n",
        "    smaller  = b\n",
        "  else:\n",
        "    smaller = a\n",
        "  for i in range(1,smaller+1) :\n",
        "    if ((a%i == 0)) and ((b%i == 0)) :\n",
        "      hcf = i\n",
        "      \n",
        "  print(f'The HCF of {a} , {b} is {hcf}')\n",
        "\n",
        "\n",
        "FindTheHcf(2 , 4)\n",
        "FindTheHcf(3 , 5)\n",
        "FindTheHcf(2 , 200)\n"
      ],
      "metadata": {
        "colab": {
          "base_uri": "https://localhost:8080/"
        },
        "id": "TD_PLILyQosB",
        "outputId": "1d21a375-4d78-41de-ffe9-a78c7bce3cce"
      },
      "execution_count": 2,
      "outputs": [
        {
          "output_type": "stream",
          "name": "stdout",
          "text": [
            "The HCF of 2 , 4 is 2\n",
            "The HCF of 3 , 5 is 1\n",
            "The HCF of 2 , 200 is 2\n"
          ]
        }
      ]
    },
    {
      "cell_type": "markdown",
      "source": [
        "**3. Write a Python Program to Convert Decimal to Binary, Octal and Hexadecimal ?**"
      ],
      "metadata": {
        "id": "QDe7e1VgSP-k"
      }
    },
    {
      "cell_type": "code",
      "source": [
        "def DecimalToOther():\n",
        "    num = int(input('Enter a Number: '))\n",
        "    print(f'Binary Number -> {bin(num)}')\n",
        "    print(f'Octal Number -> {oct(num)}')    \n",
        "    print(f'Hexadecimal Number -> {hex(num)}')    \n",
        "\n",
        "DecimalToOther()"
      ],
      "metadata": {
        "colab": {
          "base_uri": "https://localhost:8080/"
        },
        "id": "0uNBfDfGQpMt",
        "outputId": "977d3ed4-99ba-4c1a-b358-6222f9afe9ba"
      },
      "execution_count": 3,
      "outputs": [
        {
          "output_type": "stream",
          "name": "stdout",
          "text": [
            "Enter a Number: 12\n",
            "Binary Number -> 0b1100\n",
            "Octal Number -> 0o14\n",
            "Hexadecimal Number -> 0xc\n"
          ]
        }
      ]
    },
    {
      "cell_type": "markdown",
      "source": [
        "**4. Write a Python Program to Find the ASCII value of a Character ?**"
      ],
      "metadata": {
        "id": "k4RRsxPKSh8C"
      }
    },
    {
      "cell_type": "code",
      "source": [
        "def charToAscii():\n",
        "    char = input('Enter a Character: ')\n",
        "    if len(char) > 1:\n",
        "        print('Please Enter a Single Character')\n",
        "    else:\n",
        "        print(f'Ascii Character of {char} is {ord(char)}')\n",
        "\n",
        "charToAscii()\n",
        "\n"
      ],
      "metadata": {
        "colab": {
          "base_uri": "https://localhost:8080/"
        },
        "id": "XBYJC5LbSaTk",
        "outputId": "a9e24775-ee28-4b63-9a28-1ac34c8aac0a"
      },
      "execution_count": 4,
      "outputs": [
        {
          "output_type": "stream",
          "name": "stdout",
          "text": [
            "Enter a Character: $\n",
            "Ascii Character of $ is 36\n"
          ]
        }
      ]
    },
    {
      "cell_type": "markdown",
      "source": [
        "**5. Write a Python Program to Make a Simple Calculator with 4 Basic Mathematical operations ?**"
      ],
      "metadata": {
        "id": "TaVN5wovS2P9"
      }
    },
    {
      "cell_type": "code",
      "source": [
        "import operator\n",
        "\n",
        "ops = { \"+\": operator.add, \"-\": operator.sub, \"*\":operator.mul, \"/\":operator.truediv } \n",
        "\n",
        "print('Select a Arithmetic Operation: \\\n",
        "        \\n1.Addition(+)\\\n",
        "        \\n2.Division(-)\\\n",
        "        \\n3.Multiplication(*)\\\n",
        "        \\n4.Division(/)\\\n",
        "        \\n5.press \"f\" for quite')\n",
        "\n",
        "\n",
        "while True:\n",
        "    print(\"PRESS 'f' To STOP Program\")\n",
        "    operator = input('Enter a arithmetic operation -> ')\n",
        "    print(\"PRESS 'f' To STOP Program\")\n",
        "    if operator == \"f\" :\n",
        "      print(\"program stop successfully\")\n",
        "      break\n",
        "    \n",
        "    elif operator not in ['+','-','*','/']:\n",
        "        print(\"Please enter a valid operator\")\n",
        "    else:\n",
        "        num_1 = int(input('\\nEnter 1st Number: '))\n",
        "        num_2 = int(input('Enter 2nd Number: '))\n",
        "        print(f'{num_1}{operator}{num_2}={ops[operator](num_1,num_2)}\\n')\n"
      ],
      "metadata": {
        "colab": {
          "base_uri": "https://localhost:8080/"
        },
        "id": "rrzRuV6PSwUw",
        "outputId": "c7db6bea-9c4f-4594-b1e2-3842c0810f60"
      },
      "execution_count": 7,
      "outputs": [
        {
          "output_type": "stream",
          "name": "stdout",
          "text": [
            "Select a Arithmetic Operation:         \n",
            "1.Addition(+)        \n",
            "2.Division(-)        \n",
            "3.Multiplication(*)        \n",
            "4.Division(/)        \n",
            "5.press \"f\" for quite\n",
            "PRESS 'f' To STOP Program\n",
            "Enter a arithmetic operation -> +\n",
            "PRESS 'f' To STOP Program\n",
            "\n",
            "Enter 1st Number: 12\n",
            "Enter 2nd Number: 12\n",
            "12+12=24\n",
            "\n",
            "PRESS 'f' To STOP Program\n",
            "Enter a arithmetic operation -> -\n",
            "PRESS 'f' To STOP Program\n",
            "\n",
            "Enter 1st Number: 12\n",
            "Enter 2nd Number: 12\n",
            "12-12=0\n",
            "\n",
            "PRESS 'f' To STOP Program\n",
            "Enter a arithmetic operation -> *\n",
            "PRESS 'f' To STOP Program\n",
            "\n",
            "Enter 1st Number: 12\n",
            "Enter 2nd Number: 12\n",
            "12*12=144\n",
            "\n",
            "PRESS 'f' To STOP Program\n",
            "Enter a arithmetic operation -> /\n",
            "PRESS 'f' To STOP Program\n",
            "\n",
            "Enter 1st Number: 12\n",
            "Enter 2nd Number: 12\n",
            "12/12=1.0\n",
            "\n",
            "PRESS 'f' To STOP Program\n",
            "Enter a arithmetic operation -> aaa\n",
            "PRESS 'f' To STOP Program\n",
            "Please enter a valid operator\n",
            "PRESS 'f' To STOP Program\n",
            "Enter a arithmetic operation -> f\n",
            "PRESS 'f' To STOP Program\n",
            "program stop successfully\n"
          ]
        }
      ]
    }
  ]
}