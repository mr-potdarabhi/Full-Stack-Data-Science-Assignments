{
  "nbformat": 4,
  "nbformat_minor": 0,
  "metadata": {
    "colab": {
      "provenance": []
    },
    "kernelspec": {
      "name": "python3",
      "display_name": "Python 3"
    },
    "language_info": {
      "name": "python"
    }
  },
  "cells": [
    {
      "cell_type": "markdown",
      "source": [
        "## Assignment 4 Solutions"
      ],
      "metadata": {
        "id": "w3IUgqFn1zDQ"
      }
    },
    {
      "cell_type": "markdown",
      "source": [
        "**1. Write a Python Program to Find the Factorial of a Number?**"
      ],
      "metadata": {
        "id": "vp4H6VLw12YG"
      }
    },
    {
      "cell_type": "code",
      "source": [
        "def factorial(num):\n",
        "    if (num < 1):\n",
        "      return 1\n",
        "  \n",
        "    else: \n",
        "      return num*factorial(num-1)\n",
        "\n",
        "num = int(input(\"Enter a Number : \")) \n",
        "value = factorial(num)\n",
        "print(f\"the factorial of {num} is {value}\")"
      ],
      "metadata": {
        "colab": {
          "base_uri": "https://localhost:8080/"
        },
        "id": "qmvGwIIj11j9",
        "outputId": "ad2213a8-c945-437b-ad9c-4ebf1a083187"
      },
      "execution_count": 6,
      "outputs": [
        {
          "output_type": "stream",
          "name": "stdout",
          "text": [
            "Enter a Number : 6\n",
            "the factorial of 6 is 720\n"
          ]
        }
      ]
    },
    {
      "cell_type": "markdown",
      "source": [
        "**2. Write a Python Program to Display the multiplication Table?**"
      ],
      "metadata": {
        "id": "K5G6ZfqA3GYG"
      }
    },
    {
      "cell_type": "code",
      "source": [
        "def generateTable(base,entries):\n",
        "    for i in range (1 , entries+1):\n",
        "      print(f'{base} X {i} = {base*i}')\n",
        "\n",
        "num = int(input( 'Enter a number : '))\n",
        "value = int(input( 'Enter no of entries : '))\n",
        "generateTable(num , value)"
      ],
      "metadata": {
        "colab": {
          "base_uri": "https://localhost:8080/"
        },
        "id": "3SI8NJ0T2-Jy",
        "outputId": "3bd724a7-951d-40c9-d5d4-6fbb027914d4"
      },
      "execution_count": 7,
      "outputs": [
        {
          "output_type": "stream",
          "name": "stdout",
          "text": [
            "Enter a number : 2\n",
            "Enter no of entries : 10\n",
            "2 X 1 = 2\n",
            "2 X 2 = 4\n",
            "2 X 3 = 6\n",
            "2 X 4 = 8\n",
            "2 X 5 = 10\n",
            "2 X 6 = 12\n",
            "2 X 7 = 14\n",
            "2 X 8 = 16\n",
            "2 X 9 = 18\n",
            "2 X 10 = 20\n"
          ]
        }
      ]
    },
    {
      "cell_type": "markdown",
      "source": [
        "**3.Write a Python Program to print the fibonacci sequence ?**"
      ],
      "metadata": {
        "id": "6bYkA11v434z"
      }
    },
    {
      "cell_type": "code",
      "source": [
        "s_count = int(input('Enter the no of fibonacci sequences you want? '))\n",
        "initial_list = [0,1]\n",
        "if s_count < 0:\n",
        "    print('Fibonacci Numbers are not available for Negative Numbers')\n",
        "elif s_count <= 2 and s_count >= 0:\n",
        "    print(initial_list)\n",
        "else:\n",
        "    for i in range(s_count):\n",
        "        if i >= 2:\n",
        "            initial_list.append(initial_list[i-1]+initial_list[i-2])\n",
        "    print(f'The First {s_count} fibonacci series are: ',initial_list)"
      ],
      "metadata": {
        "colab": {
          "base_uri": "https://localhost:8080/"
        },
        "id": "9KPOnx_v4xM_",
        "outputId": "b64c3dc3-05c0-4f4e-bdfb-ebe46304682e"
      },
      "execution_count": 9,
      "outputs": [
        {
          "output_type": "stream",
          "name": "stdout",
          "text": [
            "Enter the no of fibonacci sequences you want? 10\n",
            "The First 10 fibonacci series are:  [0, 1, 1, 2, 3, 5, 8, 13, 21, 34]\n"
          ]
        }
      ]
    },
    {
      "cell_type": "markdown",
      "source": [
        "**4. Write a Python Program to Check Armstrong Number?**"
      ],
      "metadata": {
        "id": "bTbRl1pg6CP_"
      }
    },
    {
      "cell_type": "code",
      "source": [
        "def checkArmstrongNumber():\n",
        "    num = input('Enter a number: ')\n",
        "    sum = 0\n",
        "    for i in range(len(num)):\n",
        "        sum = sum + pow(int(num[i]),3)\n",
        "    if sum == int(num):\n",
        "        print(f'{num} is a Armstrong Number')\n",
        "    else:\n",
        "        print(f'{num} is a Not Armstrong Number')\n",
        "\n",
        "for x in range(2):\n",
        "    checkArmstrongNumber()"
      ],
      "metadata": {
        "colab": {
          "base_uri": "https://localhost:8080/"
        },
        "id": "wxHKb0Eb5vgW",
        "outputId": "52df67b5-57e8-4174-831e-5de056df07d0"
      },
      "execution_count": 10,
      "outputs": [
        {
          "output_type": "stream",
          "name": "stdout",
          "text": [
            "Enter a number: 370\n",
            "370 is a Armstrong Number\n",
            "Enter a number: 1\n",
            "1 is a Armstrong Number\n"
          ]
        }
      ]
    },
    {
      "cell_type": "markdown",
      "source": [
        "**5. Write a Python Program to Find Armstrong Number in an Interval?**"
      ],
      "metadata": {
        "id": "s97B_UMi6xhC"
      }
    },
    {
      "cell_type": "code",
      "source": [
        "def checkArmstrongNumber(in_num, storage):\n",
        "    sum = 0\n",
        "    for char in range(len(in_num)):\n",
        "        sum = sum + pow(int(in_num[char]),3)\n",
        "    if sum == int(in_num):\n",
        "        storage.append(int(in_num))\n",
        "\n",
        "start_interval = int(input('Enter the Start of the Interval: '))\n",
        "end_interval = int(input('Enter the End of the Interval: '))\n",
        "list_of_armstrong = []\n",
        "\n",
        "if start_interval > end_interval:\n",
        "    print(\"Start Interval Cannot be Greater than End Interval\")\n",
        "else:\n",
        "    for number in range(start_interval,end_interval+1):\n",
        "        checkArmstrongNumber(str(number),list_of_armstrong)\n",
        "    print(f'The Armstrong numbers between {start_interval} and {end_interval} are {list_of_armstrong}')"
      ],
      "metadata": {
        "colab": {
          "base_uri": "https://localhost:8080/"
        },
        "id": "H2CoqvMp6oZn",
        "outputId": "1e5c014e-515e-47f7-aeb4-42b404debe9f"
      },
      "execution_count": 12,
      "outputs": [
        {
          "output_type": "stream",
          "name": "stdout",
          "text": [
            "Enter the Start of the Interval: 1\n",
            "Enter the End of the Interval: 2000\n",
            "The Armstrong numbers between 1 and 2000 are [1, 153, 370, 371, 407]\n"
          ]
        }
      ]
    },
    {
      "cell_type": "markdown",
      "source": [
        "**6. Write a Python Program to Find the Sum of Natural Numbers?**"
      ],
      "metadata": {
        "id": "4A3P5iYt7KN-"
      }
    },
    {
      "cell_type": "code",
      "source": [
        "def sumOfNaturalNumbers(a):\n",
        "    sum = a*((a+1)/2)\n",
        "    print(f'Sum of {a} natural numbers is {sum}')\n",
        "    \n",
        "a = int(input('Enter a number: '))\n",
        "sumOfNaturalNumbers(a)"
      ],
      "metadata": {
        "colab": {
          "base_uri": "https://localhost:8080/"
        },
        "id": "vU8ZzPYx6_sH",
        "outputId": "2e533541-3729-45cc-869f-b4ab4f6b9ab8"
      },
      "execution_count": 15,
      "outputs": [
        {
          "output_type": "stream",
          "name": "stdout",
          "text": [
            "Enter a number: 24\n",
            "Sum of 24 natural numbers is 300.0\n"
          ]
        }
      ]
    }
  ]
}