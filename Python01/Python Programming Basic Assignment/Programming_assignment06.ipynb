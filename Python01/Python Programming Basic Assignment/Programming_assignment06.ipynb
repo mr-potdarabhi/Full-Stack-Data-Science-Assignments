{
  "nbformat": 4,
  "nbformat_minor": 0,
  "metadata": {
    "colab": {
      "provenance": []
    },
    "kernelspec": {
      "name": "python3",
      "display_name": "Python 3"
    },
    "language_info": {
      "name": "python"
    }
  },
  "cells": [
    {
      "cell_type": "markdown",
      "source": [
        "# Assignment 6 Solutions\n"
      ],
      "metadata": {
        "id": "wjlSTjSfAB7j"
      }
    },
    {
      "cell_type": "markdown",
      "source": [
        "**1. Write a Python Program to Display Fibonacci Sequence using Recursion ?**"
      ],
      "metadata": {
        "id": "9S9GXR7UAEoE"
      }
    },
    {
      "cell_type": "code",
      "source": [
        "def genFibonacci(n,a,b):\n",
        "    if n == 0:\n",
        "        return 1\n",
        "    else:\n",
        "        result = a+b\n",
        "        print(result, end=', ')\n",
        "        genFibonacci(n-1,b,result)\n",
        "in_num = int(input('Enter the length of Series: '))\n",
        "print('0, 1',end=', ')\n",
        "genFibonacci(in_num,1,2)"
      ],
      "metadata": {
        "colab": {
          "base_uri": "https://localhost:8080/"
        },
        "id": "nbYLkVp6AJuE",
        "outputId": "0db50f81-b612-43dc-a5a5-d5517a440bd6"
      },
      "execution_count": 2,
      "outputs": [
        {
          "output_type": "stream",
          "name": "stdout",
          "text": [
            "Enter the length of Series: 11\n",
            "0, 1, 3, 5, 8, 13, 21, 34, 55, 89, 144, 233, 377, "
          ]
        }
      ]
    },
    {
      "cell_type": "markdown",
      "source": [
        "**2. Write a Python Program to Find Factorial of a Number using Recursion ?**"
      ],
      "metadata": {
        "id": "pasaV4CRAX59"
      }
    },
    {
      "cell_type": "code",
      "source": [
        "def factorial(num):\n",
        "    if (num < 1):\n",
        "        return 1\n",
        "    else:\n",
        "        return num*factorial(num-1)\n",
        "num = int(input('Enter a number: '))\n",
        "value = factorial(num)\n",
        "print(f'The Factorial of {num} is {value}')\n"
      ],
      "metadata": {
        "colab": {
          "base_uri": "https://localhost:8080/"
        },
        "id": "-8mizJXXAPlY",
        "outputId": "fd4a62eb-a15f-4afc-b649-60ce71a70a22"
      },
      "execution_count": 3,
      "outputs": [
        {
          "output_type": "stream",
          "name": "stdout",
          "text": [
            "Enter a number: 22\n",
            "The Factorial of 22 is 1124000727777607680000\n"
          ]
        }
      ]
    },
    {
      "cell_type": "markdown",
      "source": [
        "**3. Write a Python Program to Calculate your Body Mass Index ?**"
      ],
      "metadata": {
        "id": "uHCyYBpPAu3J"
      }
    },
    {
      "cell_type": "code",
      "source": [
        "def calculateBmi():\n",
        "    in_weight = eval(input('Enter your Weight(kgs): '))\n",
        "    in_height = eval(input('Enter your Height(mts): '))\n",
        "    calc_bmi = in_weight/pow(in_height,2)\n",
        "    if (calc_bmi < 18.5):\n",
        "        status = 'Underweight'\n",
        "    elif (calc_bmi >= 18.5 and calc_bmi < 24.9):\n",
        "        status = 'Healthy'\n",
        "    elif (calc_bmi >= 24.9 and calc_bmi < 30):\n",
        "        status = 'Overweight'\n",
        "    elif (calc_bmi >=30):\n",
        "        status = 'Suffering from Obesity'\n",
        "    print(f'Your\\'re BMI is {calc_bmi} and status is {status} ')\n",
        "calculateBmi()\n",
        "\n"
      ],
      "metadata": {
        "colab": {
          "base_uri": "https://localhost:8080/"
        },
        "id": "433gNeMxAsR8",
        "outputId": "be34eaaa-26bc-4687-cf7c-62d8358def3a"
      },
      "execution_count": 5,
      "outputs": [
        {
          "output_type": "stream",
          "name": "stdout",
          "text": [
            "Enter your Weight(kgs): 70\n",
            "Enter your Height(mts): 1.8\n",
            "Your're BMI is 21.604938271604937 and status is Healthy \n"
          ]
        }
      ]
    },
    {
      "cell_type": "markdown",
      "source": [
        "**4. Write a Python Program to Calculate the Natural Logarithm of any Number ?**"
      ],
      "metadata": {
        "id": "SvR243zXBLhW"
      }
    },
    {
      "cell_type": "code",
      "source": [
        "import math\n",
        "def genNatLog():\n",
        "    num = eval(input(\"Enter a Number:\"))\n",
        "    print(math.log(num))\n",
        "\n",
        "genNatLog()\n"
      ],
      "metadata": {
        "colab": {
          "base_uri": "https://localhost:8080/"
        },
        "id": "zj6CW4aHBNYI",
        "outputId": "284fad5c-f7b8-4a9b-86a5-4f5defb90f6d"
      },
      "execution_count": 6,
      "outputs": [
        {
          "output_type": "stream",
          "name": "stdout",
          "text": [
            "Enter a Number:22\n",
            "3.091042453358316\n"
          ]
        }
      ]
    },
    {
      "cell_type": "markdown",
      "source": [
        "**5. Write a Python Program for Cube sum of first n Natural Numbers ?**"
      ],
      "metadata": {
        "id": "jURL8o5VBWx4"
      }
    },
    {
      "cell_type": "code",
      "source": [
        "def cubeOfNaturalNumbers():\n",
        "    num = int(input(\"Enter the no of Natural Numbers: \"))\n",
        "    result = pow(((num * (num +1))/2),2)\n",
        "    print(f'The Cube Sum of First {num} Natural Numbers is {result}')\n",
        "\n",
        "cubeOfNaturalNumbers()"
      ],
      "metadata": {
        "colab": {
          "base_uri": "https://localhost:8080/"
        },
        "id": "n6k2CLQBA_Cn",
        "outputId": "e8d4c81b-170f-4e67-c783-d75f84dbca8e"
      },
      "execution_count": 8,
      "outputs": [
        {
          "output_type": "stream",
          "name": "stdout",
          "text": [
            "Enter the no of Natural Numbers: 3\n",
            "The Cube Sum of First 3 Natural Numbers is 36.0\n"
          ]
        }
      ]
    }
  ]
}