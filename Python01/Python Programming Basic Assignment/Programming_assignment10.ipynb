{
  "nbformat": 4,
  "nbformat_minor": 0,
  "metadata": {
    "colab": {
      "provenance": []
    },
    "kernelspec": {
      "name": "python3",
      "display_name": "Python 3"
    },
    "language_info": {
      "name": "python"
    }
  },
  "cells": [
    {
      "cell_type": "markdown",
      "source": [
        "# **Assignment 10 solutions**"
      ],
      "metadata": {
        "id": "BtkwSXbSDdG7"
      }
    },
    {
      "cell_type": "markdown",
      "source": [
        "**1.Write a Python Program to find sum of elements in a list ?**"
      ],
      "metadata": {
        "id": "ctPJC19CxV16"
      }
    },
    {
      "cell_type": "code",
      "source": [
        "def sumofList():\n",
        "    ele = int(input('Enter the No of Entries in a List: '))\n",
        "    list1 = []\n",
        "    for itr in range(ele):\n",
        "        list1.append(int(input('Enter a element: ')))\n",
        "    print(f'Sum of Elements: {sum(list1)}')\n",
        "\n",
        "sumofList()"
      ],
      "metadata": {
        "colab": {
          "base_uri": "https://localhost:8080/"
        },
        "id": "vj-U-dTixYT7",
        "outputId": "0bb2ead9-0978-4d73-d309-b9fd7b51609e"
      },
      "execution_count": 1,
      "outputs": [
        {
          "output_type": "stream",
          "name": "stdout",
          "text": [
            "Enter the No of Entries in a List: 5\n",
            "Enter a element: 1\n",
            "Enter a element: 4\n",
            "Enter a element: 5\n",
            "Enter a element: 5\n",
            "Enter a element: 8\n",
            "Sum of Elements: 23\n"
          ]
        }
      ]
    },
    {
      "cell_type": "markdown",
      "source": [
        "**2.Write a Python Program to multiply all numbers in the list ?**"
      ],
      "metadata": {
        "id": "Jg6BiwVSxYAc"
      }
    },
    {
      "cell_type": "code",
      "source": [
        "def MulofList():\n",
        "    ele = int(input(\"Enter the No of Entries in a List: \"))\n",
        "    list2 = []\n",
        "    Mul = 1\n",
        "    for i in range(ele):\n",
        "        list2.append(int(input(\"Enter thg element : \")))\n",
        "    for ele in list2:\n",
        "        Mul = Mul * ele\n",
        "    print(\"Multiply of Elements: \",Mul)\n",
        "\n",
        "MulofList()"
      ],
      "metadata": {
        "id": "fU2f1C_kyWyD"
      },
      "execution_count": null,
      "outputs": []
    },
    {
      "cell_type": "markdown",
      "source": [
        "**3.Write a Python Program to find smallest number in the list ?**"
      ],
      "metadata": {
        "id": "seiZkMQ9z6In"
      }
    },
    {
      "cell_type": "code",
      "source": [
        "def SmallestNumber ():\n",
        "    ele = int(input(\"enter the No of Elements in a List : \"))\n",
        "    list3 = []\n",
        "    for i in range(ele):\n",
        "        list3.append(int(input((\"Enter a Element: \"))))\n",
        "    print(f'The Smallest Element in {list3} is {sorted(list3)[0]}')\n",
        "\n",
        "SmallestNumber ()"
      ],
      "metadata": {
        "colab": {
          "base_uri": "https://localhost:8080/"
        },
        "id": "egloh-Pjy3P2",
        "outputId": "71028fb0-3dca-4679-dd73-f38d7d753bae"
      },
      "execution_count": 3,
      "outputs": [
        {
          "output_type": "stream",
          "name": "stdout",
          "text": [
            "enter the No of Elements in a List : 3\n",
            "Enter a Element: 30\n",
            "Enter a Element: 10\n",
            "Enter a Element: 50\n",
            "The Smallest Element in [30, 10, 50] is 10\n"
          ]
        }
      ]
    },
    {
      "cell_type": "markdown",
      "source": [
        "**4.Write a Python Program to find largest number in the list ?**"
      ],
      "metadata": {
        "id": "2cB1azj82BlN"
      }
    },
    {
      "cell_type": "code",
      "source": [
        "def largestNumber():\n",
        "    ele = int(input('Enter the No of elements in a list: '))\n",
        "    list4 = []\n",
        "    for ele in range(ele):\n",
        "        list4.append(int(input('Enter a Element: ')))\n",
        "    print(f'The Largest Element in {list4} is {sorted(list4, reverse=True)[0]}')\n",
        "\n",
        "largestNumber()"
      ],
      "metadata": {
        "colab": {
          "base_uri": "https://localhost:8080/"
        },
        "id": "8JJ8pl6n2Bdm",
        "outputId": "12217d9e-0023-4bda-e4a0-3e9d87676a0a"
      },
      "execution_count": 10,
      "outputs": [
        {
          "output_type": "stream",
          "name": "stdout",
          "text": [
            "Enter the No of elements in a list: 3\n",
            "Enter a Element: 30\n",
            "Enter a Element: 10\n",
            "Enter a Element: 50\n",
            "The Largest Element in [30, 10, 50] is 50\n"
          ]
        }
      ]
    },
    {
      "cell_type": "markdown",
      "source": [
        "**5.Write a Python Program to find second largest number in the list ?**"
      ],
      "metadata": {
        "id": "p-nv-xvE2XoN"
      }
    },
    {
      "cell_type": "code",
      "source": [
        "def SeclargestNumber():\n",
        "    ele = int(input('Enter the No of elements in a list: '))\n",
        "    list4 = []\n",
        "    for ele in range(ele):\n",
        "        list4.append(int(input('Enter a Element: ')))\n",
        "    print(f'The Largest Element in {list4} is {sorted(list4, reverse=True)[1]}')\n",
        "\n",
        "SeclargestNumber()"
      ],
      "metadata": {
        "colab": {
          "base_uri": "https://localhost:8080/"
        },
        "id": "3b1yRLk21gTn",
        "outputId": "b1d1f761-a457-4706-863e-4d6052ec0603"
      },
      "execution_count": 5,
      "outputs": [
        {
          "output_type": "stream",
          "name": "stdout",
          "text": [
            "Enter the No of elements in a list: 3\n",
            "Enter a Element: 30\n",
            "Enter a Element: 10\n",
            "Enter a Element: 50\n",
            "The Largest Element in [30, 10, 50] is 30\n"
          ]
        }
      ]
    },
    {
      "cell_type": "markdown",
      "source": [
        "**6.Write a Python Program to find N largest elements in the list ?**"
      ],
      "metadata": {
        "id": "sc9CN_pW2qRz"
      }
    },
    {
      "cell_type": "code",
      "source": [
        "def nLargestNumberinList(A):\n",
        "    ele = int(input('Enter the No of Number in a list: '))\n",
        "    list5 = []\n",
        "    for i in range(ele):\n",
        "        list5.append(int(input('Enter a Number: ')))\n",
        "    print(f'The {A} Largest number in {list5} is {sorted(list5, reverse=True)[0:A]}')\n",
        "\n",
        "nLargestNumberinList(3)"
      ],
      "metadata": {
        "colab": {
          "base_uri": "https://localhost:8080/"
        },
        "id": "92j4s_8a2iP7",
        "outputId": "f6875788-de31-4df1-8f00-599c69018554"
      },
      "execution_count": 6,
      "outputs": [
        {
          "output_type": "stream",
          "name": "stdout",
          "text": [
            "Enter the No of Number in a list: 3\n",
            "Enter a Number: 30\n",
            "Enter a Number: 10\n",
            "Enter a Number: 50\n",
            "The 3 Largest number in [30, 10, 50] is [50, 30, 10]\n"
          ]
        }
      ]
    },
    {
      "cell_type": "markdown",
      "source": [
        "**7.Write a Python Program to find even numbers in the list ?**"
      ],
      "metadata": {
        "id": "lkwZk22e3HzR"
      }
    },
    {
      "cell_type": "code",
      "source": [
        "def evenNoInList():\n",
        "    ele = int(input('Enter the No of elements in a list: '))\n",
        "    list6 = []\n",
        "    even_list = []\n",
        "    for i in range(ele):\n",
        "        list6.append(int(input('Enter a Element: ')))\n",
        "    for i in list6:\n",
        "        if i%2 == 0:\n",
        "            even_list.append(i)\n",
        "    print(f'The Even Elements in {list6} are {even_list}')\n",
        "\n",
        "evenNoInList()"
      ],
      "metadata": {
        "colab": {
          "base_uri": "https://localhost:8080/"
        },
        "id": "ar28NvUi3EBv",
        "outputId": "db59919b-39b4-4c07-8343-40708e666071"
      },
      "execution_count": 7,
      "outputs": [
        {
          "output_type": "stream",
          "name": "stdout",
          "text": [
            "Enter the No of elements in a list: 6\n",
            "Enter a Element: 1\n",
            "Enter a Element: 6\n",
            "Enter a Element: 7\n",
            "Enter a Element: 5\n",
            "Enter a Element: 4\n",
            "Enter a Element: 3\n",
            "The Even Elements in [1, 6, 7, 5, 4, 3] are [6, 4]\n"
          ]
        }
      ]
    },
    {
      "cell_type": "markdown",
      "source": [
        "**8.Write a Python Program to find odd numbers in the list ?**"
      ],
      "metadata": {
        "id": "Yhubf_n538Hy"
      }
    },
    {
      "cell_type": "code",
      "source": [
        "def oddNoInList():\n",
        "    ele = int(input('Enter the No of elements in a list: '))\n",
        "    list7 = []\n",
        "    odd_list = []\n",
        "    for i in range(ele):\n",
        "        list7.append(int(input('Enter a Element: ')))\n",
        "    for i in list7:\n",
        "        if i%2 != 0:\n",
        "            odd_list.append(i)\n",
        "    print(f'The Even Elements in {list7} are {odd_list}')\n",
        "\n",
        "oddNoInList()"
      ],
      "metadata": {
        "colab": {
          "base_uri": "https://localhost:8080/"
        },
        "id": "y4kMy1k43eeT",
        "outputId": "d8e01d32-4430-45a5-dbd1-d617ad979d63"
      },
      "execution_count": 8,
      "outputs": [
        {
          "output_type": "stream",
          "name": "stdout",
          "text": [
            "Enter the No of elements in a list: 6\n",
            "Enter a Element: 1\n",
            "Enter a Element: 3\n",
            "Enter a Element: 4\n",
            "Enter a Element: 6\n",
            "Enter a Element: 9\n",
            "Enter a Element: 2\n",
            "The Even Elements in [1, 3, 4, 6, 9, 2] are [1, 3, 9]\n"
          ]
        }
      ]
    },
    {
      "cell_type": "markdown",
      "source": [
        "**9.Write a Python Program to remove empty list from list ?**"
      ],
      "metadata": {
        "id": "UB71aa_64VyN"
      }
    },
    {
      "cell_type": "code",
      "source": [
        "def checkEmpList():\n",
        "    list8 = eval(input('Enter all elements of the list: '))\n",
        "    if [] in list8:\n",
        "        print(f'There is an Empty list in {list8} at Position {list8.index([])}')\n",
        "        list8.remove([])\n",
        "\n",
        "        print(f'The List after removing [] is {list8}')\n",
        "        \n",
        "checkEmpList()"
      ],
      "metadata": {
        "colab": {
          "base_uri": "https://localhost:8080/",
          "height": 356
        },
        "id": "Pn6Hortq4QB7",
        "outputId": "75e83fd3-8658-46cd-b1b3-43af8c7958e7"
      },
      "execution_count": 17,
      "outputs": [
        {
          "output_type": "stream",
          "name": "stdout",
          "text": [
            "Enter all elements of the list: 4,5,8,[],7,2\n",
            "There is an Empty list in (4, 5, 8, [], 7, 2) at Position 3\n"
          ]
        },
        {
          "output_type": "error",
          "ename": "AttributeError",
          "evalue": "ignored",
          "traceback": [
            "\u001b[0;31m---------------------------------------------------------------------------\u001b[0m",
            "\u001b[0;31mAttributeError\u001b[0m                            Traceback (most recent call last)",
            "\u001b[0;32m<ipython-input-17-d5d693c44a6f>\u001b[0m in \u001b[0;36m<module>\u001b[0;34m\u001b[0m\n\u001b[1;32m      7\u001b[0m         \u001b[0mprint\u001b[0m\u001b[0;34m(\u001b[0m\u001b[0;34mf'The List after removing [] is {list8}'\u001b[0m\u001b[0;34m)\u001b[0m\u001b[0;34m\u001b[0m\u001b[0;34m\u001b[0m\u001b[0m\n\u001b[1;32m      8\u001b[0m \u001b[0;34m\u001b[0m\u001b[0m\n\u001b[0;32m----> 9\u001b[0;31m \u001b[0mcheckEmpList\u001b[0m\u001b[0;34m(\u001b[0m\u001b[0;34m)\u001b[0m\u001b[0;34m\u001b[0m\u001b[0;34m\u001b[0m\u001b[0m\n\u001b[0m",
            "\u001b[0;32m<ipython-input-17-d5d693c44a6f>\u001b[0m in \u001b[0;36mcheckEmpList\u001b[0;34m()\u001b[0m\n\u001b[1;32m      3\u001b[0m     \u001b[0;32mif\u001b[0m \u001b[0;34m[\u001b[0m\u001b[0;34m]\u001b[0m \u001b[0;32min\u001b[0m \u001b[0mlist8\u001b[0m\u001b[0;34m:\u001b[0m\u001b[0;34m\u001b[0m\u001b[0;34m\u001b[0m\u001b[0m\n\u001b[1;32m      4\u001b[0m         \u001b[0mprint\u001b[0m\u001b[0;34m(\u001b[0m\u001b[0;34mf'There is an Empty list in {list8} at Position {list8.index([])}'\u001b[0m\u001b[0;34m)\u001b[0m\u001b[0;34m\u001b[0m\u001b[0;34m\u001b[0m\u001b[0m\n\u001b[0;32m----> 5\u001b[0;31m         \u001b[0mlist8\u001b[0m\u001b[0;34m.\u001b[0m\u001b[0mremove\u001b[0m\u001b[0;34m(\u001b[0m\u001b[0;34m[\u001b[0m\u001b[0;34m]\u001b[0m\u001b[0;34m)\u001b[0m\u001b[0;34m\u001b[0m\u001b[0;34m\u001b[0m\u001b[0m\n\u001b[0m\u001b[1;32m      6\u001b[0m \u001b[0;34m\u001b[0m\u001b[0m\n\u001b[1;32m      7\u001b[0m         \u001b[0mprint\u001b[0m\u001b[0;34m(\u001b[0m\u001b[0;34mf'The List after removing [] is {list8}'\u001b[0m\u001b[0;34m)\u001b[0m\u001b[0;34m\u001b[0m\u001b[0;34m\u001b[0m\u001b[0m\n",
            "\u001b[0;31mAttributeError\u001b[0m: 'tuple' object has no attribute 'remove'"
          ]
        }
      ]
    },
    {
      "cell_type": "code",
      "source": [
        "#example 2\n",
        "\n",
        "l = [[], 101, 31, [1,4,4,8,2, -23] , [1], [], [123.23], [], 2, 321]\n",
        "\n",
        "result = []\n",
        "for i in l:\n",
        "    if type(i) == list:\n",
        "        if len(i) != 0:\n",
        "            result.append(i)\n",
        "    else:\n",
        "        result.append(i)\n",
        "\n",
        "result"
      ],
      "metadata": {
        "id": "P7dqD2kS416b"
      },
      "execution_count": null,
      "outputs": []
    },
    {
      "cell_type": "markdown",
      "source": [
        "**10. Write a Python program to Cloning or Copying a list?**"
      ],
      "metadata": {
        "id": "lVmM3sYF7cYV"
      }
    },
    {
      "cell_type": "code",
      "source": [
        "list9 = [2,11,25,'potdar',68,94,52,71,320,'Abhi']\n",
        "list10 = []\n",
        "\n",
        "for i in list9:\n",
        "    list10.append(i)\n",
        "print    \n",
        "print('copied list is :',list10)"
      ],
      "metadata": {
        "colab": {
          "base_uri": "https://localhost:8080/"
        },
        "id": "KphP6RCd7gJe",
        "outputId": "3c452aa2-dc6e-47f3-dc32-950a0d08df32"
      },
      "execution_count": 18,
      "outputs": [
        {
          "output_type": "stream",
          "name": "stdout",
          "text": [
            "copied list is : [2, 11, 25, 'potdar', 68, 94, 52, 71, 320, 'Abhi']\n"
          ]
        }
      ]
    },
    {
      "cell_type": "markdown",
      "source": [
        "**11. Write a Python program to Count occurrences of an element in a list?**"
      ],
      "metadata": {
        "id": "rDLf_sozC3VQ"
      }
    },
    {
      "cell_type": "code",
      "source": [
        "def countX(lst, x):\n",
        "    count = 0\n",
        "    for ele in lst:\n",
        "        if (ele == x):\n",
        "            count = count + 1\n",
        "    return count\n",
        " \n",
        " \n",
        "# Driver Code\n",
        "lst = [8, 6, 8, 10, 8, 20, 10, 8, 8]\n",
        "x = 8\n",
        "print('{} has occurred {} times'.format(x,\n",
        "                                        countX(lst, x)))"
      ],
      "metadata": {
        "colab": {
          "base_uri": "https://localhost:8080/"
        },
        "id": "Kfi2FmA57S4Y",
        "outputId": "e0074f57-cafe-4e88-dd05-ee79b5920fcc"
      },
      "execution_count": 19,
      "outputs": [
        {
          "output_type": "stream",
          "name": "stdout",
          "text": [
            "8 has occurred 5 times\n"
          ]
        }
      ]
    },
    {
      "cell_type": "markdown",
      "source": [],
      "metadata": {
        "id": "725gDQ_rDbvN"
      }
    }
  ]
}