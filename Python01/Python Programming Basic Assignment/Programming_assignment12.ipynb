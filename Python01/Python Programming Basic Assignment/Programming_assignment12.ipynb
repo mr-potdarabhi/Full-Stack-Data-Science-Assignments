{
  "nbformat": 4,
  "nbformat_minor": 0,
  "metadata": {
    "colab": {
      "provenance": []
    },
    "kernelspec": {
      "name": "python3",
      "display_name": "Python 3"
    },
    "language_info": {
      "name": "python"
    }
  },
  "cells": [
    {
      "cell_type": "markdown",
      "source": [
        "# **Assignment12** "
      ],
      "metadata": {
        "id": "Fvtn_f97eaQH"
      }
    },
    {
      "cell_type": "markdown",
      "source": [
        "**1. Write a Python program to Extract Unique values dictionary values?**"
      ],
      "metadata": {
        "id": "NkXfplmaRpAd"
      }
    },
    {
      "cell_type": "code",
      "source": [
        "dict = {1 : 'Kawaski', 2 : 'BMW' , 3 : 'Benelli ' , 4 : 'Ducati', 5 : 'BMW' , 6  : 'Benelli'}\n",
        "print(dict.values())\n",
        "print(f'Unique Values: {list(set(dict.values()))}')"
      ],
      "metadata": {
        "colab": {
          "base_uri": "https://localhost:8080/"
        },
        "id": "3dW1gnhoT86o",
        "outputId": "4a9b9842-5a9a-43fa-ae99-a13dd8ac95dc"
      },
      "execution_count": 24,
      "outputs": [
        {
          "output_type": "stream",
          "name": "stdout",
          "text": [
            "dict_values(['Kawaski', 'BMW', 'Benelli ', 'Ducati', 'BMW', 'Benelli'])\n",
            "Unique Values: ['BMW', 'Kawaski', 'Benelli ', 'Benelli', 'Ducati']\n"
          ]
        }
      ]
    },
    {
      "cell_type": "markdown",
      "source": [
        "**2. Write a Python program to find the sum of all items in a dictionary?**"
      ],
      "metadata": {
        "id": "o3UcofDvRsIi"
      }
    },
    {
      "cell_type": "code",
      "source": [
        "dict1 = {'Kawaski_z_cc':900,'BMW_GS_cc':1250,'Benelli_i_cc':600,'Ducati_panigale_cc':1103,'Triumph_Rocket_cc': 2458 }\n",
        "print('Sum of All bikes CC is : ',sum((dict1.values())))"
      ],
      "metadata": {
        "colab": {
          "base_uri": "https://localhost:8080/"
        },
        "id": "IEkX3vKqUKop",
        "outputId": "b1943768-9245-4a1c-fefa-3a1ab7091966"
      },
      "execution_count": 8,
      "outputs": [
        {
          "output_type": "stream",
          "name": "stdout",
          "text": [
            "Sum of All bikes CC is :  6311\n"
          ]
        }
      ]
    },
    {
      "cell_type": "markdown",
      "source": [
        "**3. Write a Python program to Merging two Dictionaries?**"
      ],
      "metadata": {
        "id": "yVZXScpOWZHm"
      }
    },
    {
      "cell_type": "code",
      "source": [
        "def merge(a,b):\n",
        "    for item in dict2.items():\n",
        "      a.setdefault(item[0], item[1])\n",
        "    print(f\"merging dict2 into dict1: {a} \")\n",
        "\n",
        "dict1 = { 'Kawaski_z_cc':900,'BMW_GS_cc':1250}\n",
        "dict2 = { 'Benelli_i_cc':600,'Ducati_panigale_cc':1103,'Triumph_Rocket_cc': 2458}\n",
        "merge(dict1,dict2)"
      ],
      "metadata": {
        "colab": {
          "base_uri": "https://localhost:8080/"
        },
        "id": "OVGL05ObWOZ4",
        "outputId": "be57e69c-f313-4786-dc7c-262f86f49b1d"
      },
      "execution_count": 12,
      "outputs": [
        {
          "output_type": "stream",
          "name": "stdout",
          "text": [
            "merging dict2 into dict1: {'Kawaski_z_cc': 900, 'BMW_GS_cc': 1250, 'Benelli_i_cc': 600, 'Ducati_panigale_cc': 1103, 'Triumph_Rocket_cc': 2458} \n"
          ]
        }
      ]
    },
    {
      "cell_type": "markdown",
      "source": [
        "**4. Write a Python program to convert key-values list to flat dictionary?**"
      ],
      "metadata": {
        "id": "JPlJ0LP1XHr1"
      }
    },
    {
      "cell_type": "code",
      "source": [
        "list1 = [('A',15),('B',25),('C',35),('D',45),('E',55),('F',65),('G',75),('H',85),('I',95),('J',105)]\n",
        "\n",
        "# Method #1\n",
        "#ict(list1)\n",
        "\n",
        "# Method #2\n",
        "out_dict = {}\n",
        "for i in list1:\n",
        "    out_dict[i[0]] = i[1]\n",
        "print(out_dict)"
      ],
      "metadata": {
        "colab": {
          "base_uri": "https://localhost:8080/"
        },
        "id": "NiptksBJW0Uu",
        "outputId": "6cdbcdba-b15c-407e-e969-c0ce8d9d3f5f"
      },
      "execution_count": 16,
      "outputs": [
        {
          "output_type": "stream",
          "name": "stdout",
          "text": [
            "{'A': 15, 'B': 25, 'C': 35, 'D': 45, 'E': 55, 'F': 65, 'G': 75, 'H': 85, 'I': 95, 'J': 105}\n"
          ]
        }
      ]
    },
    {
      "cell_type": "markdown",
      "source": [
        "**5. Write a Python program to insertion at the beginning in OrderedDict?**"
      ],
      "metadata": {
        "id": "g3PlagieYF0v"
      }
    },
    {
      "cell_type": "code",
      "source": [
        "from collections import OrderedDict\n",
        "  \n",
        "# initialising ordered_dict\n",
        "\n",
        "iniordered_dict = OrderedDict([('class', '10'), ('Ineuron', '20')]) \n",
        "# inserting items in starting of dict \n",
        "iniordered_dict.update({'FDS':'17770'})\n",
        "iniordered_dict.move_to_end('FDS', last = False)\n",
        "  \n",
        "# print result\n",
        "print (\"Ordered Dictionary after insertion : \"+str(iniordered_dict))"
      ],
      "metadata": {
        "colab": {
          "base_uri": "https://localhost:8080/"
        },
        "id": "InkSZaTiYLQU",
        "outputId": "799be40a-94e1-4acb-a4e0-d98c5a546506"
      },
      "execution_count": 19,
      "outputs": [
        {
          "output_type": "stream",
          "name": "stdout",
          "text": [
            "Ordered Dictionary after insertion : OrderedDict([('FDS', '17770'), ('class', '10'), ('Ineuron', '20')])\n"
          ]
        }
      ]
    },
    {
      "cell_type": "markdown",
      "source": [
        "**6. Write a Python program to check order of character in string using OrderedDict()?**"
      ],
      "metadata": {
        "id": "dq1D6_yRZPvl"
      }
    },
    {
      "cell_type": "code",
      "source": [
        "from collections import OrderedDict\n",
        "dict5 = OrderedDict({'Apple':'App_Store','Microsoft':'Microsoft_Store'})\n",
        "print('dict5',dict5)\n",
        "dict6 = {'Android':'Play_Store'}\n",
        "dict5.update(dict6)\n",
        "print('dict5',dict5)\n",
        "dict5.move_to_end('Android',last=False)\n",
        "print('dict5',dict5)"
      ],
      "metadata": {
        "colab": {
          "base_uri": "https://localhost:8080/"
        },
        "id": "XftVSiX_XxZB",
        "outputId": "a9cb6daa-7cb4-4232-daf2-ee1f1ed533c8"
      },
      "execution_count": 21,
      "outputs": [
        {
          "output_type": "stream",
          "name": "stdout",
          "text": [
            "dict5 OrderedDict([('Apple', 'App_Store'), ('Microsoft', 'Microsoft_Store')])\n",
            "dict5 OrderedDict([('Apple', 'App_Store'), ('Microsoft', 'Microsoft_Store'), ('Android', 'Play_Store')])\n",
            "dict5 OrderedDict([('Android', 'Play_Store'), ('Apple', 'App_Store'), ('Microsoft', 'Microsoft_Store')])\n"
          ]
        }
      ]
    },
    {
      "cell_type": "markdown",
      "source": [
        "**7. Write a Python program to sort Python Dictionaries by Key or Value?**"
      ],
      "metadata": {
        "id": "5DtUS391dObu"
      }
    },
    {
      "cell_type": "code",
      "source": [
        "b = {'key1':2, 'key2':1, 'key3':3, 'key4':4 ,'key5':6, 'key6':7}\n",
        "#this will print a sorted list of the keys\n",
        "print(sorted(b.keys()))\n",
        "#this will print the sorted list with items.\n",
        "print(sorted(b.items()))\n",
        "#a = {1:2 ,2:1 ,4:3 ,3:4 ,6:5 ,5:6 }\n",
        "print(sorted(b.values()))\n",
        "#this will print a sorted list of values."
      ],
      "metadata": {
        "colab": {
          "base_uri": "https://localhost:8080/"
        },
        "id": "8gUwFlxvaPH9",
        "outputId": "043a3a2e-9dda-4d07-b504-8a3df3b0ba8c"
      },
      "execution_count": 23,
      "outputs": [
        {
          "output_type": "stream",
          "name": "stdout",
          "text": [
            "['key1', 'key2', 'key3', 'key4', 'key5', 'key6']\n",
            "[('key1', 2), ('key2', 1), ('key3', 3), ('key4', 4), ('key5', 6), ('key6', 7)]\n",
            "[1, 2, 3, 4, 6, 7]\n"
          ]
        }
      ]
    }
  ]
}