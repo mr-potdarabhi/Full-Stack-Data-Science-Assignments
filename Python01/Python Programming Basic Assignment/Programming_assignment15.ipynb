{
 "cells": [
  {
   "cell_type": "markdown",
   "id": "505f5a3c",
   "metadata": {},
   "source": [
    "# Assignment 15 "
   ]
  },
  {
   "cell_type": "markdown",
   "id": "3583bdfb",
   "metadata": {},
   "source": [
    "**1. Please write a program using generator to print the numbers which can be divisible by 5 and 7 between 0 and n in comma separated form while n is input by console ?**\n",
    "\n",
    "\n",
    "**Example:**\n",
    "If the following n is given as input to the program: 100\\\n",
    "Then, the output of the program should be: 0,35,70"
   ]
  },
  {
   "cell_type": "code",
   "execution_count": 1,
   "id": "a6cca0d9",
   "metadata": {},
   "outputs": [
    {
     "name": "stdout",
     "output_type": "stream",
     "text": [
      "0 35 70 "
     ]
    }
   ],
   "source": [
    "def divisible(in_num):\n",
    "    for i in range(0,in_num):\n",
    "        if (i%5 == 0) and (i%7 == 0):\n",
    "            yield i\n",
    "for i in divisible(100):\n",
    "    print(i,end=' ')"
   ]
  },
  {
   "cell_type": "markdown",
   "id": "908f2176",
   "metadata": {},
   "source": [
    "**2.Please write a program using generator to print the even numbers between 0 and n in comma separated form while n is input by console ?**\n",
    "\n",
    "**Example:**\n",
    "If the following n is given as input to the program: 10\\\n",
    "Then, the output of the program should be: 0,2,4,6,8,10"
   ]
  },
  {
   "cell_type": "code",
   "execution_count": 2,
   "id": "5165038e",
   "metadata": {},
   "outputs": [
    {
     "name": "stdout",
     "output_type": "stream",
     "text": [
      "0 2 4 6 8 10 "
     ]
    }
   ],
   "source": [
    "def even_numbers(in_num):\n",
    "    for i in range(in_num+1):\n",
    "        if i%2==0:\n",
    "            yield i\n",
    "for i in even_numbers(10):\n",
    "    print(i,end=' ')"
   ]
  },
  {
   "cell_type": "markdown",
   "id": "271f8e8f",
   "metadata": {},
   "source": [
    "**3.The Fibonacci Sequence is computed based on the following formula below, Please write a program using list comprehension to print the Fibonacci Sequence in comma separated form with a given n input by console ?**\n",
    "\n",
    "`f(n)=0 if n=0 f(n)=1 if n=1 f(n)=f(n-1)+f(n-2) if n>1`"
   ]
  },
  {
   "cell_type": "code",
   "execution_count": 3,
   "id": "3b35191d",
   "metadata": {},
   "outputs": [
    {
     "name": "stdout",
     "output_type": "stream",
     "text": [
      "[0, 1, 1, 2, 3, 5, 8, 13, 21, 34, 55, 89, 144, 233, 377, 610, 987, 1597, 2584, 4181]\n"
     ]
    }
   ],
   "source": [
    "def fibonaci(in_num):\n",
    "    if in_num == 0:\n",
    "        return 0\n",
    "    elif in_num == 1:\n",
    "        return 1\n",
    "    else:\n",
    "        return fibonaci(in_num-1)+fibonaci(in_num-2)\n",
    "    \n",
    "print([fibonaci(x) for x in range(20)])"
   ]
  },
  {
   "cell_type": "markdown",
   "id": "8f242802",
   "metadata": {},
   "source": [
    "**4.Assuming that we have some email addresses in the \"username@companyname.com\" format, please write program to print the user name of a given email address. Both user names and company names are composed of letters only ?**\n",
    "\n",
    "**Example:**\n",
    "If the following email address is given as input to the program: `john@google.com`\\\n",
    "Then, the output of the program should be: `john`"
   ]
  },
  {
   "cell_type": "code",
   "execution_count": 4,
   "id": "3e453f00",
   "metadata": {},
   "outputs": [
    {
     "name": "stdout",
     "output_type": "stream",
     "text": [
      "Enter Email Address(es): mr.potdarabhi@gmail.com\n",
      "Username of mr.potdarabhi@gmail.com is mr.potdarabhi\n",
      "Enter Email Address(es): support.query@spliter.com\n",
      "Username of support.query@spliter.com is support.query\n",
      "Enter Email Address(es): abhipotdar@gmail.com\n",
      "Username of abhipotdar@gmail.com is abhipotdar\n"
     ]
    }
   ],
   "source": [
    "def usernames():\n",
    "    in_string = input('Enter Email Address(es): ')\n",
    "    out_string = in_string.split('@')\n",
    "    print(f'Username of {in_string} is {out_string[0]}')\n",
    "\n",
    "for i in range(3):\n",
    "    usernames()"
   ]
  },
  {
   "cell_type": "markdown",
   "id": "5c3665ee",
   "metadata": {},
   "source": [
    "**5.Define a class named Shape and its subclass Square. The Square class has an init function which takes a length as argument. Both classes have a area function which can print the area of the shape where Shape's area is 0 by default.**"
   ]
  },
  {
   "cell_type": "code",
   "execution_count": 5,
   "id": "d49aa0c9",
   "metadata": {},
   "outputs": [
    {
     "name": "stdout",
     "output_type": "stream",
     "text": [
      "400\n"
     ]
    }
   ],
   "source": [
    "class Shape:\n",
    "    def area(self):\n",
    "        return 0\n",
    "\n",
    "class Square(Shape):\n",
    "    def __init__(self, length):\n",
    "        self.length = length\n",
    "    def area(self):\n",
    "        return self.length*self.length\n",
    "\n",
    "square = Square(20)\n",
    "print(square.area())"
   ]
  },
  {
   "cell_type": "code",
   "execution_count": null,
   "id": "acfa61eb",
   "metadata": {},
   "outputs": [],
   "source": []
  }
 ],
 "metadata": {
  "kernelspec": {
   "display_name": "Python 3 (ipykernel)",
   "language": "python",
   "name": "python3"
  },
  "language_info": {
   "codemirror_mode": {
    "name": "ipython",
    "version": 3
   },
   "file_extension": ".py",
   "mimetype": "text/x-python",
   "name": "python",
   "nbconvert_exporter": "python",
   "pygments_lexer": "ipython3",
   "version": "3.9.13"
  }
 },
 "nbformat": 4,
 "nbformat_minor": 5
}
