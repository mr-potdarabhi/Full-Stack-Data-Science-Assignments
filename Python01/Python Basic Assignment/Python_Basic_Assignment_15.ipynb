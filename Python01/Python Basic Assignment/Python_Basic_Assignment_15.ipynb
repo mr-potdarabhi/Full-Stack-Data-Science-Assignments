{
 "cells": [
  {
   "cell_type": "markdown",
   "id": "6ea6aafb",
   "metadata": {},
   "source": [
    "#  Assignment 15 Solutions"
   ]
  },
  {
   "cell_type": "markdown",
   "id": "a579b08a",
   "metadata": {},
   "source": [
    "**1.How many seconds are in an hour? Use the interactive interpreter as a calculator and multiply the number of seconds in a minute (60) by the number of minutes in an hour (also 60).**"
   ]
  },
  {
   "cell_type": "code",
   "execution_count": 19,
   "id": "f433d510",
   "metadata": {},
   "outputs": [
    {
     "data": {
      "text/plain": [
       "3600"
      ]
     },
     "execution_count": 19,
     "metadata": {},
     "output_type": "execute_result"
    }
   ],
   "source": [
    "60*60"
   ]
  },
  {
   "cell_type": "markdown",
   "id": "79dd8049",
   "metadata": {},
   "source": [
    "**2. Assign the result from the previous task (seconds in an hour) to a variable called seconds_per_hour.**"
   ]
  },
  {
   "cell_type": "code",
   "execution_count": 20,
   "id": "1be7fb88",
   "metadata": {},
   "outputs": [
    {
     "name": "stdout",
     "output_type": "stream",
     "text": [
      "3600\n"
     ]
    }
   ],
   "source": [
    "seconds_per_hour = 60*60\n",
    "print(seconds_per_hour)"
   ]
  },
  {
   "cell_type": "markdown",
   "id": "289e8d71",
   "metadata": {},
   "source": [
    "**3. How many seconds do you think there are in a day? Make use of the variables seconds per hour and minutes per hour.**"
   ]
  },
  {
   "cell_type": "code",
   "execution_count": 21,
   "id": "b887fe43",
   "metadata": {},
   "outputs": [
    {
     "data": {
      "text/plain": [
       "86400"
      ]
     },
     "execution_count": 21,
     "metadata": {},
     "output_type": "execute_result"
    }
   ],
   "source": [
    "24* seconds_per_hour"
   ]
  },
  {
   "cell_type": "markdown",
   "id": "b7aa3ece",
   "metadata": {},
   "source": [
    "**4. Calculate seconds per day again, but this time save the result in a variable called seconds_per_day?**"
   ]
  },
  {
   "cell_type": "code",
   "execution_count": 22,
   "id": "8bb10279",
   "metadata": {},
   "outputs": [
    {
     "data": {
      "text/plain": [
       "86400"
      ]
     },
     "execution_count": 22,
     "metadata": {},
     "output_type": "execute_result"
    }
   ],
   "source": [
    "seconds_per_day =24* seconds_per_hour\n",
    "seconds_per_day"
   ]
  },
  {
   "cell_type": "markdown",
   "id": "7c2446a5",
   "metadata": {},
   "source": [
    "**5. Divide seconds_per_day by seconds_per_hour. Use floating-point (/) division.**"
   ]
  },
  {
   "cell_type": "code",
   "execution_count": 23,
   "id": "abf1f727",
   "metadata": {},
   "outputs": [
    {
     "data": {
      "text/plain": [
       "24.0"
      ]
     },
     "execution_count": 23,
     "metadata": {},
     "output_type": "execute_result"
    }
   ],
   "source": [
    " seconds_per_day / seconds_per_hour"
   ]
  },
  {
   "cell_type": "markdown",
   "id": "b675e115",
   "metadata": {},
   "source": [
    "**6. Divide seconds_per_day by seconds_per_hour, using integer (//) division. Did this number agree\n",
    "with the floating-point value from the previous question, aside from the final .0?**"
   ]
  },
  {
   "cell_type": "code",
   "execution_count": 24,
   "id": "f7b3568c",
   "metadata": {},
   "outputs": [
    {
     "data": {
      "text/plain": [
       "24"
      ]
     },
     "execution_count": 24,
     "metadata": {},
     "output_type": "execute_result"
    }
   ],
   "source": [
    " seconds_per_day // seconds_per_hour"
   ]
  },
  {
   "cell_type": "markdown",
   "id": "838c8e27",
   "metadata": {},
   "source": [
    "**7. Write a generator, genPrimes, that returns the sequence of prime numbers on successive calls to its next() method: 2, 3, 5, 7, 11, ...**"
   ]
  },
  {
   "cell_type": "code",
   "execution_count": 25,
   "id": "ce47cc2a",
   "metadata": {},
   "outputs": [
    {
     "name": "stdout",
     "output_type": "stream",
     "text": [
      "2\n",
      "3\n",
      "5\n",
      "7\n",
      "11\n"
     ]
    }
   ],
   "source": [
    "def genPrimes(n):\n",
    "    prime_lst = []\n",
    "    \n",
    "    num = 2\n",
    "    while num <= n:\n",
    "        for i in range(2, num):\n",
    "            if num % i == 0:\n",
    "                break\n",
    "        else:\n",
    "            \n",
    "            yield num\n",
    "        num += 1\n",
    "        \n",
    "prime_num = genPrimes(17)\n",
    "print(next(prime_num))\n",
    "print(next(prime_num))\n",
    "print(next(prime_num))\n",
    "print(next(prime_num))\n",
    "print(next(prime_num))"
   ]
  }
 ],
 "metadata": {
  "kernelspec": {
   "display_name": "Python 3 (ipykernel)",
   "language": "python",
   "name": "python3"
  },
  "language_info": {
   "codemirror_mode": {
    "name": "ipython",
    "version": 3
   },
   "file_extension": ".py",
   "mimetype": "text/x-python",
   "name": "python",
   "nbconvert_exporter": "python",
   "pygments_lexer": "ipython3",
   "version": "3.9.12"
  }
 },
 "nbformat": 4,
 "nbformat_minor": 5
}
