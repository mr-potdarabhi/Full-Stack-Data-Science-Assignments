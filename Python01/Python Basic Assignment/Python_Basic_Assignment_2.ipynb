{
  "nbformat": 4,
  "nbformat_minor": 0,
  "metadata": {
    "colab": {
      "provenance": [],
      "collapsed_sections": []
    },
    "kernelspec": {
      "name": "python3",
      "display_name": "Python 3"
    },
    "language_info": {
      "name": "python"
    }
  },
  "cells": [
    {
      "cell_type": "markdown",
      "source": [
        "###1.What are the two values of the Boolean data type? How do you write them?\n",
        "\n",
        "ANS : \n",
        "\n",
        "True=1 and False=0 is value of the boolen data type.\n",
        "\n",
        "We have to use capital T and F and with the rest of the word in lowercase\n",
        "\n",
        "\n",
        "i.e True & False\n",
        "\n"
      ],
      "metadata": {
        "id": "0D5he9gA_EqK"
      }
    },
    {
      "cell_type": "markdown",
      "source": [
        "###2. What are the three different types of Boolean operators?\n",
        "ANS : The three basic boolean operators is: Not , And , Or"
      ],
      "metadata": {
        "id": "f7vGUGsV_0ob"
      }
    },
    {
      "cell_type": "code",
      "source": [
        "#EX.\n",
        "\n",
        "a=100\n",
        "b=200\n",
        "print(a>50 and b>100) # Example of boolean and\n",
        "print(a>200 or b>100) # Example of boolean or\n",
        "print(not(a>10)) # Example of boolean not"
      ],
      "metadata": {
        "colab": {
          "base_uri": "https://localhost:8080/"
        },
        "id": "f6T2mTgU17OR",
        "outputId": "0badc47e-de1b-4050-dd3e-a72914138ac7"
      },
      "execution_count": null,
      "outputs": [
        {
          "output_type": "stream",
          "name": "stdout",
          "text": [
            "True\n",
            "True\n",
            "False\n"
          ]
        }
      ]
    },
    {
      "cell_type": "markdown",
      "source": [
        "###3. Make a list of each Boolean operator's truth tables (i.e. every possible combination of Boolean values for the operator and what it evaluate ).\n",
        "---------------------------------------------\n",
        "\n",
        "ANS : TRUTH TABLE\n",
        "\n",
        "\n",
        " X  | Y  |  Not X  |  Not Y  | X or Y | X And Y\n",
        "- | - | - | - | - | - \n",
        "False| False| True|True|False|False\n",
        "False| True| True|False|True|False\n",
        "True| False| False|True|True|False\n",
        "True| True| False|False|True|True"
      ],
      "metadata": {
        "id": "BCoKFppC_DCF"
      }
    },
    {
      "cell_type": "markdown",
      "source": [
        "###4. What are the values of the following expressions?\n",
        "\n",
        "1. (5 > 4) and (3 == 5)\n",
        "\n",
        "2. not (5 > 4)\n",
        "\n",
        "3. (5 > 4) or (3 == 5)\n",
        "\n",
        "4. not ((5 > 4) or (3 == 5))\n",
        "\n",
        "5. (True and True) and (True == False)\n",
        "\n",
        "6. (not False) or (not True)\n"
      ],
      "metadata": {
        "id": "J8xd9jqxD8As"
      }
    },
    {
      "cell_type": "markdown",
      "source": [
        "1.(5 > 4) and (3 == 5)"
      ],
      "metadata": {
        "id": "XAC6ONclKnyg"
      }
    },
    {
      "cell_type": "code",
      "source": [
        "A= (5>4) # 5 is greater than 4= true\n",
        "B=(3==5) #3 is not equal to 5\n",
        "\n",
        "print(A)\n",
        "print(B)\n",
        "if A and B:\n",
        "  print(\"(5 > 4) and (3 == 5): given statement is true\")\n",
        "else:\n",
        "   print(\"(5 > 4) and (3 == 5) : given statement is false\")"
      ],
      "metadata": {
        "colab": {
          "base_uri": "https://localhost:8080/"
        },
        "id": "MQbGvRXCAQiT",
        "outputId": "887ff77e-9536-4230-a9f9-8cd2e954cfec"
      },
      "execution_count": null,
      "outputs": [
        {
          "output_type": "stream",
          "name": "stdout",
          "text": [
            "True\n",
            "False\n",
            "(5 > 4) and (3 == 5) : given statement is false\n"
          ]
        }
      ]
    },
    {
      "cell_type": "markdown",
      "source": [
        "2.Not (5>4)"
      ],
      "metadata": {
        "id": "xjy53NEJK8LO"
      }
    },
    {
      "cell_type": "code",
      "source": [
        "A = not (5>4)\n",
        "if A:\n",
        "  print(\"false\")\n",
        "else :\n",
        "  print(\"true\")"
      ],
      "metadata": {
        "colab": {
          "base_uri": "https://localhost:8080/"
        },
        "id": "boPTznYdFbtY",
        "outputId": "7e853a75-115c-4a57-d465-04bd9c03f825"
      },
      "execution_count": null,
      "outputs": [
        {
          "output_type": "stream",
          "name": "stdout",
          "text": [
            "true\n"
          ]
        }
      ]
    },
    {
      "cell_type": "markdown",
      "source": [
        "3. (5 > 4) or (3 == 5)\n",
        "Condition (1): if anyone condition is true the ans is true\n",
        "\n"
      ],
      "metadata": {
        "id": "Yip3buW3LXAY"
      }
    },
    {
      "cell_type": "code",
      "source": [
        "A= (5>4) # 5 is greater than 4= true\n",
        "B=(3==5) #3 is not equal to 5                       \n",
        "\n",
        "print(A)\n",
        "print(B)\n",
        "if A or B:\n",
        "  print(\"(5 > 4) or (3 == 5): given statement is true\")\n",
        "else:\n",
        "   print(\"(5 > 4) or (3 == 5) : given statement is false\")"
      ],
      "metadata": {
        "id": "fS-WIdTWFe7_",
        "colab": {
          "base_uri": "https://localhost:8080/"
        },
        "outputId": "c605af24-86fa-4b96-b015-b4f785830259"
      },
      "execution_count": null,
      "outputs": [
        {
          "output_type": "stream",
          "name": "stdout",
          "text": [
            "True\n",
            "False\n",
            "(5 > 4) or (3 == 5): given statement is true\n"
          ]
        }
      ]
    },
    {
      "cell_type": "markdown",
      "source": [
        "4. not ((5 > 4) or (3 == 5))\n"
      ],
      "metadata": {
        "id": "SYTZfST53dwf"
      }
    },
    {
      "cell_type": "code",
      "source": [
        "print(not((5>4)or(3==5))) # False"
      ],
      "metadata": {
        "colab": {
          "base_uri": "https://localhost:8080/"
        },
        "id": "HqOvZhM73dOG",
        "outputId": "fc7d2598-f6ea-4afd-a342-beeda1d22997"
      },
      "execution_count": null,
      "outputs": [
        {
          "output_type": "stream",
          "name": "stdout",
          "text": [
            "False\n"
          ]
        }
      ]
    },
    {
      "cell_type": "markdown",
      "source": [
        "5.(True and True) and (True == False)\n",
        "when all conditions are true the result is true"
      ],
      "metadata": {
        "id": "-TsXhQr0MtTv"
      }
    },
    {
      "cell_type": "code",
      "source": [
        "(True and True) and (True == False) #when all conditions are true \n",
        "  #the result is true\n"
      ],
      "metadata": {
        "colab": {
          "base_uri": "https://localhost:8080/"
        },
        "id": "iTvhorgQM6Hf",
        "outputId": "97b94408-48c1-486f-934e-975c6d14cb31"
      },
      "execution_count": null,
      "outputs": [
        {
          "output_type": "execute_result",
          "data": {
            "text/plain": [
              "False"
            ]
          },
          "metadata": {},
          "execution_count": 47
        }
      ]
    },
    {
      "cell_type": "markdown",
      "source": [
        "6. (not False) or (not True)\n",
        "\n",
        "\n",
        "\n"
      ],
      "metadata": {
        "id": "ywNLwkMdOF5x"
      }
    },
    {
      "cell_type": "code",
      "source": [
        "(not False) or (not True)\n",
        "A= (not False)\n",
        "B= (not True)\n",
        "print(A)\n",
        "print(B)\n",
        "if A or B:\n",
        "  print(\"statment is true\")\n",
        "else:\n",
        "  print(\"statment is false\")"
      ],
      "metadata": {
        "id": "kgqrJ6zrOJ2O",
        "colab": {
          "base_uri": "https://localhost:8080/"
        },
        "outputId": "e66a5c7a-5857-4242-838b-2d8297aae15e"
      },
      "execution_count": null,
      "outputs": [
        {
          "output_type": "stream",
          "name": "stdout",
          "text": [
            "True\n",
            "False\n",
            "statment is true\n"
          ]
        }
      ]
    },
    {
      "cell_type": "markdown",
      "source": [
        "###5. What are the six comparison operators?\n",
        "ANS : \n",
        "\n",
        "operators | meaning\n",
        "- | -\n",
        "> | Greater than\n",
        "< | Less than\n",
        ">=|Greater than equal to\n",
        "<=|Less than equal to\n",
        "==|Equal to\n",
        "!=|Not equal to\n",
        "\n",
        "\n",
        "\n",
        "\n",
        "\n",
        "\n"
      ],
      "metadata": {
        "id": "oXyO7WebXHaB"
      }
    },
    {
      "cell_type": "markdown",
      "source": [
        "###6. How do you tell the difference between the equal to(==) and assignment(=) operators?\n",
        "##Describe a condition and when you would use one.\n",
        "\n",
        "###ANS:\n",
        "Equal to (==): \n",
        "   operator checks whether the two given operands are same and give o/p in true or false.\n",
        "\n",
        "assignment (=):\n",
        "   assignment operator used to assign the value to the      veriable. \n"
      ],
      "metadata": {
        "id": "cFV8-Wp3ZXpo"
      }
    },
    {
      "cell_type": "code",
      "source": [
        "#ex of (==)\n",
        "\n",
        "A=(5==5)\n",
        "B=(4==3)\n",
        "if A:\n",
        "  print(f\"{A}:statement A right\")\n",
        "  if B:\n",
        "    print(f\"{B}: statement B is right\")\n",
        "  else:\n",
        "    print(f\"{B}: statement B is wrong\")\n",
        "else:\n",
        "   print(f\"{A}:statement A wrong\")"
      ],
      "metadata": {
        "colab": {
          "base_uri": "https://localhost:8080/"
        },
        "id": "1vnA0tYTcCbG",
        "outputId": "b5916cda-cfba-4be5-b939-48becbd75316"
      },
      "execution_count": null,
      "outputs": [
        {
          "output_type": "stream",
          "name": "stdout",
          "text": [
            "True:statement A right\n",
            "False: statement B is wrong\n"
          ]
        }
      ]
    },
    {
      "cell_type": "code",
      "source": [
        "#ex of =\n",
        "\n",
        "a=5\n",
        "\n",
        "a"
      ],
      "metadata": {
        "colab": {
          "base_uri": "https://localhost:8080/"
        },
        "id": "LZnGrl9E4uQK",
        "outputId": "ba7c1de9-a03e-4331-9185-41ce8dcf9f57"
      },
      "execution_count": null,
      "outputs": [
        {
          "output_type": "execute_result",
          "data": {
            "text/plain": [
              "5"
            ]
          },
          "metadata": {},
          "execution_count": 5
        }
      ]
    },
    {
      "cell_type": "markdown",
      "source": [
        "A=5"
      ],
      "metadata": {
        "id": "Cn6vKt2g4q9a"
      }
    },
    {
      "cell_type": "markdown",
      "source": [
        "\n",
        "###7. Identify the three blocks in this code:\n",
        "spam = 0\n",
        "\n",
        "\n",
        "if spam == 10:\n",
        "\n",
        "\n",
        "print('eggs')\n",
        "\n",
        "\n",
        "if spam > 5:\n",
        "\n",
        "\n",
        "print('bacon')\n",
        "\n",
        "\n",
        "else:\n",
        "\n",
        "\n",
        "print('ham')\n",
        "\n",
        "\n",
        "print('spam')\n",
        "\n",
        "print('spam')\n",
        "\n",
        "ans-----In Python, code block refers to a collection of code that is in the same block or indent. This is most commonly found in classes, functions, and loops."
      ],
      "metadata": {
        "id": "dEpxHW6AeIKn"
      }
    },
    {
      "cell_type": "code",
      "source": [
        "spam = 0\n",
        "if spam == 10:\n",
        " print('eggs')\n",
        "if spam > 5:\n",
        "  print('bacon')\n",
        "else:\n",
        "  print('ham')\n",
        "  print('spam')\n",
        "  print('spam')"
      ],
      "metadata": {
        "colab": {
          "base_uri": "https://localhost:8080/"
        },
        "id": "98iaSQ1-eWky",
        "outputId": "eee395cb-c795-41e2-9586-e766bb960e7d"
      },
      "execution_count": null,
      "outputs": [
        {
          "output_type": "stream",
          "name": "stdout",
          "text": [
            "ham\n",
            "spam\n",
            "spam\n"
          ]
        }
      ]
    },
    {
      "cell_type": "markdown",
      "source": [
        "###8. Write code that prints Hello if 1 is stored in spam, prints Howdy if 2 is stored in spam, and prints Greetings! if anything else is stored in spam."
      ],
      "metadata": {
        "id": "trCKRXjflwLq"
      }
    },
    {
      "cell_type": "code",
      "source": [
        "spam=int(input(\"numbers: \"))\n",
        "if spam==1:\n",
        "  print('hello')\n",
        "elif spam==2:             \n",
        "  print(\"howdy\")\n",
        "else:\n",
        "  print(\"greatings\")\n",
        "  \n"
      ],
      "metadata": {
        "colab": {
          "base_uri": "https://localhost:8080/"
        },
        "id": "amblpB9EmTx_",
        "outputId": "f0f01656-f564-4230-8899-5b422f1c26a4"
      },
      "execution_count": null,
      "outputs": [
        {
          "output_type": "stream",
          "name": "stdout",
          "text": [
            "numbers: 2\n",
            "howdy\n"
          ]
        }
      ]
    },
    {
      "cell_type": "markdown",
      "source": [
        "###9.If your programme is stuck in an endless loop, what keys you’ll press?\n",
        "ANS:\n",
        "Press Ctrl-c to stop a program stuck in an infinite loop"
      ],
      "metadata": {
        "id": "rIrbUpg4sw7F"
      }
    },
    {
      "cell_type": "markdown",
      "source": [
        "###10.How can you tell the difference between break and continue?\n",
        "\n",
        "\n",
        "\n",
        "ans---\n",
        "\n",
        "The break statement will move the execution outside the loop if break condtion is satisfied. \n",
        "\n",
        "Whereas the continue statement will move the execution to the start of the loop."
      ],
      "metadata": {
        "id": "6XjM1kIQ6Wek"
      }
    },
    {
      "cell_type": "markdown",
      "source": [
        "###11.in a for loop, what is the difference between range(10), range(0, 10), and range(0, 10, 1)?\n",
        "\n",
        "\n",
        "ans----\n",
        "\n",
        "The Differences is:\n",
        "\n",
        "1.The range(10) call range from 0 to 9 (but not include 10)\n",
        "\n",
        "2.The range (0,10) explicitly tells the loop to start at 0\n",
        "\n",
        "3.The range(0,10,1) explicitly tells the loop to increase the variable by 1 on each iteration."
      ],
      "metadata": {
        "id": "kxrd9w7s6i9A"
      }
    },
    {
      "cell_type": "markdown",
      "source": [
        "###12. Write a short program that prints the numbers 1 to 10 using a for loop. Then write an equivalent program that prints the numbers 1 to 10 using a while loop."
      ],
      "metadata": {
        "id": "7zikkofw7HuD"
      }
    },
    {
      "cell_type": "code",
      "source": [
        "print('*'*10,'Using For Loop','*'*10) \n",
        "for i in range(1,11):\n",
        "    print(i, end=\" \")\n",
        "print('\\n')\n",
        "print('*'*10,'Using For Loop','*'*10)\n",
        "i=1\n",
        "while i<=10:\n",
        "    print(i, end=\" \")\n",
        "    i+=1"
      ],
      "metadata": {
        "id": "nQFT01JBswG4",
        "colab": {
          "base_uri": "https://localhost:8080/"
        },
        "outputId": "2512f90a-1a0a-4f13-b57e-191caa651605"
      },
      "execution_count": null,
      "outputs": [
        {
          "output_type": "stream",
          "name": "stdout",
          "text": [
            "********** Using For Loop **********\n",
            "1 2 3 4 5 6 7 8 9 10 \n",
            "\n",
            "********** Using For Loop **********\n",
            "1 2 3 4 5 6 7 8 9 10 "
          ]
        }
      ]
    },
    {
      "cell_type": "markdown",
      "source": [
        "###13.If you had a function named bacon() inside a module named spam, how would you call it after importing spam?\n",
        "\n",
        "ans-----\n",
        "\n",
        "spam.bacon ()"
      ],
      "metadata": {
        "id": "tvbmRN_E8GPS"
      }
    }
  ]
}