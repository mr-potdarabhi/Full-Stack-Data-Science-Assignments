{
 "cells": [
  {
   "cell_type": "markdown",
   "id": "b0cc3442",
   "metadata": {},
   "source": [
    "# Assignment_23"
   ]
  },
  {
   "cell_type": "markdown",
   "id": "6ac6b1ce",
   "metadata": {},
   "source": [
    "**1. What is the result of the code, and why?**\n",
    "\n",
    "**`def func(a, b=6, c=8):\n",
    "    print(a, b, c)\n",
    " func(1, 2)`**"
   ]
  },
  {
   "cell_type": "code",
   "execution_count": 1,
   "id": "620446f1",
   "metadata": {},
   "outputs": [
    {
     "name": "stdout",
     "output_type": "stream",
     "text": [
      "1 2 8\n"
     ]
    }
   ],
   "source": [
    "def func(a, b=6, c=8):\n",
    "    print(a, b, c)\n",
    "func(1, 2)"
   ]
  },
  {
   "cell_type": "markdown",
   "id": "df0cffb2",
   "metadata": {},
   "source": [
    "**ANS**:func(1, 2) will print 1 2 8 on the console because as per the function func definition, the value of third parameter c is by default 8 if not passed explicitly"
   ]
  },
  {
   "cell_type": "markdown",
   "id": "54151852",
   "metadata": {},
   "source": [
    "**2. What is the result of this code, and why?**\n",
    "\n",
    "**`def func(a, b, c=5):\n",
    "    print(a, b, c)\n",
    "func(1, c=3, b=2)`**"
   ]
  },
  {
   "cell_type": "code",
   "execution_count": 3,
   "id": "05e03a17",
   "metadata": {},
   "outputs": [
    {
     "name": "stdout",
     "output_type": "stream",
     "text": [
      "1 2 3\n"
     ]
    }
   ],
   "source": [
    "def func(a, b, c=5):\n",
    "    print(a, b, c)\n",
    "func(1, c=3, b=2)"
   ]
  },
  {
   "cell_type": "markdown",
   "id": "7a29acda",
   "metadata": {},
   "source": [
    "**ANS**:Thus the value passed to a is 1, b is 2, c is 3 irrespective of the order of values c and b passed, as long as you are using named arguments"
   ]
  },
  {
   "cell_type": "markdown",
   "id": "eadee802",
   "metadata": {},
   "source": [
    "**3. How about this code: what is its result, and why?**\n",
    "    \n",
    "**`def func(a, *pargs):\n",
    "    print(a, pargs)\n",
    "func(1, 2, 3)`**"
   ]
  },
  {
   "cell_type": "code",
   "execution_count": 4,
   "id": "4de9bc19",
   "metadata": {},
   "outputs": [
    {
     "name": "stdout",
     "output_type": "stream",
     "text": [
      "1 (2, 3)\n"
     ]
    }
   ],
   "source": [
    "def func(a, *pargs):\n",
    "    print(a, pargs)\n",
    "func(1, 2, 3)"
   ]
  },
  {
   "cell_type": "markdown",
   "id": "503d4a8d",
   "metadata": {},
   "source": [
    "**ANS**:func(1, 2, 3) will prit 1 (2, 3) to the console, because the first parameter passed to the func function will be assigned to parameter a. Any other following arguments will be assigned to arbitary argument pargs which will be an iterable object of type tuple"
   ]
  },
  {
   "cell_type": "markdown",
   "id": "15a9f9a5",
   "metadata": {},
   "source": [
    "**4. What does this code print, and why?**\n",
    "\n",
    "**`def func(a, **kargs):\n",
    "    print(a, kargs)\n",
    "func(a=1, c=3, b=2)`**"
   ]
  },
  {
   "cell_type": "code",
   "execution_count": 5,
   "id": "ce7e1585",
   "metadata": {},
   "outputs": [
    {
     "name": "stdout",
     "output_type": "stream",
     "text": [
      "1 {'c': 3, 'b': 2}\n"
     ]
    }
   ],
   "source": [
    "def func(a, **kargs):\n",
    "    print(a, kargs)\n",
    "func(a=1, c=3, b=2)"
   ]
  },
  {
   "cell_type": "markdown",
   "id": "a2cda69e",
   "metadata": {},
   "source": [
    "**ANS**:func(a=1, c=3, b=2) will print 1 {'c': 3, 'b': 2} because the return type of kargs is a dictionary object"
   ]
  },
  {
   "cell_type": "markdown",
   "id": "bb8d72e7",
   "metadata": {},
   "source": [
    "\n",
    "**5. What gets printed by this, and explain?**\n",
    "\n",
    "`def func(a, b, c=8, d=5):\n",
    "    print(a, b, c, d)\n",
    "func(1, *(5, 6))`"
   ]
  },
  {
   "cell_type": "code",
   "execution_count": 7,
   "id": "44d8d43c",
   "metadata": {},
   "outputs": [
    {
     "name": "stdout",
     "output_type": "stream",
     "text": [
      "1 5 6 5\n"
     ]
    }
   ],
   "source": [
    "def func(a, b, c=8, d=5):\n",
    "    print(a, b, c, d)\n",
    "func(1, *(5, 6))"
   ]
  },
  {
   "cell_type": "markdown",
   "id": "145d473a",
   "metadata": {},
   "source": [
    "**ANS**:func(1, (5, 6)) will print 1 5 6 5 to the console. a will take the value of 1, d will default to 5 as it is not passed. (5, 6) will be read as comma seperated values and assigned to b, c respectively"
   ]
  },
  {
   "cell_type": "markdown",
   "id": "9244a637",
   "metadata": {},
   "source": [
    "**6. what is the result of this, and explain?**\n",
    "\n",
    "`def func(a, b, c):\n",
    "    a = 2; b[0] = 'x'; c['a'] = 'y'\n",
    "    l=1; m=[1]; n={'a':0}\n",
    "func(l, m, n)\n",
    "l, m, n`"
   ]
  },
  {
   "cell_type": "markdown",
   "id": "ea4c46c0",
   "metadata": {},
   "source": [
    "**ANS**:The values of l, m, n will be unchanged as the func updates the copies of these values but not the original values. So console output will be: (1, [1], {'a': 0})"
   ]
  },
  {
   "cell_type": "code",
   "execution_count": null,
   "id": "a1488245",
   "metadata": {},
   "outputs": [],
   "source": []
  },
  {
   "cell_type": "code",
   "execution_count": null,
   "id": "7f89a678",
   "metadata": {},
   "outputs": [],
   "source": []
  }
 ],
 "metadata": {
  "kernelspec": {
   "display_name": "Python 3 (ipykernel)",
   "language": "python",
   "name": "python3"
  },
  "language_info": {
   "codemirror_mode": {
    "name": "ipython",
    "version": 3
   },
   "file_extension": ".py",
   "mimetype": "text/x-python",
   "name": "python",
   "nbconvert_exporter": "python",
   "pygments_lexer": "ipython3",
   "version": "3.9.12"
  }
 },
 "nbformat": 4,
 "nbformat_minor": 5
}
