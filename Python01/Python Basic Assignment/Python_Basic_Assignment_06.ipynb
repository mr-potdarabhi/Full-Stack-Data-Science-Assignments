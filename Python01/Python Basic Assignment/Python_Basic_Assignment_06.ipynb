{
  "nbformat": 4,
  "nbformat_minor": 0,
  "metadata": {
    "colab": {
      "provenance": []
    },
    "kernelspec": {
      "name": "python3",
      "display_name": "Python 3"
    },
    "language_info": {
      "name": "python"
    }
  },
  "cells": [
    {
      "cell_type": "markdown",
      "source": [
        "# Assignment 6_Solutions"
      ],
      "metadata": {
        "id": "OmIC--dwYbuS"
      }
    },
    {
      "cell_type": "markdown",
      "source": [
        "####**1.What are Escape characters ? and how do you use them ?**"
      ],
      "metadata": {
        "id": "5UeJOnIlYoZ4"
      }
    },
    {
      "cell_type": "markdown",
      "source": [
        "**Ans**: Escape characters represent characters in string values that would otherwise be difficult or impossible to type into code. we can use the backslash character to escape a single character or symbol\n",
        "\n",
        "\n",
        "\n",
        "\n",
        "\n",
        "**example**: `\\t`, `\\n`"
      ],
      "metadata": {
        "id": "eDwzOfMqYs8D"
      }
    },
    {
      "cell_type": "markdown",
      "source": [
        "####**2.What do the escape characters n and t stand for ?**"
      ],
      "metadata": {
        "id": "xZiBj7fKY_4J"
      }
    },
    {
      "cell_type": "markdown",
      "source": [
        "**Ans**:` \\n` is a newline, `\\t` is a tab"
      ],
      "metadata": {
        "id": "sJEkHFTlZEJH"
      }
    },
    {
      "cell_type": "markdown",
      "source": [
        "####**3.What is the way to include backslash character in a string?**"
      ],
      "metadata": {
        "id": "kub7TtJZZQWn"
      }
    },
    {
      "cell_type": "markdown",
      "source": [
        "**Ans**: The `\\\\` escape character will represent the backslash character in a string"
      ],
      "metadata": {
        "id": "Q-3YDsNJZa2D"
      }
    },
    {
      "cell_type": "markdown",
      "source": [
        "####**4.The string \"Howl's Moving Castle\" is a correct value. Why isn't the single quote character in the word Howl's not escaped a problem ?**"
      ],
      "metadata": {
        "id": "p29AksnpZh09"
      }
    },
    {
      "cell_type": "markdown",
      "source": [
        "**ANS** : The string` \"Howl's Moving Castle\"` escaped the problem because it is wrapped inside `double quotes`. if its wrapped inside `single quotes` then we have to use escape character `\\`' to show single quote in the final output\n",
        "\n",
        "\n",
        "`'Howl\\'s Moving Castle' -> 'Howl's Moving Castle'`"
      ],
      "metadata": {
        "id": "EieTQ7ihZr_B"
      }
    },
    {
      "cell_type": "markdown",
      "source": [
        "####**5.How do you write a string of newlines if you don't want to use the n character?**\n"
      ],
      "metadata": {
        "id": "ILarLWDVZ9Ls"
      }
    },
    {
      "cell_type": "markdown",
      "source": [
        "**ANS** : Multiline string allow you to use newlines in string without the \\n escape character"
      ],
      "metadata": {
        "id": "rs6wl52GaF8z"
      }
    },
    {
      "cell_type": "code",
      "source": [
        "# Example:\n",
        "abhi = '''abhishek potdar\n",
        "inst-theabhipotdar'''\n",
        "print(abhi)"
      ],
      "metadata": {
        "colab": {
          "base_uri": "https://localhost:8080/"
        },
        "id": "N1HUpyA4Zhjp",
        "outputId": "f1c7dbd5-9485-456e-d16a-cd6756066149"
      },
      "execution_count": 9,
      "outputs": [
        {
          "output_type": "stream",
          "name": "stdout",
          "text": [
            "abhishek potdar\n",
            "inst-theabhipotdar\n"
          ]
        }
      ]
    },
    {
      "cell_type": "markdown",
      "source": [
        "####**6.What are the values of the given expressions ?***\n",
        "\n",
        "'Hello, world!'[1]\n",
        "\n",
        "\n",
        "'Hello, world!'[0:5]\n",
        "\n",
        "\n",
        "\n",
        "'Hello, world!'[:5]\n",
        "\n",
        "\n",
        "'Hello, world!'[3:]"
      ],
      "metadata": {
        "id": "TrBLy-Zeaeum"
      }
    },
    {
      "cell_type": "markdown",
      "source": [
        "**Ans**: The values for the given expressions are:\n",
        "\n",
        "'Hello, world!'[1] -> `'e'`\n",
        "\n",
        "'Hello, world!'[0:5] -> `'Hello'`\n",
        "\n",
        "'Hello, world!'[:5] -> `'Hello'`\n",
        "\n",
        "'Hello, world!'[3:] -> `'lo, world!'`\n"
      ],
      "metadata": {
        "id": "I8UzrFoWaijZ"
      }
    },
    {
      "cell_type": "code",
      "source": [
        "'Hello, world!'[1]"
      ],
      "metadata": {
        "colab": {
          "base_uri": "https://localhost:8080/",
          "height": 36
        },
        "id": "3trUGadSZZIS",
        "outputId": "bccc3991-6fb5-4ca3-b978-5c6db81fa048"
      },
      "execution_count": 2,
      "outputs": [
        {
          "output_type": "execute_result",
          "data": {
            "text/plain": [
              "'e'"
            ],
            "application/vnd.google.colaboratory.intrinsic+json": {
              "type": "string"
            }
          },
          "metadata": {},
          "execution_count": 2
        }
      ]
    },
    {
      "cell_type": "code",
      "source": [
        "'Hello, world!'[0:5]"
      ],
      "metadata": {
        "colab": {
          "base_uri": "https://localhost:8080/",
          "height": 36
        },
        "id": "T2cPAdwkYsa3",
        "outputId": "340aaaa8-80a3-4019-ff9a-e1167677a828"
      },
      "execution_count": 3,
      "outputs": [
        {
          "output_type": "execute_result",
          "data": {
            "text/plain": [
              "'Hello'"
            ],
            "application/vnd.google.colaboratory.intrinsic+json": {
              "type": "string"
            }
          },
          "metadata": {},
          "execution_count": 3
        }
      ]
    },
    {
      "cell_type": "code",
      "source": [
        "'Hello, world!'[:5] "
      ],
      "metadata": {
        "colab": {
          "base_uri": "https://localhost:8080/",
          "height": 36
        },
        "id": "WL9EYf_jbG3f",
        "outputId": "88988e86-a9d9-4c94-b9cb-1e0cf6ca1916"
      },
      "execution_count": 4,
      "outputs": [
        {
          "output_type": "execute_result",
          "data": {
            "text/plain": [
              "'Hello'"
            ],
            "application/vnd.google.colaboratory.intrinsic+json": {
              "type": "string"
            }
          },
          "metadata": {},
          "execution_count": 4
        }
      ]
    },
    {
      "cell_type": "code",
      "source": [
        "'Hello, world!'[3:]"
      ],
      "metadata": {
        "colab": {
          "base_uri": "https://localhost:8080/",
          "height": 36
        },
        "id": "20oFaZOtbLHG",
        "outputId": "ba2218b6-d32c-4aef-bcea-39ffe6d86cda"
      },
      "execution_count": 5,
      "outputs": [
        {
          "output_type": "execute_result",
          "data": {
            "text/plain": [
              "'lo, world!'"
            ],
            "application/vnd.google.colaboratory.intrinsic+json": {
              "type": "string"
            }
          },
          "metadata": {},
          "execution_count": 5
        }
      ]
    },
    {
      "cell_type": "markdown",
      "source": [
        "####**7.What are the values of the following expressions ?**\n",
        "\n",
        "'Hello'.upper()\n",
        "\n",
        "'Hello'.upper().isupper()\n",
        "\n",
        "'Hello'.upper().lower()"
      ],
      "metadata": {
        "id": "fHpQ1OW4bTRd"
      }
    },
    {
      "cell_type": "markdown",
      "source": [
        "**Ans**: The values for the given expressions are:\n",
        "\n",
        "\n",
        "'Hello'.upper() -> `'HELLO'`    ------------------   Upper case\n",
        "\n",
        "'Hello'.upper().isupper() -> `True`  ------------------Given word is in uppercase(true or false)\n",
        "\n",
        "'Hello'.upper().lower() ->` 'hello` ------------------   Lower case\n"
      ],
      "metadata": {
        "id": "Kb035KxDbZy9"
      }
    },
    {
      "cell_type": "markdown",
      "source": [
        "####**8.What are the values of the following expressions ?**\n",
        "'Remember, remember, the fifith of July.'.split()\n",
        "-'.join('There can only one'.split())"
      ],
      "metadata": {
        "id": "eUVx06C4cJGU"
      }
    },
    {
      "cell_type": "markdown",
      "source": [
        "**ANS** : The values for the given expressions are:\n",
        "\n",
        "`'Remember, remember, the fifith of July.'.split()` -> `['Remember,', 'remember,', 'the', 'fifith', 'of', 'July.']` \n",
        "\n",
        "\n",
        "`'-'.join('There can only one'.split())` -> 'There-can-only-one'"
      ],
      "metadata": {
        "id": "50AqXdyxcT-C"
      }
    },
    {
      "cell_type": "code",
      "source": [
        "'Remember, remember, the fifith of July.'.split()"
      ],
      "metadata": {
        "colab": {
          "base_uri": "https://localhost:8080/"
        },
        "id": "PYsYxahubPCc",
        "outputId": "6534d8e9-b513-41a6-a711-a426932df717"
      },
      "execution_count": 6,
      "outputs": [
        {
          "output_type": "execute_result",
          "data": {
            "text/plain": [
              "['Remember,', 'remember,', 'the', 'fifith', 'of', 'July.']"
            ]
          },
          "metadata": {},
          "execution_count": 6
        }
      ]
    },
    {
      "cell_type": "code",
      "source": [
        "'-'.join('There can only one'.split())"
      ],
      "metadata": {
        "colab": {
          "base_uri": "https://localhost:8080/",
          "height": 36
        },
        "id": "60TcXbNRcuX2",
        "outputId": "c73f3214-94b7-4afd-dbb4-735e1ebb802b"
      },
      "execution_count": 7,
      "outputs": [
        {
          "output_type": "execute_result",
          "data": {
            "text/plain": [
              "'There-can-only-one'"
            ],
            "application/vnd.google.colaboratory.intrinsic+json": {
              "type": "string"
            }
          },
          "metadata": {},
          "execution_count": 7
        }
      ]
    },
    {
      "cell_type": "markdown",
      "source": [
        "####**9.What are the methods for right-justifying, left-justifying and centering a string ?**"
      ],
      "metadata": {
        "id": "-iGZq1_4c0ZW"
      }
    },
    {
      "cell_type": "markdown",
      "source": [
        "**Ans**: The` rjust()`,`ljust()`,center() string methods, respectively"
      ],
      "metadata": {
        "id": "JzAe_qbtc5Lm"
      }
    },
    {
      "cell_type": "markdown",
      "source": [
        "####**10.What is the best way to remove whitespace characters from the start or end ?**"
      ],
      "metadata": {
        "id": "y7DbOyr1dB15"
      }
    },
    {
      "cell_type": "markdown",
      "source": [
        "**Ans**: The `lstrip()` and rstrip() methods remove whitesapce characters from the left and right ends of a string respectively"
      ],
      "metadata": {
        "id": "O0SR4PMkdFct"
      }
    },
    {
      "cell_type": "code",
      "source": [],
      "metadata": {
        "id": "k23m0vnmcwuq"
      },
      "execution_count": null,
      "outputs": []
    }
  ]
}