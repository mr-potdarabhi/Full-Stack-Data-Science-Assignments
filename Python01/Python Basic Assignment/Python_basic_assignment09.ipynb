{
  "nbformat": 4,
  "nbformat_minor": 0,
  "metadata": {
    "colab": {
      "provenance": []
    },
    "kernelspec": {
      "name": "python3",
      "display_name": "Python 3"
    },
    "language_info": {
      "name": "python"
    }
  },
  "cells": [
    {
      "cell_type": "markdown",
      "source": [
        "# **Assignment 9 Solutions**"
      ],
      "metadata": {
        "id": "dLuSzy254P_B"
      }
    },
    {
      "cell_type": "markdown",
      "source": [
        "**1.To what does a relative path refer ?**"
      ],
      "metadata": {
        "id": "KMZWh0S6zM-A"
      }
    },
    {
      "cell_type": "markdown",
      "source": [
        "**Ans**: The relative path is the path to some file with respect to your current working directory (PWD).\n",
        "\\\n",
        "**For example**: if Absolute path to a file called stuff.txt is: `C:/users/dell/Documents/ab.txt` If my PWD is `C:/users/dell/` , then the relative path to stuff.txt would be:` Documents/ab.txt`\n",
        "\\\n",
        "**Note**: PWD + relative path = absolute path"
      ],
      "metadata": {
        "id": "MiBZ6LeazQQ5"
      }
    },
    {
      "cell_type": "markdown",
      "source": [
        "**2.Where does an absolute path start with your Operating System ?**"
      ],
      "metadata": {
        "id": "D5I2zkAKz-Eu"
      }
    },
    {
      "cell_type": "markdown",
      "source": [
        "**Ans**: In Linux based systems the absolute path starts with `/`. Where as in Windows based systems absolute path starts with `C`:\n",
        "\n"
      ],
      "metadata": {
        "id": "IHl_1DdG0UVC"
      }
    },
    {
      "cell_type": "markdown",
      "source": [
        "**3.What does the functions `os.getcwd()` and `os.chdir()` do ?**"
      ],
      "metadata": {
        "id": "5zY0SU-t0aSA"
      }
    },
    {
      "cell_type": "markdown",
      "source": [
        "**Ans**:` os.getcwd()` method tells us the location of current working directory (CWD). Whereas `os.chdir() `method in Python used to change the current working directory to specified path. These functions are similar to linux commands `pwd` and `cd`"
      ],
      "metadata": {
        "id": "FitUldIt0hNv"
      }
    },
    {
      "cell_type": "markdown",
      "source": [
        "**4.What are . and .. folders ?**"
      ],
      "metadata": {
        "id": "Z4gE9cPm0pw5"
      }
    },
    {
      "cell_type": "markdown",
      "source": [
        "**Ans**: `.` Represents the Current Directory Whereas `..` Represents the Parent Directory of the Current Directory\n",
        "\\\n",
        "**For Example**: if the below path is my absolute path:\n",
        "`F:\\ineuron.ai FDSC\\FSDS_Bootcamp_2.o\\FSDS LIVE\\Python\\Python_Assi\\advance python assignment`\n",
        "Then `.` represents the path` F:\\ineuron.ai FDSC\\FSDS_Bootcamp_2.o\\FSDS LIVE\\Python\\Python_Assi\\advance python assignment`\n",
        "Where as `..` represents the path ` F:\\ineuron.ai FDSC\\FSDS_Bootcamp_2.o\\FSDS LIVE\\Python\\Python_Assi`"
      ],
      "metadata": {
        "id": "O9cVBtrF1ss8"
      }
    },
    {
      "cell_type": "markdown",
      "source": [
        "**5.In C:\\bacon\\eggs\\spam.txt which part is the dir name and which part is the base name ?**"
      ],
      "metadata": {
        "id": "le5DDfmM2aKW"
      }
    },
    {
      "cell_type": "markdown",
      "source": [
        "**Ans**: For `C:\\bacon\\eggs\\spam.txt`\n",
        "\\\n",
        "The dir name is `C:\\\\bacon\\\\eggs`\n",
        " \\\n",
        "The Base name is `spam.txt`"
      ],
      "metadata": {
        "id": "KVR9EGy72g2T"
      }
    },
    {
      "cell_type": "code",
      "source": [
        "import os\n",
        "path = r'C:\\bacon\\eggs\\spam.txt'\n",
        "print(os.path.dirname(path))\n",
        "print(os.path.basename(path))"
      ],
      "metadata": {
        "colab": {
          "base_uri": "https://localhost:8080/"
        },
        "id": "pDUz-3OE23DL",
        "outputId": "e600fd1b-1a3c-48e3-9656-437d5929421c"
      },
      "execution_count": 10,
      "outputs": [
        {
          "output_type": "stream",
          "name": "stdout",
          "text": [
            "\n",
            "C:\\bacon\\eggs\\spam.txt\n"
          ]
        }
      ]
    },
    {
      "cell_type": "markdown",
      "source": [
        "**6.What are the three mode arguments that can be passed to the open() function ?**"
      ],
      "metadata": {
        "id": "xXacqI0Y222K"
      }
    },
    {
      "cell_type": "markdown",
      "source": [
        "The access modes available for the open() function are as follows:\n",
        "\n",
        "\\\n",
        "* **`‘r’`** – Read Mode: This is the default mode for open(). The file is opened and a pointer is positioned at the beginning of the file’s content.\n",
        "* **`‘w’`** – Write Mode: Using this mode will overwrite any existing content in a file. If the given file does not exist, a new one will be created.\n",
        "* **`‘r+’`** – Read/Write Mode: Use this mode if you need to simultaneously read and write to a file.\n",
        "* **`‘a’`** – Append Mode: With this mode the user can append the data without overwriting any already existing data in the file.\n",
        "* **`‘a+’` **– Append and Read Mode: In this mode you can read and append the data without overwriting the original file.\n",
        "* **`‘x’`** – Exclusive Creating Mode: This mode is for the sole purpose of creating new files. Use this mode if you know the file to be written    \\\\ doesn’t exist beforehand."
      ],
      "metadata": {
        "id": "uIw3Dfg8292n"
      }
    },
    {
      "cell_type": "markdown",
      "source": [
        "**7.What happens if an existing file is opened in write mode ?**"
      ],
      "metadata": {
        "id": "0fiStzPB3n35"
      }
    },
    {
      "cell_type": "markdown",
      "source": [
        "**Ans**: Using this mode will overwrite any existing content in a file. If the given file does not exist, a new one will be created.\n",
        "\n"
      ],
      "metadata": {
        "id": "hhE5rGbS3q9V"
      }
    },
    {
      "cell_type": "markdown",
      "source": [
        "**8.How do you tell the difference between read() and readlines() ?**"
      ],
      "metadata": {
        "id": "jspRB6wT3uv6"
      }
    },
    {
      "cell_type": "markdown",
      "source": [
        "**Ans**: The only difference between the `Read()` and `ReadLine()` is that Console. \n",
        "\\\n",
        "Read is used to read only single character from the standard output device, while Console. ReadLine is used to read a line or string from the standard output device."
      ],
      "metadata": {
        "id": "SdFLvkQO34Vf"
      }
    },
    {
      "cell_type": "markdown",
      "source": [
        "**9.What data structure does a shelf value resemble ?**"
      ],
      "metadata": {
        "id": "ad9Mzx_t4C2L"
      }
    },
    {
      "cell_type": "markdown",
      "source": [
        "**Ans**: it contains key and values it represents dictionary."
      ],
      "metadata": {
        "id": "41bNLIQy4FsJ"
      }
    }
  ]
}