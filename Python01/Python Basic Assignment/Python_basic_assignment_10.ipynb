{
 "cells": [
  {
   "cell_type": "markdown",
   "id": "07d21516",
   "metadata": {},
   "source": [
    "# Assignment 10 Solutions"
   ]
  },
  {
   "cell_type": "markdown",
   "id": "a666055f",
   "metadata": {},
   "source": [
    "**1. How do you distinguish between shutil.copy() and shutil.copytree()?**"
   ]
  },
  {
   "cell_type": "markdown",
   "id": "73f5bc6f",
   "metadata": {},
   "source": [
    "**Ans**:\n",
    "`shutil.copy(`) will copy a single file and `shutil.copytree()` will copy an entire folder and every folder and file contained in it."
   ]
  },
  {
   "cell_type": "markdown",
   "id": "499e0b3b",
   "metadata": {},
   "source": [
    "**2. What function is used to rename files??**"
   ]
  },
  {
   "cell_type": "markdown",
   "id": "cdb7ca6b",
   "metadata": {},
   "source": [
    " **Ans** : `os.rename()` function is used to rename files."
   ]
  },
  {
   "cell_type": "markdown",
   "id": "abd5876e",
   "metadata": {},
   "source": [
    "**3. What is the difference between the delete functions in the send2trash and shutil modules?**"
   ]
  },
  {
   "cell_type": "markdown",
   "id": "e6b12e87",
   "metadata": {},
   "source": [
    "**Ans**: Shutil module provides a funciton called as `shutil.rmtree()` which deletes a directory and all its contents. The other functions with similar functionality are `os.remove()` -> removes a file, `os.rmdir()` removes a empty directory. The problem with these functions is once a file is deleted. it will be lost permanently, if a file is deleted accidentally using these methods there is no way we can recover the deleted file\n",
    "\\\n",
    "\\\n",
    "Where as send2trash module provides a function called `send2trash.send2trash()` to delete a file/directory. these methods moves the files/directories to trash folder instead of permanently deleting them. hence if a file/folder is deleted accidentally it can be still recovered from trash folder, if is deleted using the `send2trash.send2trash()` function. send2trash is not included with python standard libary like os & shutil modules. it needs to be installed explicitly using the command `!pip install send2trash`"
   ]
  },
  {
   "cell_type": "markdown",
   "id": "f18d469b",
   "metadata": {},
   "source": [
    "**4.ZipFile objects have a `close()` method just like File objects’ `close()` method. What ZipFile method is equivalent to File objects’ open() method?**"
   ]
  },
  {
   "cell_type": "markdown",
   "id": "4b7362a5",
   "metadata": {},
   "source": [
    "**Ans**: ZipFile Module provides a method called as` zipfile.ZipFile()` to read and write to zipFiles."
   ]
  },
  {
   "cell_type": "markdown",
   "id": "85ea41f2",
   "metadata": {},
   "source": [
    "**5. Create a programme that searches a folder tree for files with a certain file extension (such as .pdf or .jpg). Copy these files from whatever location they are in to a new folder**"
   ]
  },
  {
   "cell_type": "code",
   "execution_count": 2,
   "id": "7474a029",
   "metadata": {},
   "outputs": [
    {
     "name": "stdout",
     "output_type": "stream",
     "text": [
      "stat3.pdf\n",
      "D:\\pdfsd\\stat3.pdf\n",
      "stats1.pdf\n",
      "D:\\pdfsd\\stats1.pdf\n",
      "stats2.pdf\n",
      "D:\\pdfsd\\stats2.pdf\n",
      "stats4.pdf\n",
      "D:\\pdfsd\\stats4.pdf\n",
      "stats5.pdf\n",
      "D:\\pdfsd\\stats5.pdf\n",
      "5\n"
     ]
    }
   ],
   "source": [
    "import os\n",
    "import shutil\n",
    "\n",
    "source_folder = 'D:\\pdfsd'\n",
    "target_folder = 'D:\\copied'\n",
    "\n",
    "for dir , subdirs, files in os.walk(source_folder):\n",
    "    for file in files:\n",
    "        if file.endswith(\".pdf\"):\n",
    "            print(file)\n",
    "            filename = os.path.join(source_folder,dir,file)\n",
    "            if os.path.exists(filename):\n",
    "                print(filename)\n",
    "                shutil.copy(filename,target_folder)\n",
    "\n",
    "print(\"len(os.listdir(target_folder)))\n"
   ]
  },
  {
   "cell_type": "code",
   "execution_count": null,
   "id": "bc26966c",
   "metadata": {},
   "outputs": [],
   "source": []
  }
 ],
 "metadata": {
  "kernelspec": {
   "display_name": "Python 3 (ipykernel)",
   "language": "python",
   "name": "python3"
  },
  "language_info": {
   "codemirror_mode": {
    "name": "ipython",
    "version": 3
   },
   "file_extension": ".py",
   "mimetype": "text/x-python",
   "name": "python",
   "nbconvert_exporter": "python",
   "pygments_lexer": "ipython3",
   "version": "3.9.12"
  }
 },
 "nbformat": 4,
 "nbformat_minor": 5
}
