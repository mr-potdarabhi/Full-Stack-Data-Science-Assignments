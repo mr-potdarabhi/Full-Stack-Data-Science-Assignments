{
  "nbformat": 4,
  "nbformat_minor": 0,
  "metadata": {
    "colab": {
      "provenance": []
    },
    "kernelspec": {
      "name": "python3",
      "display_name": "Python 3"
    },
    "language_info": {
      "name": "python"
    }
  },
  "cells": [
    {
      "cell_type": "markdown",
      "source": [
        "#**Assignment_13**"
      ],
      "metadata": {
        "id": "kX_jsMXRkPXP"
      }
    },
    {
      "cell_type": "markdown",
      "source": [
        "**1. What advantages do Excel spreadsheets have over CSV spreadsheets?**"
      ],
      "metadata": {
        "id": "p9ENkTEtd7Ou"
      }
    },
    {
      "cell_type": "markdown",
      "source": [
        "**Ans** : \\\n",
        "1. formats are better for storing and analysing complex data.\n",
        "2. An Excel not only stores data but can also do operations on the data using macros, formulas etc.\n",
        "3. SV files are plain-text files, Does not contain formatting, formulas, macros, etc."
      ],
      "metadata": {
        "id": "GFaoDXpjd9kz"
      }
    },
    {
      "cell_type": "markdown",
      "source": [
        "**2.What do you pass to csv.reader() and csv.writer() to create reader and writer objects?**"
      ],
      "metadata": {
        "id": "bvTs2Js2eRIP"
      }
    },
    {
      "cell_type": "markdown",
      "source": [
        "**Ans** : `file object` pass to csv.reader() and csv.writer() to create reader and writer objects."
      ],
      "metadata": {
        "id": "VVT_goZ8g0ue"
      }
    },
    {
      "cell_type": "markdown",
      "source": [
        "\n",
        "\n",
        "```\n",
        "import csv\n",
        "with open('text.csv','r') as file:\n",
        "    csv_file = csv.reader(file,delimiter=',')\n",
        "    for ele in csv_file:\n",
        "        print(ele)\n",
        "```\n",
        "\n"
      ],
      "metadata": {
        "id": "stK94xDSfp91"
      }
    },
    {
      "cell_type": "markdown",
      "source": [
        "**3. What modes do File objects for reader and writer objects need to be opened in?**"
      ],
      "metadata": {
        "id": "LinwC8R8hB0T"
      }
    },
    {
      "cell_type": "markdown",
      "source": [
        "**Ans**: \\\n",
        "For `csv.reader()`, the file objects needed to be opened in read mode `mode='r'`\n",
        "\\\n",
        "& for `csv.writer()` the file objects needed to be opened in write mode `mode='w'`"
      ],
      "metadata": {
        "id": "bKEo9HoPhQoe"
      }
    },
    {
      "cell_type": "markdown",
      "source": [
        "**4. What method takes a list argument and writes it to a CSV file?**"
      ],
      "metadata": {
        "id": "AzEysLbEhjT_"
      }
    },
    {
      "cell_type": "markdown",
      "source": [
        "**Ans** : \\\n",
        "They are two methods for writing `writerow()` and `writerows()`. \\\n",
        "`writerow()` method writes a single row at a time. \\\n",
        "& `writerows()` method is used to write multiple rows at a time."
      ],
      "metadata": {
        "id": "CjNNHxw8hn6I"
      }
    },
    {
      "cell_type": "markdown",
      "source": [
        "**5. What do the keyword arguments delimiter and line terminator do?**"
      ],
      "metadata": {
        "id": "JGlAJOWPiNu_"
      }
    },
    {
      "cell_type": "markdown",
      "source": [
        "**Ans**:\\\n",
        "Lets take the example of a csv file:\n",
        "\\\n",
        "`First Name , Last Name, Age`\n",
        "\\\n",
        "`Abhi, Potdar, 24`\n",
        "\\\n",
        "`Amey, Kumbhar, 24`\n",
        "\n",
        "Here `','` is Delimiter. We can use any Character as per our needs if required. Similarly Line Terminator comes at end of line by default it is newline and can be changed accourding to Requirement."
      ],
      "metadata": {
        "id": "EIceiGE-iWnO"
      }
    },
    {
      "cell_type": "markdown",
      "source": [
        "**6. What function takes a string of JSON data and returns a Python data structure?**"
      ],
      "metadata": {
        "id": "3Z1sxPmAjr3S"
      }
    },
    {
      "cell_type": "markdown",
      "source": [
        "**Ans** : \n",
        "\\\n",
        "`json.loads()` is a function takes a string of JSON data and returns a Python data structure."
      ],
      "metadata": {
        "id": "R1oZdhlyjz2h"
      }
    },
    {
      "cell_type": "markdown",
      "source": [
        "**7. What function takes a Python data structure and returns a string of JSON data?**"
      ],
      "metadata": {
        "id": "GlD0bJOOj9Jy"
      }
    },
    {
      "cell_type": "markdown",
      "source": [
        "**Ans** :\n",
        "\\\n",
        "`json.dumps()` is a  function takes a Python data structure and returns a string of JSON data."
      ],
      "metadata": {
        "id": "X6DnQepOkETQ"
      }
    },
    {
      "cell_type": "code",
      "source": [],
      "metadata": {
        "id": "BkGffLVIk5S7"
      },
      "execution_count": null,
      "outputs": []
    }
  ]
}