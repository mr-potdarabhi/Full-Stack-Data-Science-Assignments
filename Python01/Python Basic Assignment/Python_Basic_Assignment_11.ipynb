{
 "cells": [
  {
   "cell_type": "markdown",
   "id": "06a59afd",
   "metadata": {},
   "source": [
    "# Assignment 11 Solutions"
   ]
  },
  {
   "cell_type": "markdown",
   "id": "9aa45535",
   "metadata": {},
   "source": [
    "**1. Create an assert statement that throws an AssertionError if the variable spam is a negative integer.**"
   ]
  },
  {
   "cell_type": "code",
   "execution_count": 2,
   "id": "41ee0287",
   "metadata": {},
   "outputs": [
    {
     "ename": "AssertionError",
     "evalue": "Variable A should not be a -ve number",
     "output_type": "error",
     "traceback": [
      "\u001b[1;31m---------------------------------------------------------------------------\u001b[0m",
      "\u001b[1;31mAssertionError\u001b[0m                            Traceback (most recent call last)",
      "Input \u001b[1;32mIn [2]\u001b[0m, in \u001b[0;36m<cell line: 2>\u001b[1;34m()\u001b[0m\n\u001b[0;32m      1\u001b[0m A \u001b[38;5;241m=\u001b[39m \u001b[38;5;241m-\u001b[39m\u001b[38;5;241m55\u001b[39m\n\u001b[1;32m----> 2\u001b[0m \u001b[38;5;28;01massert\u001b[39;00m A \u001b[38;5;241m>\u001b[39m\u001b[38;5;241m=\u001b[39m\u001b[38;5;241m0\u001b[39m, \u001b[38;5;124m'\u001b[39m\u001b[38;5;124mVariable A should not be a -ve number\u001b[39m\u001b[38;5;124m'\u001b[39m\n",
      "\u001b[1;31mAssertionError\u001b[0m: Variable A should not be a -ve number"
     ]
    }
   ],
   "source": [
    "A = -55\n",
    "assert A >=0, 'Variable A should not be a -ve number'"
   ]
  },
  {
   "cell_type": "markdown",
   "id": "a3c997ee",
   "metadata": {},
   "source": [
    "**2. Write an assert statement that triggers an AssertionError if the variables eggs and bacon contain strings that are the same as each other, even if their cases are different (that is, 'hello' and 'hello' are considered the same, and 'goodbye' and 'GOODbye' are also considered the same).**"
   ]
  },
  {
   "cell_type": "code",
   "execution_count": 16,
   "id": "41305c83",
   "metadata": {},
   "outputs": [],
   "source": [
    "def contain_assert(egg,bacon):\n",
    "    egg = egg.upper()\n",
    "    bacon = bacon.upper()\n",
    "    assert not(egg == bacon), 'Eggs/Bacon should not be same, which are same now'"
   ]
  },
  {
   "cell_type": "code",
   "execution_count": 17,
   "id": "57ed92bd",
   "metadata": {},
   "outputs": [
    {
     "ename": "AssertionError",
     "evalue": "Eggs/Bacon should not be same, which are same now",
     "output_type": "error",
     "traceback": [
      "\u001b[1;31m---------------------------------------------------------------------------\u001b[0m",
      "\u001b[1;31mAssertionError\u001b[0m                            Traceback (most recent call last)",
      "Input \u001b[1;32mIn [17]\u001b[0m, in \u001b[0;36m<cell line: 1>\u001b[1;34m()\u001b[0m\n\u001b[1;32m----> 1\u001b[0m \u001b[43mcontain_assert\u001b[49m\u001b[43m(\u001b[49m\u001b[38;5;124;43m'\u001b[39;49m\u001b[38;5;124;43mhello\u001b[39;49m\u001b[38;5;124;43m'\u001b[39;49m\u001b[43m,\u001b[49m\u001b[38;5;124;43m'\u001b[39;49m\u001b[38;5;124;43mHELLO\u001b[39;49m\u001b[38;5;124;43m'\u001b[39;49m\u001b[43m)\u001b[49m\n",
      "Input \u001b[1;32mIn [16]\u001b[0m, in \u001b[0;36mcontain_assert\u001b[1;34m(egg, bacon)\u001b[0m\n\u001b[0;32m      2\u001b[0m egg \u001b[38;5;241m=\u001b[39m egg\u001b[38;5;241m.\u001b[39mupper()\n\u001b[0;32m      3\u001b[0m bacon \u001b[38;5;241m=\u001b[39m bacon\u001b[38;5;241m.\u001b[39mupper()\n\u001b[1;32m----> 4\u001b[0m \u001b[38;5;28;01massert\u001b[39;00m \u001b[38;5;129;01mnot\u001b[39;00m(egg \u001b[38;5;241m==\u001b[39m bacon), \u001b[38;5;124m'\u001b[39m\u001b[38;5;124mEggs/Bacon should not be same, which are same now\u001b[39m\u001b[38;5;124m'\u001b[39m\n",
      "\u001b[1;31mAssertionError\u001b[0m: Eggs/Bacon should not be same, which are same now"
     ]
    }
   ],
   "source": [
    "contain_assert('hello','HELLO')"
   ]
  },
  {
   "cell_type": "code",
   "execution_count": 18,
   "id": "1e3d2fa7",
   "metadata": {},
   "outputs": [
    {
     "ename": "AssertionError",
     "evalue": "Eggs/Bacon should not be same, which are same now",
     "output_type": "error",
     "traceback": [
      "\u001b[1;31m---------------------------------------------------------------------------\u001b[0m",
      "\u001b[1;31mAssertionError\u001b[0m                            Traceback (most recent call last)",
      "Input \u001b[1;32mIn [18]\u001b[0m, in \u001b[0;36m<cell line: 1>\u001b[1;34m()\u001b[0m\n\u001b[1;32m----> 1\u001b[0m \u001b[43mcontain_assert\u001b[49m\u001b[43m(\u001b[49m\u001b[38;5;124;43m'\u001b[39;49m\u001b[38;5;124;43mgoodbye\u001b[39;49m\u001b[38;5;124;43m'\u001b[39;49m\u001b[43m,\u001b[49m\u001b[38;5;124;43m'\u001b[39;49m\u001b[38;5;124;43mGOODbye\u001b[39;49m\u001b[38;5;124;43m'\u001b[39;49m\u001b[43m)\u001b[49m\n",
      "Input \u001b[1;32mIn [16]\u001b[0m, in \u001b[0;36mcontain_assert\u001b[1;34m(egg, bacon)\u001b[0m\n\u001b[0;32m      2\u001b[0m egg \u001b[38;5;241m=\u001b[39m egg\u001b[38;5;241m.\u001b[39mupper()\n\u001b[0;32m      3\u001b[0m bacon \u001b[38;5;241m=\u001b[39m bacon\u001b[38;5;241m.\u001b[39mupper()\n\u001b[1;32m----> 4\u001b[0m \u001b[38;5;28;01massert\u001b[39;00m \u001b[38;5;129;01mnot\u001b[39;00m(egg \u001b[38;5;241m==\u001b[39m bacon), \u001b[38;5;124m'\u001b[39m\u001b[38;5;124mEggs/Bacon should not be same, which are same now\u001b[39m\u001b[38;5;124m'\u001b[39m\n",
      "\u001b[1;31mAssertionError\u001b[0m: Eggs/Bacon should not be same, which are same now"
     ]
    }
   ],
   "source": [
    "contain_assert('goodbye','GOODbye')"
   ]
  },
  {
   "cell_type": "markdown",
   "id": "035091bc",
   "metadata": {},
   "source": [
    "**3. Create an assert statement that throws an AssertionError every time.**"
   ]
  },
  {
   "cell_type": "code",
   "execution_count": 9,
   "id": "8c44e035",
   "metadata": {},
   "outputs": [
    {
     "ename": "AssertionError",
     "evalue": "assert False",
     "output_type": "error",
     "traceback": [
      "\u001b[1;31m---------------------------------------------------------------------------\u001b[0m",
      "\u001b[1;31mAssertionError\u001b[0m                            Traceback (most recent call last)",
      "Input \u001b[1;32mIn [9]\u001b[0m, in \u001b[0;36m<cell line: 3>\u001b[1;34m()\u001b[0m\n\u001b[0;32m      1\u001b[0m x \u001b[38;5;241m=\u001b[39m \u001b[38;5;241m1\u001b[39m\n\u001b[0;32m      2\u001b[0m y \u001b[38;5;241m=\u001b[39m \u001b[38;5;241m0\u001b[39m\n\u001b[1;32m----> 3\u001b[0m \u001b[38;5;28;01massert\u001b[39;00m y \u001b[38;5;241m!=\u001b[39m \u001b[38;5;241m0\u001b[39m, \u001b[38;5;124m\"\u001b[39m\u001b[38;5;124massert False\u001b[39m\u001b[38;5;124m\"\u001b[39m \u001b[38;5;66;03m# denominator can't be 0\u001b[39;00m\n\u001b[0;32m      4\u001b[0m \u001b[38;5;28mprint\u001b[39m(x \u001b[38;5;241m/\u001b[39m y)\n",
      "\u001b[1;31mAssertionError\u001b[0m: assert False"
     ]
    }
   ],
   "source": [
    "x = 1\n",
    "y = 0\n",
    "assert y != 0, \"assert False\" # denominator can't be 0\n",
    "print(x / y)"
   ]
  },
  {
   "cell_type": "markdown",
   "id": "e615f04b",
   "metadata": {},
   "source": [
    "**4. What are the two lines that must be present in your software in order to call logging.debug()?**"
   ]
  },
  {
   "cell_type": "markdown",
   "id": "a7814461",
   "metadata": {},
   "source": [
    "**Ans**:\n",
    "import logging\n",
    "\n",
    "logging.basicConfig(fiename, level=logging.DEBUG)"
   ]
  },
  {
   "cell_type": "markdown",
   "id": "c50b9e00",
   "metadata": {},
   "source": [
    "**5.What are the two lines that your program must have in order to have logging.debug() send a logging message to a file named programLog.txt?**"
   ]
  },
  {
   "cell_type": "code",
   "execution_count": 12,
   "id": "f4c4d193",
   "metadata": {},
   "outputs": [],
   "source": [
    "import logging\n",
    "logging.basicConfig(filename = 'abhi.txt',level=logging.DEBUG, format=' %(asctime)s - %(levelname)s - %(message)s')\n",
    "logging.debug(\"Successfully\")\n",
    "logging.debug('Connection Closed Successfully')"
   ]
  },
  {
   "cell_type": "code",
   "execution_count": 14,
   "id": "5b95d6af",
   "metadata": {},
   "outputs": [
    {
     "name": "stdout",
     "output_type": "stream",
     "text": [
      " 2023-01-08 17:21:56,610 - DEBUG - Successfully\n",
      "\n",
      " 2023-01-08 17:21:56,613 - DEBUG - Connection Closed Successfully\n",
      "\n",
      " 2023-01-08 17:22:00,031 - DEBUG - Successfully\n",
      "\n",
      " 2023-01-08 17:22:00,031 - DEBUG - Connection Closed Successfully\n",
      "\n",
      " 2023-01-08 17:22:02,407 - DEBUG - Successfully\n",
      "\n",
      " 2023-01-08 17:22:02,407 - DEBUG - Connection Closed Successfully\n",
      "\n"
     ]
    }
   ],
   "source": [
    "file = open(\"./abhi.txt\",\"r\")\n",
    "for file in file.readlines():\n",
    "    print(file)"
   ]
  },
  {
   "cell_type": "markdown",
   "id": "131d1d25",
   "metadata": {},
   "source": [
    "**6. What are the five levels of logging?**"
   ]
  },
  {
   "cell_type": "markdown",
   "id": "98460ec0",
   "metadata": {},
   "source": [
    "**Ans**:\n",
    "\n",
    "logging.error()\n",
    "\n",
    "logging.warning()\n",
    "\n",
    "logging.info()\n",
    "\n",
    "logging.critical()\n",
    "\n",
    "logging.debug()"
   ]
  },
  {
   "cell_type": "markdown",
   "id": "3fc61c01",
   "metadata": {},
   "source": [
    "**7.What line of code would you add to your software to disable all logging messages?**\n"
   ]
  },
  {
   "cell_type": "code",
   "execution_count": 20,
   "id": "6fde07b5",
   "metadata": {},
   "outputs": [],
   "source": [
    "logging.disable = True"
   ]
  },
  {
   "cell_type": "markdown",
   "id": "183bf64c",
   "metadata": {},
   "source": [
    "**8.Why is using logging messages better than using print() to display the same message?**"
   ]
  },
  {
   "cell_type": "markdown",
   "id": "5753d284",
   "metadata": {},
   "source": [
    "**Ans** :\n",
    "\n",
    "Post devlopment of your code, you can disable logging messages without removing the logging function, whereas you need to manually remove print() statements, which is tedious activity. and also print is used when you want to display any particular message or help whereas logging is used to record all events like error, info, debug messages, timestamps."
   ]
  },
  {
   "cell_type": "markdown",
   "id": "aa6fb23e",
   "metadata": {},
   "source": [
    "**9.What are the differences between the Step Over, Step In, and Step Out buttons in the debugger?**"
   ]
  },
  {
   "cell_type": "markdown",
   "id": "9710a260",
   "metadata": {},
   "source": [
    "**Ans**:\n",
    "\n",
    "Step In   =  will dig into method calls.\n",
    "\n",
    "Step Over =  will just execute the line and go to the next line.\n",
    "\n",
    "Step Out  = Steps out of the current method and takes you to the caller method."
   ]
  },
  {
   "cell_type": "markdown",
   "id": "9a434523",
   "metadata": {},
   "source": [
    "**10.After you click Continue, when will the debugger stop ?**"
   ]
  },
  {
   "cell_type": "markdown",
   "id": "714aee02",
   "metadata": {},
   "source": [
    "**Ans** : \n",
    "the program to continue running normally, without pausing for debugging untill it terminates or reaches a breakpoint."
   ]
  },
  {
   "cell_type": "markdown",
   "id": "352d5e00",
   "metadata": {},
   "source": [
    "**11. What is the concept of a breakpoint?**"
   ]
  },
  {
   "cell_type": "markdown",
   "id": "417d7f89",
   "metadata": {},
   "source": [
    "**Ans**: Breakpoint is a setting on a line of code that causes the debugger to pause when the program execution reaches the line"
   ]
  }
 ],
 "metadata": {
  "kernelspec": {
   "display_name": "Python 3 (ipykernel)",
   "language": "python",
   "name": "python3"
  },
  "language_info": {
   "codemirror_mode": {
    "name": "ipython",
    "version": 3
   },
   "file_extension": ".py",
   "mimetype": "text/x-python",
   "name": "python",
   "nbconvert_exporter": "python",
   "pygments_lexer": "ipython3",
   "version": "3.9.12"
  }
 },
 "nbformat": 4,
 "nbformat_minor": 5
}
