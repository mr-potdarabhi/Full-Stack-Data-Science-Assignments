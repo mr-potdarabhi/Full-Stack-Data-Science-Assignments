{
  "nbformat": 4,
  "nbformat_minor": 0,
  "metadata": {
    "colab": {
      "provenance": []
    },
    "kernelspec": {
      "name": "python3",
      "display_name": "Python 3"
    },
    "language_info": {
      "name": "python"
    }
  },
  "cells": [
    {
      "cell_type": "markdown",
      "source": [
        "# Assignment 5 Solutions"
      ],
      "metadata": {
        "id": "2mdhe1OJXsGM"
      }
    },
    {
      "cell_type": "markdown",
      "source": [
        "**1.What does an empty dictionary's code look like?**"
      ],
      "metadata": {
        "id": "EWLrGVbOXyL3"
      }
    },
    {
      "cell_type": "markdown",
      "source": [
        "**Ans**: An empty dictionary is often represented by two empty curly brackets\n",
        "`d = {}` or `d = dict()`"
      ],
      "metadata": {
        "id": "dBhaEy6ZX1_A"
      }
    },
    {
      "cell_type": "markdown",
      "source": [
        "**2.what is the value of dictionary value with key 'foo' and the value 42 ?**"
      ],
      "metadata": {
        "id": "mRHWk3RkX8Rf"
      }
    },
    {
      "cell_type": "markdown",
      "source": [
        "**Ans**: `{'foo':42}`"
      ],
      "metadata": {
        "id": "cE2z2rqdYDir"
      }
    },
    {
      "cell_type": "markdown",
      "source": [
        "**3.What is the most significant distinction between a dictionary and a list?**"
      ],
      "metadata": {
        "id": "mvplmIizYHsF"
      }
    },
    {
      "cell_type": "markdown",
      "source": [
        "**Ans**: Dictionaries are represented by `{}` where as listed are represented by `[]`\n",
        "The Items stored in a `dictionary` are `Unordered` , while the items in a `list` are `ordered`"
      ],
      "metadata": {
        "id": "uAM2dH2cYLyv"
      }
    },
    {
      "cell_type": "markdown",
      "source": [
        "**4.What happens if you try to access spam ['foo'] if spam is {'bar':100} ?**"
      ],
      "metadata": {
        "id": "buadIr8oYgdp"
      }
    },
    {
      "cell_type": "markdown",
      "source": [
        "**Ans**: the `key ‘foo’` is `not defined`, so the program fails."
      ],
      "metadata": {
        "id": "vD-B4AdbYn10"
      }
    },
    {
      "cell_type": "markdown",
      "source": [
        "**5.if a dictionary is stored in spam,what is the difference between the expressions 'cat' in spam and 'cat' in spam.keys() ?**"
      ],
      "metadata": {
        "id": "lG2yaBP-amQE"
      }
    },
    {
      "cell_type": "markdown",
      "source": [
        "**Ans**: There is no difference . The operator checks whether a value exits as a key in the dictionary or not."
      ],
      "metadata": {
        "id": "wqJLSlPoasVL"
      }
    },
    {
      "cell_type": "markdown",
      "source": [
        "**6.if a dictionary is stored in spam,what is the difference between the expressions 'cat' in spam and 'cat' in spam.values() ?**"
      ],
      "metadata": {
        "id": "QVv8AAvAayxS"
      }
    },
    {
      "cell_type": "markdown",
      "source": [
        "**Ans**:'cat' in spam checks whether there is a 'cat' key in the dictionary, while 'cat' in spam.values() checks whether there is a value 'cat' for one of the keys in spam."
      ],
      "metadata": {
        "id": "Y7OwJKwOa63x"
      }
    },
    {
      "cell_type": "markdown",
      "source": [
        "**7.what is a shortcut for the following code ?**\\\n",
        "`if 'color' not in spam: spam['color'] ='black'`"
      ],
      "metadata": {
        "id": "dxKC1QwgbAcx"
      }
    },
    {
      "cell_type": "markdown",
      "source": [
        "**Ans**: `spam.setdefault('color','black')`\n",
        "\n",
        "\n"
      ],
      "metadata": {
        "id": "9JpNnF4vbdLd"
      }
    },
    {
      "cell_type": "markdown",
      "source": [
        "**8.How do you 'pretty print' dictionary values using which modules and function ?**"
      ],
      "metadata": {
        "id": "5mUyQSMdbnBq"
      }
    },
    {
      "cell_type": "markdown",
      "source": [
        "**Ans**: we can pretty print a dictionary using three functions\n",
        "\n",
        "1.  by using ` pprint()` function of pprint module\n",
        "\n",
        "2.  by using `dumps()` method of `json module`\n",
        "3.  by using `dumps()` method of `yaml module`\n",
        "\n",
        "\n",
        "\n",
        "\n",
        "\n",
        "\n"
      ],
      "metadata": {
        "id": "OQvhBxdkbrKm"
      }
    },
    {
      "cell_type": "code",
      "execution_count": 24,
      "metadata": {
        "colab": {
          "base_uri": "https://localhost:8080/"
        },
        "id": "c45VAIpXXrRK",
        "outputId": "95f1a352-7538-4a9e-9094-83496eac767a"
      },
      "outputs": [
        {
          "output_type": "stream",
          "name": "stdout",
          "text": [
            "Printing using pprint() funciton\n",
            "[{'Age': '30',\n",
            "  'Name': 'Aman',\n",
            "  'Surname': 'Bhatiya',\n",
            "  'address': {'City': 'New York', 'Country': 'india'}},\n",
            " {'Age': '25',\n",
            "  'Name': 'Ram',\n",
            "  'Surname': 'Charn',\n",
            "  'address': {'City': 'Bihar', 'Country': 'india'}},\n",
            " {'Age': '29',\n",
            "  'Name': 'Jacky',\n",
            "  'Surname': 'lenz',\n",
            "  'address': {'City': 'England', 'Country': 'UK'}},\n",
            " {'Age': '25',\n",
            "  'Name': 'Abhi',\n",
            "  'Surname': 'potdar',\n",
            "  'address': {'City': 'pune', 'Country': 'india'}}]\n",
            "********************************************************************************\n",
            "Printing using dumps() method\n",
            " [\n",
            "    {\n",
            "        \"Name\": \"Aman\",\n",
            "        \"Surname\": \"Bhatiya\",\n",
            "        \"Age\": \"30\",\n",
            "        \"address\": {\n",
            "            \"Country\": \"india\",\n",
            "            \"City\": \"New York\"\n",
            "        }\n",
            "    },\n",
            "    {\n",
            "        \"Name\": \"Ram\",\n",
            "        \"Surname\": \"Charn\",\n",
            "        \"Age\": \"25\",\n",
            "        \"address\": {\n",
            "            \"Country\": \"india\",\n",
            "            \"City\": \"Bihar\"\n",
            "        }\n",
            "    },\n",
            "    {\n",
            "        \"Name\": \"Jacky\",\n",
            "        \"Surname\": \"lenz\",\n",
            "        \"Age\": \"29\",\n",
            "        \"address\": {\n",
            "            \"Country\": \"UK\",\n",
            "            \"City\": \"England\"\n",
            "        }\n",
            "    },\n",
            "    {\n",
            "        \"Name\": \"Abhi\",\n",
            "        \"Surname\": \"potdar\",\n",
            "        \"Age\": \"25\",\n",
            "        \"address\": {\n",
            "            \"Country\": \"india\",\n",
            "            \"City\": \"pune\"\n",
            "        }\n",
            "    }\n",
            "]\n",
            "********************************************************************************\n",
            "Printing using dump() method\n",
            " - Age: '30'\n",
            "  Name: Aman\n",
            "  Surname: Bhatiya\n",
            "  address:\n",
            "    City: New York\n",
            "    Country: india\n",
            "- Age: '25'\n",
            "  Name: Ram\n",
            "  Surname: Charn\n",
            "  address:\n",
            "    City: Bihar\n",
            "    Country: india\n",
            "- Age: '29'\n",
            "  Name: Jacky\n",
            "  Surname: lenz\n",
            "  address:\n",
            "    City: England\n",
            "    Country: UK\n",
            "- Age: '25'\n",
            "  Name: Abhi\n",
            "  Surname: potdar\n",
            "  address:\n",
            "    City: pune\n",
            "    Country: india\n",
            "\n"
          ]
        }
      ],
      "source": [
        "info = [\n",
        "  {'Name': 'Aman','Surname':'Bhatiya', 'Age': '30', 'address': {'Country':'india', 'City': 'New York'}},\n",
        "  {'Name': 'Ram', 'Surname':'Charn','Age': '25', 'address': {'Country':'india', 'City': 'Bihar'}},\n",
        "  {'Name': 'Jacky', 'Surname':'lenz','Age': '29', 'address': {'Country':'UK', 'City': 'England'}},\n",
        "  {'Name': 'Abhi', 'Surname':'potdar','Age': '25', 'address': {'Country':'india', 'City': 'pune'}}\n",
        "]\n",
        "\n",
        "import pprint\n",
        "print('Printing using pprint() funciton')\n",
        "pprint.pprint(info)\n",
        "print('*'*80)\n",
        "\n",
        "import json\n",
        "dump = json.dumps(info, indent=4)\n",
        "print('Printing using dumps() method\\n', dump)\n",
        "print('*'*80)\n",
        "\n",
        "\n",
        "import yaml\n",
        "dump = yaml.dump(info)\n",
        "print('Printing using dump() method\\n', dump)\n"
      ]
    }
  ]
}