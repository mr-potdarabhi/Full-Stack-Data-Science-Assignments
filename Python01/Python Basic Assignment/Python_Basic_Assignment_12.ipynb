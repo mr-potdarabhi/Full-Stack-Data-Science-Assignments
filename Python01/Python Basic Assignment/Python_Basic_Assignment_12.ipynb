{
  "nbformat": 4,
  "nbformat_minor": 0,
  "metadata": {
    "colab": {
      "provenance": []
    },
    "kernelspec": {
      "name": "python3",
      "display_name": "Python 3"
    },
    "language_info": {
      "name": "python"
    }
  },
  "cells": [
    {
      "cell_type": "markdown",
      "source": [
        "#**Assignment_12 Solutions**"
      ],
      "metadata": {
        "id": "Gyvm7d0dWIaa"
      }
    },
    {
      "cell_type": "markdown",
      "source": [
        "**1. In what modes should the PdfFileReader() and PdfFileWriter() File objects will be opened?**"
      ],
      "metadata": {
        "id": "LudcddiDSgWs"
      }
    },
    {
      "cell_type": "markdown",
      "source": [
        "**Ans**: For `PdfFileReader()` file objects should be opened in `rb` -> read binary mode, Whereas for `PdfFileWriter()` file objects should be opened in `wb` -> write binary mode."
      ],
      "metadata": {
        "id": "YxdW2BzYSq7K"
      }
    },
    {
      "cell_type": "markdown",
      "source": [
        "**2. From a PdfFileReader object, how do you get a Page object for page 5?**"
      ],
      "metadata": {
        "id": "GPK82OhaS6pO"
      }
    },
    {
      "cell_type": "markdown",
      "source": [
        "**Ans**: PdfFileReader class provides a method called `getPage(5)` to get a page object.\n",
        "\n"
      ],
      "metadata": {
        "id": "uKr6JL2nS9L1"
      }
    },
    {
      "cell_type": "markdown",
      "source": [
        "**3. What PdfFileReader variable stores the number of pages in the PDF document?**"
      ],
      "metadata": {
        "id": "8YKYXqCtTF0C"
      }
    },
    {
      "cell_type": "markdown",
      "source": [
        "**Ans**: `getNumPages()` method of `PdfFileReader` class stores the no pages in a PDF document"
      ],
      "metadata": {
        "id": "emvSVz8RTLxf"
      }
    },
    {
      "cell_type": "markdown",
      "source": [
        "**4. If a PdfFileReader object’s PDF is encrypted with the password swordfish, what must you do before you can obtain Page objects from it?**"
      ],
      "metadata": {
        "id": "raThXDtbTTjy"
      }
    },
    {
      "cell_type": "markdown",
      "source": [
        "**Ans**: If a `PdfFileReader` object’s PDF is encrypted with the password `swordfish` and you're not aware of it. first read the Pdf using the PdfFileReader Class. PdfFileReader class provides a attribute called `isEncrypted` to check whether a pdf is encrypted or not. the method returns true if a pdf is encrypted and vice versa.\n",
        "\\\n",
        "if pdf is encrypted use the `decrypt`() method provided by PdfFileReader class first then try to read the contents/pages of the pdf, else PyPDF2 will raise the following error `PyPDF2.utils.PdfReadError: file has not been decrypted`"
      ],
      "metadata": {
        "id": "vFgORPKfTdQE"
      }
    },
    {
      "cell_type": "markdown",
      "source": [
        "**5. What methods do you use to rotate a page?**"
      ],
      "metadata": {
        "id": "GRDL_1ILTqRT"
      }
    },
    {
      "cell_type": "markdown",
      "source": [
        "**Ans** : `rotateClockwise()` and `rotateCounterClockwise()` this two methods used to rotate a page."
      ],
      "metadata": {
        "id": "PZ8E4LakTyHY"
      }
    },
    {
      "cell_type": "markdown",
      "source": [
        "**6. What is the difference between a `Run object` and a `Paragraph object`?**"
      ],
      "metadata": {
        "id": "3jehKmILUCPq"
      }
    },
    {
      "cell_type": "markdown",
      "source": [
        "**Ans**: The structure of a document is represented by three different data types in `python-Docx`. At the highest level, a Document object represents the entire document. The Document object contains a list of Paragraph objects for the `paragraphs` in the document. (A new paragraph begins whenever the user presses ENTER or RETURN while typing in a Word document.) Each of these Paragraph objects contains a list of one or more `Run` objects.\n",
        "\\\n",
        "The text in a Word document is more than just a string. It has font, size, color, and other styling information associated with it. A style in Word is a collection of these attributes. A Run object is a contiguous run of text with the same style. A new Run object is needed whenever the text style changes."
      ],
      "metadata": {
        "id": "3ufcxCHYUL7Q"
      }
    },
    {
      "cell_type": "markdown",
      "source": [
        "**7. How do you obtain a list of Paragraph objects for a Document object that’s stored in a variable named doc?**"
      ],
      "metadata": {
        "id": "DtvlEkLAUTLX"
      }
    },
    {
      "cell_type": "markdown",
      "source": [
        "**Ans** : veriable name `doc.paragraphs `."
      ],
      "metadata": {
        "id": "3tyuCCA6Ug8e"
      }
    },
    {
      "cell_type": "markdown",
      "source": [
        "**8.What type of object has bold, underline, italic, strike, and outline variables?**"
      ],
      "metadata": {
        "id": "dDMhfMesUoa7"
      }
    },
    {
      "cell_type": "markdown",
      "source": [
        "**Ans**: Run object has bold, underline, italic, strike, and outline variables"
      ],
      "metadata": {
        "id": "MZNFeLsnUsTJ"
      }
    },
    {
      "cell_type": "markdown",
      "source": [
        "**9.What is the difference between False, True, and None for the bold variable?**"
      ],
      "metadata": {
        "id": "Hx4AT1gHUw-Q"
      }
    },
    {
      "cell_type": "markdown",
      "source": [
        "**Ans** :\n",
        "\n",
        "1. **`True`** = bold is always enabled no matter what other styles are applied to the run, \n",
        "\n",
        "2. **`False`** = bold is always disabled,\n",
        "\n",
        "3.  **`None`** = defaults to whatever the run's style set to\n",
        "\n"
      ],
      "metadata": {
        "id": "58W4-MYjUy1v"
      }
    },
    {
      "cell_type": "code",
      "source": [
        "bold = True  # Style Set to Bold\n",
        "bold = False # Style Not Set to Bold\n",
        "bold = None # Style is Not Applicable"
      ],
      "metadata": {
        "id": "GQFGdm9sTCis"
      },
      "execution_count": null,
      "outputs": []
    },
    {
      "cell_type": "markdown",
      "source": [
        "**10. How do you create a Document object for a new Word document?**"
      ],
      "metadata": {
        "id": "oz1EE2ziVQ-K"
      }
    },
    {
      "cell_type": "markdown",
      "source": [
        "**Ans** : \n",
        "\\\n",
        "import docx\n",
        "\n",
        "doc=docx.Document(.docx file name)"
      ],
      "metadata": {
        "id": "3b8QGH2BVTrp"
      }
    },
    {
      "cell_type": "markdown",
      "source": [
        "**11.How do you add a paragraph with the text 'Hello, there!' to a Document object stored in a variable named doc?**"
      ],
      "metadata": {
        "id": "T-QTNIMxVgIu"
      }
    },
    {
      "cell_type": "markdown",
      "source": [
        "**Ans** :\n",
        "\\\n",
        " doc.add_paragraph(\"Hello, there!\")\n",
        "\n",
        "\n",
        "\n",
        "\n",
        "\n",
        "\n"
      ],
      "metadata": {
        "id": "vfp1mZ6sVkqY"
      }
    },
    {
      "cell_type": "code",
      "source": [
        "from docx import Document\n",
        "doc = Document()\n",
        "doc.add_paragraph('Hello, there!')\n",
        "doc.save('hello.docx')"
      ],
      "metadata": {
        "id": "X4cDSJwVVcNs"
      },
      "execution_count": null,
      "outputs": []
    },
    {
      "cell_type": "markdown",
      "source": [
        "**12.What integers represent the levels of headings available in Word documents?**"
      ],
      "metadata": {
        "id": "x2WBmGJyV2rS"
      }
    },
    {
      "cell_type": "markdown",
      "source": [
        "**Ans**: The levels for a heading in a word document can be specified by using the `level` attribute inside the `add_heading` method. There are a total of 5 levels statring for 0 t0 4. "
      ],
      "metadata": {
        "id": "PDZTWhIvV59J"
      }
    }
  ]
}