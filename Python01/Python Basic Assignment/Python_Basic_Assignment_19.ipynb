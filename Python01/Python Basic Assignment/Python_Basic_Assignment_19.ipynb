{
 "cells": [
  {
   "cell_type": "markdown",
   "id": "8064ae83",
   "metadata": {},
   "source": [
    "# Assignment 19"
   ]
  },
  {
   "cell_type": "markdown",
   "id": "7d068f33",
   "metadata": {},
   "source": [
    "**1. Make a class called Thing with no contents and print it. Then, create an object called example\n",
    "from this class and also print it. Are the printed values the same or different?**"
   ]
  },
  {
   "cell_type": "code",
   "execution_count": 6,
   "id": "b0ce9f66",
   "metadata": {},
   "outputs": [
    {
     "name": "stdout",
     "output_type": "stream",
     "text": [
      "<class '__main__.Things'>\n",
      "<__main__.Things object at 0x000002DA0DC60C40>\n"
     ]
    }
   ],
   "source": [
    "# create class\n",
    "class Things:\n",
    "    pass\n",
    "print(Things)\n",
    "\n",
    "example = Things()\n",
    "print(example)   "
   ]
  },
  {
   "cell_type": "markdown",
   "id": "d51d64e0",
   "metadata": {},
   "source": [
    "**2. Create a new class called Thing2 and add the value 'abc' to the letters class attribute. Letters should be printed.**"
   ]
  },
  {
   "cell_type": "code",
   "execution_count": 10,
   "id": "4cf1c864",
   "metadata": {},
   "outputs": [
    {
     "name": "stdout",
     "output_type": "stream",
     "text": [
      "abc\n"
     ]
    }
   ],
   "source": [
    "class Things2:\n",
    "    letter = 'abc'\n",
    "print(Things2.letter)"
   ]
  },
  {
   "cell_type": "markdown",
   "id": "4a7cdcd2",
   "metadata": {},
   "source": [
    "**3. Make yet another class called, of course, Thing3. This time, assign the value 'xyz' to an instance (object) attribute called letters. Print letters. Do you need to make an object from the class to do this?**"
   ]
  },
  {
   "cell_type": "code",
   "execution_count": 16,
   "id": "4c67f73d",
   "metadata": {},
   "outputs": [
    {
     "name": "stdout",
     "output_type": "stream",
     "text": [
      "xyz\n"
     ]
    }
   ],
   "source": [
    "class Thing3:\n",
    "    letters = 'xyz'\n",
    "\n",
    "print(Thing3.letters)"
   ]
  },
  {
   "cell_type": "markdown",
   "id": "6c80edb8",
   "metadata": {},
   "source": [
    "**4. Create an Element class with the instance attributes name, symbol, and number. Create a class object with the values 'Hydrogen,' 'H,' and 1**"
   ]
  },
  {
   "cell_type": "code",
   "execution_count": 26,
   "id": "e6d89f68",
   "metadata": {},
   "outputs": [
    {
     "name": "stdout",
     "output_type": "stream",
     "text": [
      "Hydrogen H 1\n"
     ]
    }
   ],
   "source": [
    "class Elements:\n",
    "    def __init__(self,name,symbol,number):\n",
    "        self.name = name\n",
    "        self.symbol = symbol\n",
    "        self.number = number\n",
    "            \n",
    "obj = Elements('Hydrogen','H',1 )      \n",
    "print(obj.name,obj.symbol,obj.number)"
   ]
  },
  {
   "cell_type": "markdown",
   "id": "af5cccae",
   "metadata": {},
   "source": [
    "**5. Make a dictionary with these keys and values: 'name': 'Hydrogen', 'symbol': 'H', 'number': 1. Then, create an object called hydrogen from class Element using this dictionary.**"
   ]
  },
  {
   "cell_type": "code",
   "execution_count": 28,
   "id": "eb266eb0",
   "metadata": {},
   "outputs": [
    {
     "name": "stdout",
     "output_type": "stream",
     "text": [
      "Hydrogen H 1\n"
     ]
    }
   ],
   "source": [
    "class Element:\n",
    "    def __init__(self, name,symbol,number):\n",
    "        self.name = name\n",
    "        self.symbol = symbol\n",
    "        self.number = number\n",
    "        \n",
    "hydrogen = Element('Hydrogen','H',1)\n",
    "print(hydrogen.name,hydrogen.symbol,hydrogen.number)"
   ]
  },
  {
   "cell_type": "markdown",
   "id": "b3b54af3",
   "metadata": {},
   "source": [
    "**7. Call print(hydrogen). In the definition of Element, change the name of method dump to str, create a new hydrogen object, and call print(hydrogen) again.**"
   ]
  },
  {
   "cell_type": "code",
   "execution_count": 30,
   "id": "ba650c96",
   "metadata": {},
   "outputs": [
    {
     "name": "stdout",
     "output_type": "stream",
     "text": [
      "name = Hydrogen, symbol = H, number = 1\n",
      "name = Hydrogen, symbol = H, number = 1\n"
     ]
    }
   ],
   "source": [
    "print(hydrogen)\n",
    "\n",
    "class Element:\n",
    "        def __init__(self, name, symbol, number):\n",
    "            self.name = name\n",
    "            self.symbol = symbol\n",
    "            self.number = number\n",
    "        def __str__(self):\n",
    "            return ('name = %s, symbol = %s, number = %s' %\n",
    "                (self.name, self.symbol, self.number))\n",
    "        \n",
    "hydrogen = Element('Hydrogen','H',1)\n",
    "print(hydrogen)"
   ]
  },
  {
   "cell_type": "markdown",
   "id": "ad67bb86",
   "metadata": {},
   "source": [
    "**8. Modify Element to make the attributes name, symbol, and number private. Define a getter property for each to return its value.**"
   ]
  },
  {
   "cell_type": "code",
   "execution_count": 40,
   "id": "64e93ab0",
   "metadata": {},
   "outputs": [
    {
     "name": "stdout",
     "output_type": "stream",
     "text": [
      "Hey H 1\n"
     ]
    }
   ],
   "source": [
    "class Element():\n",
    "    def __init__(self, name, symbol, number):\n",
    "        self.__name = name\n",
    "        self.__symbol = symbol\n",
    "        self.__number = number\n",
    "        \n",
    "    @property\n",
    "    def name(self):\n",
    "        return self.__name\n",
    "\n",
    "    @property\n",
    "    def symbol(self):\n",
    "        return self.__symbol\n",
    "    \n",
    "    @property\n",
    "    def number(self):\n",
    "        return self.__number\n",
    "    \n",
    "element = Element('Hey', 'H', 1)\n",
    "print(element.name, element.symbol, element.number)\n",
    " "
   ]
  },
  {
   "cell_type": "markdown",
   "id": "d696218f",
   "metadata": {},
   "source": [
    "**9. Define three classes: Bear, Rabbit, and Octothorpe. For each, define only one method: eats(). This should return 'berries' (Bear), 'clover' (Rabbit), or 'campers' (Octothorpe). Create one object from each and print what it eats.**"
   ]
  },
  {
   "cell_type": "code",
   "execution_count": 41,
   "id": "fa05d1d4",
   "metadata": {},
   "outputs": [
    {
     "name": "stdout",
     "output_type": "stream",
     "text": [
      "berries clover campers\n"
     ]
    }
   ],
   "source": [
    "class Bear:\n",
    "    def eats(self):\n",
    "        return 'berries'\n",
    "\n",
    "class Rabbit:\n",
    "    def eats(self):\n",
    "        return 'clover'\n",
    "\n",
    "class Octothorpe:\n",
    "    def eats(self):\n",
    "        return 'campers'\n",
    "\n",
    "bear = Bear()\n",
    "rabbit = Rabbit()\n",
    "octo = Octothorpe()\n",
    "print(bear.eats(), rabbit.eats(), octo.eats())"
   ]
  },
  {
   "cell_type": "markdown",
   "id": "b165b169",
   "metadata": {},
   "source": [
    "**10. Define these classes: Laser, Claw, and SmartPhone. Each has only one method: does(). This returns 'disintegrate' (Laser), 'crush' (Claw), or 'ring' (SmartPhone). Then, define the class Robot that has one instance (object) of each of these. Define a does() method for the Robot that prints what its component objects do.**"
   ]
  },
  {
   "cell_type": "code",
   "execution_count": 42,
   "id": "a0257822",
   "metadata": {},
   "outputs": [
    {
     "name": "stdout",
     "output_type": "stream",
     "text": [
      "Laser: disintegrate\n",
      "Claw: crush\n",
      "SmartPhone: ring\n"
     ]
    }
   ],
   "source": [
    "class Laser:\n",
    "    def does(self):\n",
    "        return 'disintegrate'\n",
    "\n",
    "class Claw:\n",
    "    def does(self):\n",
    "        return 'crush'\n",
    "\n",
    "class SmartPhone:\n",
    "    def does(self):\n",
    "        return 'ring'\n",
    "        \n",
    "class Robot:\n",
    "    def __init__(self):\n",
    "        self.laser = Laser()\n",
    "        self.claw = Claw()\n",
    "        self.smartPhone = SmartPhone()\n",
    "        \n",
    "    def does(self):\n",
    "        print(f\"Laser: {self.laser.does()}\")\n",
    "        print(f\"Claw: {self.claw.does()}\")\n",
    "        print(f\"SmartPhone: {self.smartPhone.does()}\")\n",
    "        \n",
    "robo = Robot()\n",
    "robo.does()"
   ]
  },
  {
   "cell_type": "code",
   "execution_count": null,
   "id": "8b0d757d",
   "metadata": {},
   "outputs": [],
   "source": []
  }
 ],
 "metadata": {
  "kernelspec": {
   "display_name": "Python 3 (ipykernel)",
   "language": "python",
   "name": "python3"
  },
  "language_info": {
   "codemirror_mode": {
    "name": "ipython",
    "version": 3
   },
   "file_extension": ".py",
   "mimetype": "text/x-python",
   "name": "python",
   "nbconvert_exporter": "python",
   "pygments_lexer": "ipython3",
   "version": "3.9.12"
  }
 },
 "nbformat": 4,
 "nbformat_minor": 5
}
