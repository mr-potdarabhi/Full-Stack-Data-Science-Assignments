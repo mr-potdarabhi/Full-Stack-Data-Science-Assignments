{
 "cells": [
  {
   "cell_type": "markdown",
   "id": "fed5381f",
   "metadata": {},
   "source": [
    "# Assignment_22"
   ]
  },
  {
   "cell_type": "markdown",
   "id": "f29df800",
   "metadata": {},
   "source": [
    "**1. What is the result of the code, and explain?**\n",
    "\n",
    "**&gt;&gt;&gt; X = &#39;iNeuron&#39;\\**\\\n",
    "**&gt;&gt;&gt; def func():\\**\\\n",
    "**print(X)**\n",
    "\n",
    "\n",
    "**&gt;&gt;&gt; func()**"
   ]
  },
  {
   "cell_type": "code",
   "execution_count": 2,
   "id": "19ce2947",
   "metadata": {},
   "outputs": [
    {
     "name": "stdout",
     "output_type": "stream",
     "text": [
      "iNeuron\n"
     ]
    }
   ],
   "source": [
    "X= 'iNeuron'\n",
    "\n",
    "def func():\n",
    "    print(X)\n",
    "    \n",
    "func()"
   ]
  },
  {
   "cell_type": "markdown",
   "id": "4d1ee2e8",
   "metadata": {},
   "source": [
    "The above program will print iNeuron to the console as there is no local variable X in the function and the global variable X will be called"
   ]
  },
  {
   "cell_type": "markdown",
   "id": "b8cebac1",
   "metadata": {},
   "source": [
    "**2. What is the result of the code, and explain?**\n",
    "\n",
    "**&gt;&gt;&gt; X = &#39;iNeuron&#39;**\n",
    "\n",
    "**&gt;&gt;&gt; def func():**\n",
    "\n",
    "**X = &#39;NI!&#39;**\n",
    "\n",
    "**&gt;&gt;&gt; func()**\n",
    "\n",
    "**&gt;&gt;&gt; print(X)**"
   ]
  },
  {
   "cell_type": "markdown",
   "id": "4c272969",
   "metadata": {},
   "source": [
    "**ANS:** The above program will print iNeuron to the console\n",
    "\n",
    "As the statement X='NI!' will be updating the local value X, but the global variable X will be unchanged"
   ]
  },
  {
   "cell_type": "code",
   "execution_count": 6,
   "id": "2c6deff9",
   "metadata": {},
   "outputs": [
    {
     "name": "stdout",
     "output_type": "stream",
     "text": [
      "iNeuron\n"
     ]
    }
   ],
   "source": [
    " X = 'iNeuron'\n",
    "def func():\n",
    "\n",
    "    X = 'NI!'\n",
    "\n",
    "func()\n",
    "\n",
    "print(X)"
   ]
  },
  {
   "cell_type": "markdown",
   "id": "90758231",
   "metadata": {},
   "source": [
    "**3. What does this code print, and why?**\n",
    "\n",
    "**&gt;&gt;&gt; X = &#39;iNeuron&#39;**\n",
    "\n",
    "**&gt;&gt;&gt; def func():**\n",
    "    \n",
    "**X = &#39;NI&#39;**\n",
    "\n",
    "**print(X)**\n",
    "\n",
    "\n",
    "**&gt;&gt;&gt; func()**\n",
    "\n",
    "**&gt;&gt;&gt; print(X)**"
   ]
  },
  {
   "cell_type": "code",
   "execution_count": 8,
   "id": "d53fa6dd",
   "metadata": {},
   "outputs": [
    {
     "name": "stdout",
     "output_type": "stream",
     "text": [
      "iNeuron\n",
      "iNeuron\n"
     ]
    }
   ],
   "source": [
    "def func():\n",
    "\n",
    "    X = 'NI'\n",
    "\n",
    "print(X)\n",
    "func()\n",
    "\n",
    "print(X)"
   ]
  },
  {
   "cell_type": "markdown",
   "id": "4e5baa16",
   "metadata": {},
   "source": [
    "**ANS:** The above program will print NI followed by iNeuron to the console as the statement X='NI' will be updating the local value X and then printing it to the console, but the global variable X will be unchanged, therefore the next print statement will print the global variable X value which is iNeuron"
   ]
  },
  {
   "cell_type": "markdown",
   "id": "d5ee8bd9",
   "metadata": {},
   "source": [
    "**4. What output does this code produce? Why?**\n",
    "\n",
    "**X = 'iNeuron' def func():**\n",
    "\n",
    "**global X X = 'NI'**\n",
    "\n",
    "**func()**\n",
    "\n",
    "**print(X)**"
   ]
  },
  {
   "cell_type": "markdown",
   "id": "70e47b34",
   "metadata": {},
   "source": [
    "\n",
    "**ANS:** The above program will print NI to the console. The statement global X will ensure the func function uses the global variable instead of a local variable with name X. Hence the assignment statement updates the global varaible X value to NI"
   ]
  },
  {
   "cell_type": "markdown",
   "id": "f48e9203",
   "metadata": {},
   "source": [
    "**5. What about this code—what’s the output, and why?**\n",
    "\n",
    "**X = 'iNeuron'**\n",
    "\n",
    "**def func():**\n",
    "\n",
    "    **X = 'NI**' \n",
    "\n",
    "**def nested():** \n",
    "\n",
    "    **print(X)** \n",
    "    \n",
    "    **nested()**\n",
    "\n",
    "**func()**\n",
    "\n",
    "**X**"
   ]
  },
  {
   "cell_type": "code",
   "execution_count": 18,
   "id": "911f92e9",
   "metadata": {},
   "outputs": [
    {
     "name": "stdout",
     "output_type": "stream",
     "text": [
      "iNeuron\n"
     ]
    },
    {
     "data": {
      "text/plain": [
       "'iNeuron'"
      ]
     },
     "execution_count": 18,
     "metadata": {},
     "output_type": "execute_result"
    }
   ],
   "source": [
    "X = 'iNeuron'\n",
    "\n",
    "def func():\n",
    "\n",
    "    X = 'NI' \n",
    "def nested():\n",
    "\n",
    "    print(X) \n",
    "\n",
    "nested()\n",
    "func()\n",
    "\n",
    "X"
   ]
  },
  {
   "cell_type": "markdown",
   "id": "41e095f9",
   "metadata": {},
   "source": [
    "**ANS :**The above code will print NI followed by iNeuron, this is because the global varaible X is unchanged and the method nested has access to the X declared in its enclosing function func"
   ]
  },
  {
   "cell_type": "markdown",
   "id": "4e5ead66",
   "metadata": {},
   "source": [
    "**6. How about this code: what is its output in Python 3, and explain?**\n",
    "\n",
    "&gt;&gt;&gt; def func():\n",
    "\\\n",
    "X = &#39;NI&#39;\n",
    "\\\n",
    "def nested():\n",
    "\\\n",
    "nonlocal X\n",
    "X = &#39;Spam&#39;\n",
    "\\\n",
    "nested()\n",
    "\\\n",
    "print(X)\n",
    "\n",
    "&gt;&gt;&gt; func()"
   ]
  },
  {
   "cell_type": "code",
   "execution_count": null,
   "id": "5ab461e7",
   "metadata": {},
   "outputs": [],
   "source": [
    "def func():\n",
    "    X = 'NI'\n",
    "def nested():\n",
    "    nonlocal XX = 'Spam'\n",
    "    nested()\n",
    "    print(X)\n",
    "\n",
    "func()"
   ]
  },
  {
   "cell_type": "markdown",
   "id": "e0fc35a1",
   "metadata": {},
   "source": [
    "**ANS :**The above code will print Spam to the console, as they keyword nonlocal helps the function nested() to access the variable X from the function func"
   ]
  }
 ],
 "metadata": {
  "kernelspec": {
   "display_name": "Python 3 (ipykernel)",
   "language": "python",
   "name": "python3"
  },
  "language_info": {
   "codemirror_mode": {
    "name": "ipython",
    "version": 3
   },
   "file_extension": ".py",
   "mimetype": "text/x-python",
   "name": "python",
   "nbconvert_exporter": "python",
   "pygments_lexer": "ipython3",
   "version": "3.9.12"
  }
 },
 "nbformat": 4,
 "nbformat_minor": 5
}
