{
  "nbformat": 4,
  "nbformat_minor": 0,
  "metadata": {
    "colab": {
      "provenance": []
    },
    "kernelspec": {
      "name": "python3",
      "display_name": "Python 3"
    },
    "language_info": {
      "name": "python"
    }
  },
  "cells": [
    {
      "cell_type": "markdown",
      "source": [
        "# Assignment 7_Solutions"
      ],
      "metadata": {
        "id": "8FSY5xBwPvtg"
      }
    },
    {
      "cell_type": "markdown",
      "source": [
        "**1. What is the name of the feature responsible for generating Regex objects?**"
      ],
      "metadata": {
        "id": "MJ1Oxjm_Mbsu"
      }
    },
    {
      "cell_type": "markdown",
      "source": [
        "**Ans**: `re.compile()` is the feature responsible for generation of Regex objects."
      ],
      "metadata": {
        "id": "7YYrnAFiMekl"
      }
    },
    {
      "cell_type": "code",
      "source": [
        "import re\n",
        "x = re.compile(\"Regex Objects\")\n",
        "type(x)\n",
        "print(x)"
      ],
      "metadata": {
        "colab": {
          "base_uri": "https://localhost:8080/"
        },
        "id": "I1Y-kRPnMd0n",
        "outputId": "7682eff4-b8ce-4807-f153-05a06c5c453d"
      },
      "execution_count": 1,
      "outputs": [
        {
          "output_type": "stream",
          "name": "stdout",
          "text": [
            "re.compile('Regex Objects')\n"
          ]
        }
      ]
    },
    {
      "cell_type": "markdown",
      "source": [
        "**2. Why do raw strings often appear in Regex objects?**"
      ],
      "metadata": {
        "id": "klF7wbQJMzWp"
      }
    },
    {
      "cell_type": "markdown",
      "source": [
        "**Ans**: Regular expressions use the backslash character `('\\')`  to indicate special forms  `(Metacharacters)` or to allow special characters `(speical sequences)` to be used without invoking their special meaning. This collides with Python’s usage of the same character for the same purpose in string literals. Hence, Raw strings are used (e.g. r\"\\n\") so that backslashes do not have to be escaped.\n"
      ],
      "metadata": {
        "id": "C1GBrnmBM5t-"
      }
    },
    {
      "cell_type": "markdown",
      "source": [
        "**3. What is the return value of the search() method?**"
      ],
      "metadata": {
        "id": "kLiqNjUxNg3f"
      }
    },
    {
      "cell_type": "markdown",
      "source": [
        "**Ans**: The return value of `re.search(pattern,string)` method is a match object if the pattern is observed in the string else it returns a None"
      ],
      "metadata": {
        "id": "k9PvKrxJNiFP"
      }
    },
    {
      "cell_type": "code",
      "source": [
        "import re\n",
        "match = re.search('i','return value', flags=re.IGNORECASE)\n",
        "print('Output:',match)\n",
        "match = re.search('X','return value', flags=re.IGNORECASE)\n",
        "print('Output:',match)"
      ],
      "metadata": {
        "colab": {
          "base_uri": "https://localhost:8080/"
        },
        "id": "EaKu5c42Mywl",
        "outputId": "6dce5dc1-6d49-4683-ac2c-584c490b6624"
      },
      "execution_count": 16,
      "outputs": [
        {
          "output_type": "stream",
          "name": "stdout",
          "text": [
            "Output: None\n",
            "Output: None\n"
          ]
        }
      ]
    },
    {
      "cell_type": "markdown",
      "source": [
        "**4. From a Match item, how do you get the actual strings that match the pattern?**"
      ],
      "metadata": {
        "id": "IXBwvtj0N1fR"
      }
    },
    {
      "cell_type": "markdown",
      "source": [
        "**Ans**: For Matched items `group()` methods returns actual strings that match the pattern"
      ],
      "metadata": {
        "id": "7H4Cb8KiN-S2"
      }
    },
    {
      "cell_type": "markdown",
      "source": [
        "**5. In the regex which created from the r'(\\d\\d\\d)-(\\d\\d\\d-\\d\\d\\d\\d)', what does group zero cover? Group 2? Group 1?**"
      ],
      "metadata": {
        "id": "a6Ut5ZEsOAj9"
      }
    },
    {
      "cell_type": "markdown",
      "source": [
        "**Ans**: In the Regex` r'  d\\d\\d)-(\\d\\d\\d-\\d\\d\\d\\d)'` the zero group covers the entire pattern match where as the first group cover `(\\d\\d\\d) `and the second group cover `(\\d\\d\\d-\\d\\d\\d\\d)`"
      ],
      "metadata": {
        "id": "dMjZPNczOEdw"
      }
    },
    {
      "cell_type": "code",
      "source": [
        "# Example Program\n",
        "import re\n",
        "phoneNumRegex = re.compile(r'(\\d\\d\\d)-(\\d\\d\\d-\\d\\d\\d\\d)')\n",
        "mo = phoneNumRegex.search('My number is 121-877-3222.')\n",
        "print(mo.groups()) # Prints all groups in a tuple format\n",
        "print(mo.group()) # Always returns the fully matched string \n",
        "print(mo.group(1)) # Returns the first group\n",
        "print(mo.group(2)) # Returns the second group"
      ],
      "metadata": {
        "colab": {
          "base_uri": "https://localhost:8080/"
        },
        "id": "Zbjuygj6NrQN",
        "outputId": "e1ed4f33-4835-4c5c-9a67-669060bc56c8"
      },
      "execution_count": 15,
      "outputs": [
        {
          "output_type": "stream",
          "name": "stdout",
          "text": [
            "('121', '877-3222')\n",
            "121-877-3222\n",
            "121\n",
            "877-3222\n"
          ]
        }
      ]
    },
    {
      "cell_type": "markdown",
      "source": [
        "**6. In standard expression syntax, parentheses and intervals have distinct meanings. How can you tell a regex that you want it to fit real parentheses and periods?**"
      ],
      "metadata": {
        "id": "iPG2eijjIxc3"
      }
    },
    {
      "cell_type": "markdown",
      "source": [
        "**Ans**: The `\\.` `\\(` and `\\)` escape characters in the raw string passed to re.compile() will match actual parenthesis characters."
      ],
      "metadata": {
        "id": "hsaomOsYI4v1"
      }
    },
    {
      "cell_type": "code",
      "source": [
        "import re\n",
        "phoneNumRegex = re.compile(r'(\\(\\d\\d\\d\\)) (\\d\\d\\d-\\d\\d\\d\\d)')\n",
        "mo = phoneNumRegex.search('My phone number is (121) 877-3222.')\n",
        "print(mo.group())"
      ],
      "metadata": {
        "colab": {
          "base_uri": "https://localhost:8080/"
        },
        "id": "og-rMthtOOyW",
        "outputId": "b7321152-8a7d-4d08-d09f-df2252362c6e"
      },
      "execution_count": 2,
      "outputs": [
        {
          "output_type": "stream",
          "name": "stdout",
          "text": [
            "(121) 877-3222\n"
          ]
        }
      ]
    },
    {
      "cell_type": "markdown",
      "source": [
        "**7. The findall() method returns a string list or a list of string tuples. What causes it to return one of the two options?**"
      ],
      "metadata": {
        "id": "ldrmsDfmJMBx"
      }
    },
    {
      "cell_type": "markdown",
      "source": [
        "**Ans**: If the regex pattern has no groups, a list of strings matched is returned. if the regex pattern has groups, a list of tuple of strings is returned."
      ],
      "metadata": {
        "id": "2Ha2KG01JQaS"
      }
    },
    {
      "cell_type": "markdown",
      "source": [
        "**8. In standard expressions, what does the | character mean?**"
      ],
      "metadata": {
        "id": "zzr97iXfJUcC"
      }
    },
    {
      "cell_type": "markdown",
      "source": [
        "**Ans**: In Standard Expressions `|` means `OR` operator."
      ],
      "metadata": {
        "id": "eE6RtN6UJZ92"
      }
    },
    {
      "cell_type": "markdown",
      "source": [
        "**9. In regular expressions, what does the ? character stand for?**"
      ],
      "metadata": {
        "id": "e8TInvpoJeWm"
      }
    },
    {
      "cell_type": "markdown",
      "source": [
        "**Ans**: In regular Expressions, `?` characters represents zero or one match of the preceeding group."
      ],
      "metadata": {
        "id": "4XBwgmbZJiop"
      }
    },
    {
      "cell_type": "code",
      "source": [
        "import re\n",
        "match_1 = re.search(\"Bat(wo)?man\",\"Batman returns\")\n",
        "print(match_1)\n",
        "match_2 = re.search(\"Bat(wo)?man\",\"Batwoman returns\")\n",
        "print(match_2)"
      ],
      "metadata": {
        "colab": {
          "base_uri": "https://localhost:8080/"
        },
        "id": "9SplyQgRJK8S",
        "outputId": "a1e00acb-b824-4710-da1b-70a95dcc293b"
      },
      "execution_count": 3,
      "outputs": [
        {
          "output_type": "stream",
          "name": "stdout",
          "text": [
            "<re.Match object; span=(0, 6), match='Batman'>\n",
            "<re.Match object; span=(0, 8), match='Batwoman'>\n"
          ]
        }
      ]
    },
    {
      "cell_type": "markdown",
      "source": [
        "**10.In regular expressions, what is the difference between the + and * characters?**\n",
        "\n",
        "\n"
      ],
      "metadata": {
        "id": "1fi-noJ5JsCy"
      }
    },
    {
      "cell_type": "markdown",
      "source": [
        "**Ans**: In Regular Expressions, `*` Represents Zero ore more occurances of the preceeding group, whereas `+` represents one or more occurances of the preceeding group."
      ],
      "metadata": {
        "id": "u00tA1ttJzD2"
      }
    },
    {
      "cell_type": "markdown",
      "source": [
        "**11. What is the difference between {4} and {4,5} in regular expression?**"
      ],
      "metadata": {
        "id": "pD8CqQKXKBDo"
      }
    },
    {
      "cell_type": "markdown",
      "source": [
        "**Ans**: `{4}` means that its preceeding group should repeat 4 times. where as `{4,5}` means that its preceeding group should repeat mininum 4 times and maximum 5 times inclusively"
      ],
      "metadata": {
        "id": "f3P2EuwyKJm4"
      }
    },
    {
      "cell_type": "code",
      "source": [
        "import re\n",
        "haRegex = re.compile(r'(O){4}')\n",
        "mo1 = haRegex.search('OOOO')\n",
        "mo2 = haRegex.search('O')\n",
        "print(mo1.group())\n",
        "print(mo2)"
      ],
      "metadata": {
        "colab": {
          "base_uri": "https://localhost:8080/"
        },
        "id": "GE2j2yRGJ-t_",
        "outputId": "75a2a108-a941-48e8-8984-9b4094862624"
      },
      "execution_count": 14,
      "outputs": [
        {
          "output_type": "stream",
          "name": "stdout",
          "text": [
            "OOOO\n",
            "None\n"
          ]
        }
      ]
    },
    {
      "cell_type": "markdown",
      "source": [
        "**12. What do you mean by the \\d, \\w, and \\s shorthand character classes signify in regular expressions?**"
      ],
      "metadata": {
        "id": "Os8FfnaRKjs0"
      }
    },
    {
      "cell_type": "markdown",
      "source": [
        "\n",
        "\n",
        "1.  ` \\w` – Matches a word character equivalent to [a-zA-Z0-9_]\n",
        "\n",
        "1.  `\\d` – Matches digit character equivalent to [0-9]\n",
        "2.  `\\s` – Matches whitespace character (space, tab, newline, etc.)\n",
        "\n",
        "\n",
        "\n"
      ],
      "metadata": {
        "id": "EUm3T9b8KmqE"
      }
    },
    {
      "cell_type": "markdown",
      "source": [
        "**13. What do means by \\D, \\W, and \\S shorthand character classes signify in regular expressions?**"
      ],
      "metadata": {
        "id": "fnkzNDi3K0Nn"
      }
    },
    {
      "cell_type": "markdown",
      "source": [
        "\n",
        "**Ans**: `\\D`, `\\W` and `\\S` are special sequences in regular expresssions in python:\n",
        "1.  ` \\W `– Matches any non-alphanumeric character equivalent to [^a-zA-Z0-9_]\n",
        "\n",
        "1.   `\\D` – Matches any non-digit character, this is equivalent to the set class [^0-9]\n",
        "2.  ` \\S` – Matches any non-whitespace character\n",
        "\n",
        "\n"
      ],
      "metadata": {
        "id": "0jNnfhViK72H"
      }
    },
    {
      "cell_type": "markdown",
      "source": [
        "**14. What is the difference between `.*?` and `.*?`**"
      ],
      "metadata": {
        "id": "ajOTLnGVLNaf"
      }
    },
    {
      "cell_type": "markdown",
      "source": [
        "Ans: `.*` is a Greedy mode, which returns the longest string that meets the condition. Whereas `.*?` is a non greedy mode which returns the shortest string that meets the condition."
      ],
      "metadata": {
        "id": "hEyF3hHFLT2K"
      }
    },
    {
      "cell_type": "markdown",
      "source": [
        "**15. What is the syntax for matching both numbers and lowercase letters with a character class?**\n"
      ],
      "metadata": {
        "id": "sJ23F5fQLiTX"
      }
    },
    {
      "cell_type": "markdown",
      "source": [
        "Ans: The Synatax is Either `[a-z0-9]` or `[0-9a-z]`"
      ],
      "metadata": {
        "id": "BlZbNChuLkun"
      }
    },
    {
      "cell_type": "markdown",
      "source": [
        "**16. What is the procedure for making a normal expression in regax case insensitive?**\n"
      ],
      "metadata": {
        "id": "5ihROdPaLoHE"
      }
    },
    {
      "cell_type": "markdown",
      "source": [
        "**Ans**: We can pass `re.IGNORECASE` as a flag to make a noraml expression case insensitive"
      ],
      "metadata": {
        "id": "XVuFH-yULtYb"
      }
    },
    {
      "cell_type": "markdown",
      "source": [
        "\n",
        "**17. What does the `.` character normally match? What does it match if `re.DOTALL` is passed as 2nd argument in `re.compile()`?**\n",
        "Ans: Dot `.` character matches everything in input except newline character `.`. By passing `re.DOTALL` as a flag to` re.compile()`, you can make the dot character match all characters, including the newline character."
      ],
      "metadata": {
        "id": "FlDshw9wLub_"
      }
    },
    {
      "cell_type": "markdown",
      "source": [
        "**18. If numReg = re.compile(r'\\d+'), what will numRegex.sub('X', '11 drummers, 10 pipers, five rings, 4 hen') return?**\n"
      ],
      "metadata": {
        "id": "fP3DIiXMMCIB"
      }
    },
    {
      "cell_type": "markdown",
      "source": [
        "**Ans**: The Ouput will be `'X drummers, X pipers, five rings, X hen'`"
      ],
      "metadata": {
        "id": "9_xwDgLzMIXh"
      }
    },
    {
      "cell_type": "code",
      "source": [
        "import re\n",
        "numReg = re.compile(r'\\d+')\n",
        "numReg.sub('X', '11 drummers, 10 pipers, five rings, 4 hen')"
      ],
      "metadata": {
        "colab": {
          "base_uri": "https://localhost:8080/",
          "height": 36
        },
        "id": "6B_bLdRLKVof",
        "outputId": "f7cd5203-9d51-4068-a317-27f5cb28e521"
      },
      "execution_count": 13,
      "outputs": [
        {
          "output_type": "execute_result",
          "data": {
            "text/plain": [
              "'X drummers, X pipers, five rings, X hen'"
            ],
            "application/vnd.google.colaboratory.intrinsic+json": {
              "type": "string"
            }
          },
          "metadata": {},
          "execution_count": 13
        }
      ]
    },
    {
      "cell_type": "markdown",
      "source": [
        "**19. What does passing` re.VERBOSE` as the 2nd argument to `re.compile()` allow to do?**\n"
      ],
      "metadata": {
        "id": "3dRRAFkTMUx7"
      }
    },
    {
      "cell_type": "markdown",
      "source": [
        "**Ans**: `re.VERBOSE` will allow to add whitespace and comments to string passed to `re.compile()`."
      ],
      "metadata": {
        "id": "n-TVHob1MgX8"
      }
    },
    {
      "cell_type": "code",
      "source": [
        "# Without Using VERBOSE\n",
        "regex_email = re.compile(r'^([a-z0-9_\\.-]+)@([0-9a-z\\.-]+)\\.([a-z\\.]{2, 6})$', re.IGNORECASE)\n",
        " \n",
        "# Using VERBOSE\n",
        "regex_email = re.compile(r\"\"\"\n",
        "                            ^([a-z0-9_\\.-]+)              # local Part like username\n",
        "                            @                             # single @ sign \n",
        "                            ([0-9a-z\\.-]+)                # Domain name like google\n",
        "                            \\.                            # single Dot .\n",
        "                            ([a-z]{2,6})$                 # Top level Domain  like com/in/org\n",
        "                         \"\"\",re.VERBOSE | re.IGNORECASE)   "
      ],
      "metadata": {
        "id": "Ska_6syFMTgA"
      },
      "execution_count": 12,
      "outputs": []
    },
    {
      "cell_type": "markdown",
      "source": [
        "**20. How would you write a regex that match a number with comma for every three digits? It must match the given following:**\n",
        "**`'42','1,234', '6,368,745'`but not the following: `'12,34,567'` (which has only two digits between the commas)` '1234'` (which lacks commas)**"
      ],
      "metadata": {
        "id": "Pw18yrkaMrPj"
      }
    },
    {
      "cell_type": "code",
      "source": [
        "import re\n",
        "pattern = r'^\\d{1,3}(,\\d{3})*$'\n",
        "pagex = re.compile(pattern)\n",
        "for ele in ['42','1,234', '6,368,745','12,34,567','1234']:\n",
        "    print('Output:',ele, '->', pagex.search(ele))"
      ],
      "metadata": {
        "colab": {
          "base_uri": "https://localhost:8080/"
        },
        "id": "trTEsgf-Moef",
        "outputId": "212ed80d-39bd-4f1a-b096-813ed07ece5b"
      },
      "execution_count": 11,
      "outputs": [
        {
          "output_type": "stream",
          "name": "stdout",
          "text": [
            "Output: 42 -> <re.Match object; span=(0, 2), match='42'>\n",
            "Output: 1,234 -> <re.Match object; span=(0, 5), match='1,234'>\n",
            "Output: 6,368,745 -> <re.Match object; span=(0, 9), match='6,368,745'>\n",
            "Output: 12,34,567 -> None\n",
            "Output: 1234 -> None\n"
          ]
        }
      ]
    },
    {
      "cell_type": "markdown",
      "source": [
        "**21. How would you write a regex that matches the full name of someone whose last name is Watanabe? You can assume that the first name that comes before it will always be one word that begins with a capital letter. The regex must match the following:**"
      ],
      "metadata": {
        "id": "lwtrEyNaNvuG"
      }
    },
    {
      "cell_type": "markdown",
      "source": [
        "\n",
        "`'Haruto Watanabe'`\\\n",
        "`'Alice Watanabe'`\\\n",
        "`'RoboCop Watanabe'`\n",
        "\n",
        "\\\n",
        "**but not the following:**\\\n",
        "`'haruto Watanabe'` (where the first name is not capitalized)\\\n",
        "`'Mr. Watanabe'` (where the preceding word has a nonletter character)\\\n",
        "`'Watanabe'` (which has no first name)\\\n",
        "`'Haruto watanabe'` (where Watanabe is not capitalized)\n",
        "\n",
        "\n",
        "\n",
        "\n",
        "\n"
      ],
      "metadata": {
        "id": "go6qZLX3Nzkk"
      }
    },
    {
      "cell_type": "markdown",
      "source": [
        "Ans: pattern = `r'[A-Z]{1}[a-z]*\\sWatanabe'`"
      ],
      "metadata": {
        "id": "jZy38AAZOTXW"
      }
    },
    {
      "cell_type": "code",
      "source": [
        "import re\n",
        "pattern = r'[A-Z]{1}[a-z]*\\sWatanabe'\n",
        "namex = re.compile(pattern)\n",
        "for name in ['Haruto Watanabe','Alice Watanabe','RoboCop Watanabe','haruto Watanabe','Mr. Watanabe','Watanabe','Haruto watanabe']:\n",
        "    print('Output: ',name,'->',namex.search(name))"
      ],
      "metadata": {
        "colab": {
          "base_uri": "https://localhost:8080/"
        },
        "id": "-yYREWhrNq__",
        "outputId": "6706eb6e-7b37-464f-d7b7-144f09e97d4f"
      },
      "execution_count": 19,
      "outputs": [
        {
          "output_type": "stream",
          "name": "stdout",
          "text": [
            "Output:  Haruto Watanabe -> <re.Match object; span=(0, 15), match='Haruto Watanabe'>\n",
            "Output:  Alice Watanabe -> <re.Match object; span=(0, 14), match='Alice Watanabe'>\n",
            "Output:  RoboCop Watanabe -> <re.Match object; span=(4, 16), match='Cop Watanabe'>\n",
            "Output:  haruto Watanabe -> None\n",
            "Output:  Mr. Watanabe -> None\n",
            "Output:  Watanabe -> None\n",
            "Output:  Haruto watanabe -> None\n"
          ]
        }
      ]
    },
    {
      "cell_type": "markdown",
      "source": [
        "**22. How would you write a regex that matches a sentence where the first word is either Alice, Bob,or Carol; the second word is either eats, pets, or throws; the third word is apples, cats, or baseballs; and the sentence ends with a period? This regex should be case-insensitive. It must match the following:**\\\n",
        "\\\n",
        "\\\n",
        "**`'Alice eats apples.'`**\\\n",
        "**`'Bob pets cats.'`**\\\n",
        "**`'Carol throws baseballs.'`**\\\n",
        "**`'Alice throws Apples.'`**\\\n",
        "**`'BOB EATS CATS.'`**\\\n",
        "\\\n",
        "\n",
        "**but not the following:**\n",
        "\n",
        "**`'RoboCop eats apples.'`**\\\n",
        "**`'ALICE THROWS FOOTBALLS.'`**\\\n",
        "**`'Carol eats 7 cats.'`**"
      ],
      "metadata": {
        "id": "NSmyty0QOoBC"
      }
    },
    {
      "cell_type": "markdown",
      "source": [
        "**Ans**: pattern = `r'(Alice|Bob|Carol)\\s(eats|pets|throws)\\s(apples|cats|baseballs)\\.'`"
      ],
      "metadata": {
        "id": "16cS9ZBMPXLN"
      }
    },
    {
      "cell_type": "code",
      "source": [
        "import re\n",
        "pattern = r'(Alice|Bob|Carol)\\s(eats|pets|throws)\\s(apples|cats|baseballs)\\.'\n",
        "casex = re.compile(pattern,re.IGNORECASE)\n",
        "for ele in ['Alice eats apples.','Bob pets cats.','Carol throws baseballs.','Alice throws Apples.','BOB EATS CATS.','RoboCop eats apples.'\n",
        ",'ALICE THROWS FOOTBALLS.','Carol eats 7 cats.']:\n",
        "    print('Output: ',ele,'->',casex.search(ele))"
      ],
      "metadata": {
        "colab": {
          "base_uri": "https://localhost:8080/"
        },
        "id": "8yEHecdpOlQI",
        "outputId": "efef5777-15a7-418a-87c3-806df63b09c7"
      },
      "execution_count": 21,
      "outputs": [
        {
          "output_type": "stream",
          "name": "stdout",
          "text": [
            "Output:  Alice eats apples. -> <re.Match object; span=(0, 18), match='Alice eats apples.'>\n",
            "Output:  Bob pets cats. -> <re.Match object; span=(0, 14), match='Bob pets cats.'>\n",
            "Output:  Carol throws baseballs. -> <re.Match object; span=(0, 23), match='Carol throws baseballs.'>\n",
            "Output:  Alice throws Apples. -> <re.Match object; span=(0, 20), match='Alice throws Apples.'>\n",
            "Output:  BOB EATS CATS. -> <re.Match object; span=(0, 14), match='BOB EATS CATS.'>\n",
            "Output:  RoboCop eats apples. -> None\n",
            "Output:  ALICE THROWS FOOTBALLS. -> None\n",
            "Output:  Carol eats 7 cats. -> None\n"
          ]
        }
      ]
    }
  ]
}