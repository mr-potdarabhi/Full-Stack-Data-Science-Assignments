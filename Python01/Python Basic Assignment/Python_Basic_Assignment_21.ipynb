{
 "cells": [
  {
   "cell_type": "markdown",
   "id": "e6ccc8f5",
   "metadata": {},
   "source": [
    "# Assignment  21"
   ]
  },
  {
   "cell_type": "markdown",
   "id": "f8e34d75",
   "metadata": {},
   "source": [
    "**1. Add the current date to the text file today.txt as a string.**"
   ]
  },
  {
   "cell_type": "code",
   "execution_count": 8,
   "id": "06212aa4",
   "metadata": {},
   "outputs": [
    {
     "name": "stdout",
     "output_type": "stream",
     "text": [
      "2023-01-25\n"
     ]
    }
   ],
   "source": [
    "from datetime import date\n",
    "\n",
    "with open('today.txt', 'w') as txt:\n",
    "    txt.write(date.today().isoformat())\n",
    "print(date.today().isoformat())"
   ]
  },
  {
   "cell_type": "markdown",
   "id": "21318bcc",
   "metadata": {},
   "source": [
    "**2. Read the text file today.txt into the string today_string**"
   ]
  },
  {
   "cell_type": "code",
   "execution_count": 11,
   "id": "d9ce642f",
   "metadata": {},
   "outputs": [
    {
     "name": "stdout",
     "output_type": "stream",
     "text": [
      "Reading text :  2023-01-25\n"
     ]
    }
   ],
   "source": [
    "with open('today.txt','r') as txt:\n",
    "    today_string = txt.readline()\n",
    "print('Reading text : ',today_string)"
   ]
  },
  {
   "cell_type": "markdown",
   "id": "515f47ac",
   "metadata": {},
   "source": [
    "**3. Parse the date from today_string.**"
   ]
  },
  {
   "cell_type": "code",
   "execution_count": 12,
   "id": "760522de",
   "metadata": {},
   "outputs": [
    {
     "name": "stdout",
     "output_type": "stream",
     "text": [
      "2023-01-25 00:00:00\n"
     ]
    }
   ],
   "source": [
    "from datetime import datetime\n",
    "print(datetime.strptime(today_string, '%Y-%m-%d'))"
   ]
  },
  {
   "cell_type": "markdown",
   "id": "03d28fb5",
   "metadata": {},
   "source": [
    "**4. List the files in your current directory**"
   ]
  },
  {
   "cell_type": "code",
   "execution_count": 17,
   "id": "0baeff6b",
   "metadata": {},
   "outputs": [
    {
     "data": {
      "text/plain": [
       "['!qhlogs.doc',\n",
       " '.ipynb_checkpoints',\n",
       " '12+ (2).docx',\n",
       " '2020_kawasaki_z_h2_superbike_4k.jpg',\n",
       " '5-Days-Live-EDA-and-Feature-Engineering-main.zip',\n",
       " '6thMarch-20220803T090951Z-001.zip',\n",
       " '7z1900-x64.exe',\n",
       " 'abhishek.txt',\n",
       " 'Anaconda3-2022.05-Windows-x86_64.exe',\n",
       " 'AnyDesk.exe',\n",
       " 'carbon_nanotubes.csv',\n",
       " 'Chapter 9 - Practice Set.pdf',\n",
       " 'chromedriver.exe',\n",
       " 'construct5 decision tree example.ipynb',\n",
       " 'Credit card transactions - India - Simple.csv',\n",
       " 'darshan resume .doc',\n",
       " 'DesignEvo-Logo.png',\n",
       " 'desktop.ini',\n",
       " 'eclipse-inst-jre-win64.exe',\n",
       " 'EDA',\n",
       " 'FileTransferSetup.exe',\n",
       " 'Full Stack Data Science BootCamp 2.0 Invoice.pdf',\n",
       " 'Full Stack Data Science Bootcamp 2.0.eml',\n",
       " 'Git-2.39.0.2-64-bit.exe',\n",
       " 'GrammarlyInstaller.c000008axnvx7jlp57rc0a02.exe',\n",
       " 'Intel-HD-Graphics-4000-5000-500-P500-series-Driver_WWW9Y_WIN_20.19.15.5063_A10_01.EXE',\n",
       " 'Mahaling Resume.doc',\n",
       " 'Matplotlib & Seaborn Cheat Sheet..pdf',\n",
       " 'mongodb-windows-x86_64-6.0.3-signed (1).msi',\n",
       " 'mongodb-windows-x86_64-6.0.3-signed.msi',\n",
       " 'mydict.py',\n",
       " 'mysql-installer-community-8.0.31.0.msi',\n",
       " 'npp.8.4.6.Installer.exe',\n",
       " 'PBIDesktopSetup_x64.exe',\n",
       " 'pexels-jeremy-bishop-2422915.jpg',\n",
       " 'Postman-win64-Setup.exe',\n",
       " 'Practise Problems.ipynb',\n",
       " 'pycharm-community-2022.2.3 (1).exe',\n",
       " 'python-3.10.7-amd64.exe',\n",
       " 'python-3.11.0rc2-amd64.exe',\n",
       " 'Python_Basic_Assignment_20.ipynb',\n",
       " 'readme.txt',\n",
       " 'regression',\n",
       " 'review scrapper.ipynb',\n",
       " 'Scrapper Deployment link.docx',\n",
       " 'scrapping.ipynb',\n",
       " 'shareit-connect-and-transfer-6-2-68-ww.apk',\n",
       " 'SHAREit-KCWEB.exe',\n",
       " 'SQL basic .ipynb',\n",
       " 'sql day 2 .ipynb',\n",
       " 'stats',\n",
       " 'SVM-Kernels-main',\n",
       " 'Telegram Desktop',\n",
       " 'Untitled Folder',\n",
       " 'vocab.kos.txt',\n",
       " 'vocab.nips.txt',\n",
       " 'vocab.nytimes.txt',\n",
       " 'vocab.pubmed.txt',\n",
       " 'VSCodeUserSetup-x64-1.73.1.exe',\n",
       " 'WhatsAppSetup.exe',\n",
       " 'ZoomInstaller.exe']"
      ]
     },
     "execution_count": 17,
     "metadata": {},
     "output_type": "execute_result"
    }
   ],
   "source": [
    "import os\n",
    "os.listdir('.')"
   ]
  },
  {
   "cell_type": "markdown",
   "id": "ff86dd39",
   "metadata": {},
   "source": [
    "**5. Create a list of all of the files in your parent directory (minimum five files should be available).**"
   ]
  },
  {
   "cell_type": "code",
   "execution_count": 16,
   "id": "5fb202e4",
   "metadata": {},
   "outputs": [
    {
     "name": "stdout",
     "output_type": "stream",
     "text": [
      "<class 'list'>\n",
      "['.astropy', '.bash_history', '.cache', '.conda', '.condarc', '.continuum', '.cufflinks', '.eclipse', '.git', '.gitconfig', '.idlerc', '.ipynb_checkpoints', '.ipython', '.jupyter', '.lesshst', '.matplotlib', '.p2', '.spyder-py3', '.ssh', '.vscode', '02_Assignment_02.ipynb', '3D Objects', 'AppData', 'Application Data', 'car.data', 'carbon_nanotubes.csv', 'Contacts', 'Cookies', 'Desktop', 'Documents', 'Downloads', 'eclipse', 'eclipse-workspace', 'exception handling.ipynb', 'Favorites', 'file open close write read.ipynb', 'glass.data', 'IntelGraphicsProfiles', 'Jedi', 'Links', 'llloog.log', 'Local Settings', 'loges.log', 'Logging.ipynb', 'MicrosoftEdgeBackups', 'modules & packages.ipynb', 'Music', 'My Documents', 'My sql Working with Database and Python task-1.ipynb', 'NetHood', 'NTUSER.DAT', 'ntuser.dat.LOG1', 'ntuser.dat.LOG2', 'NTUSER.DAT{1c3790b4-b8ad-11e8-aa21-e41d2d101530}.TM.blf', 'NTUSER.DAT{1c3790b4-b8ad-11e8-aa21-e41d2d101530}.TMContainer00000000000000000001.regtrans-ms', 'NTUSER.DAT{1c3790b4-b8ad-11e8-aa21-e41d2d101530}.TMContainer00000000000000000002.regtrans-ms', 'ntuser.ini', 'OneDrive', 'oops class &  OOPs Concepts Polymorphism.ipynb', 'Pandas.ipynb', 'Pictures', 'plass.data', 'Postman', 'PrintHood', 'Recent', 'requirements.txt', 'Saved Games', 'ScStore', 'seaborn-data', 'Searches', 'SendTo', 'Start Menu', 'Templates', 'Untitled.ipynb', 'Untitled1.ipynb', 'Untitled10.ipynb', 'Untitled2.ipynb', 'Untitled3.ipynb', 'Untitled4.ipynb', 'Untitled5.ipynb', 'Untitled6.ipynb', 'Untitled7.ipynb', 'Untitled8.ipynb', 'Untitled9.ipynb', 'Videos', '__pycache__']\n",
      "Number of files: 86\n"
     ]
    }
   ],
   "source": [
    "lst_files = os.listdir('..')\n",
    "print(type(lst_files))\n",
    "print(lst_files)\n",
    "print(f\"Number of files: {len(lst_files)}\")"
   ]
  },
  {
   "cell_type": "markdown",
   "id": "07b229ee",
   "metadata": {},
   "source": [
    "**6. Use multiprocessing to create three separate processes. Make each one wait a random number of seconds between one and five, print the current time, and then exit.**"
   ]
  },
  {
   "cell_type": "code",
   "execution_count": 18,
   "id": "54c874d3",
   "metadata": {},
   "outputs": [
    {
     "name": "stdout",
     "output_type": "stream",
     "text": [
      "starting processes\n",
      "Process 0 will sleep for 4\n",
      "starting processes\n",
      "Process 1 will sleep for 6\n",
      "starting processes\n",
      "Process 2 will sleep for 10\n"
     ]
    }
   ],
   "source": [
    "\n",
    "import multiprocessing\n",
    "from datetime import datetime \n",
    "from time import sleep \n",
    "import random\n",
    "\n",
    "def now_sleep(seconds): \n",
    "    print('wait', seconds, 'seconds, time is', datetime.utcnow())\n",
    "    sleep(seconds) \n",
    "    print(\"Finished Process!\")\n",
    "\n",
    "if __name__ == '__main__':\n",
    "    for n in range(3): \n",
    "        print(\"starting processes\")\n",
    "        seconds = random.randint(1, 10) \n",
    "        print(f\"Process {n} will sleep for {seconds}\")\n",
    "        proc = multiprocessing.Process(target=now_sleep, args=(seconds,)) \n",
    "        proc.start()\n",
    "        \n"
   ]
  },
  {
   "cell_type": "markdown",
   "id": "0f7c822b",
   "metadata": {},
   "source": [
    "**7. Create a date object of your day of birth.**"
   ]
  },
  {
   "cell_type": "code",
   "execution_count": 20,
   "id": "e6a99432",
   "metadata": {},
   "outputs": [
    {
     "name": "stdout",
     "output_type": "stream",
     "text": [
      "1997-11-09\n"
     ]
    }
   ],
   "source": [
    "my_birthday = date(1997, 11, 9)\n",
    "print(my_birthday)"
   ]
  },
  {
   "cell_type": "markdown",
   "id": "aa211094",
   "metadata": {},
   "source": [
    "**8. What day of the week was your day of birth?**"
   ]
  },
  {
   "cell_type": "code",
   "execution_count": 21,
   "id": "2c5a0d19",
   "metadata": {},
   "outputs": [
    {
     "name": "stdout",
     "output_type": "stream",
     "text": [
      "My birthday was on  7 th day of the week\n"
     ]
    }
   ],
   "source": [
    "print(\"My birthday was on \",my_birthday.isoweekday(),\"th day of the week\")\n"
   ]
  },
  {
   "cell_type": "markdown",
   "id": "34a810dc",
   "metadata": {},
   "source": [
    "**9. When will you be (or when were you) 10,000 days old?**"
   ]
  },
  {
   "cell_type": "code",
   "execution_count": 22,
   "id": "d62768b1",
   "metadata": {},
   "outputs": [
    {
     "name": "stdout",
     "output_type": "stream",
     "text": [
      "2025-03-27\n"
     ]
    }
   ],
   "source": [
    "from datetime import timedelta\n",
    "\n",
    "thousand_days = my_birthday + timedelta(days=10000)\n",
    "print(thousand_days)"
   ]
  },
  {
   "cell_type": "code",
   "execution_count": null,
   "id": "44e698b0",
   "metadata": {},
   "outputs": [],
   "source": []
  }
 ],
 "metadata": {
  "kernelspec": {
   "display_name": "Python 3 (ipykernel)",
   "language": "python",
   "name": "python3"
  },
  "language_info": {
   "codemirror_mode": {
    "name": "ipython",
    "version": 3
   },
   "file_extension": ".py",
   "mimetype": "text/x-python",
   "name": "python",
   "nbconvert_exporter": "python",
   "pygments_lexer": "ipython3",
   "version": "3.9.12"
  }
 },
 "nbformat": 4,
 "nbformat_minor": 5
}
