{
  "nbformat": 4,
  "nbformat_minor": 0,
  "metadata": {
    "colab": {
      "provenance": []
    },
    "kernelspec": {
      "name": "python3",
      "display_name": "Python 3"
    },
    "language_info": {
      "name": "python"
    }
  },
  "cells": [
    {
      "cell_type": "markdown",
      "source": [
        "# Assignment 4 Solutions\n"
      ],
      "metadata": {
        "id": "pewfpHvXAp95"
      }
    },
    {
      "cell_type": "markdown",
      "source": [
        "####**1.What exactly is [ ]?**"
      ],
      "metadata": {
        "id": "SMPKJmnrA6XO"
      }
    },
    {
      "cell_type": "markdown",
      "source": [
        "**Ans**: The empty list represented by [ ] is a list that contains no items. This is similar to '' which represents an empty string ."
      ],
      "metadata": {
        "id": "40Yw2MF_A94y"
      }
    },
    {
      "cell_type": "markdown",
      "source": [
        "####**2.In a list of values stored in a variable called spam, how would you assign the value 'hello' as the third value? (Assume [2, 4, 6, 8, 10] are in spam.)**\n"
      ],
      "metadata": {
        "id": "3WITtkdWBH-p"
      }
    },
    {
      "cell_type": "markdown",
      "source": [
        "**Ans**:  ```spam[2]='hello'```  (Note: Lists follows zero based indexing)"
      ],
      "metadata": {
        "id": "imLNOwjrBU2t"
      }
    },
    {
      "cell_type": "code",
      "source": [
        "# Example\n",
        "spam=[2,4,6,8,10]\n",
        "print(spam)\n",
        "spam[2]='hello' #List uses zero based indexing\n",
        "print(spam)\n"
      ],
      "metadata": {
        "colab": {
          "base_uri": "https://localhost:8080/"
        },
        "id": "hPyfQWRUDBjv",
        "outputId": "f54167e7-1e95-4296-cf5a-e9e6aa687d39"
      },
      "execution_count": 20,
      "outputs": [
        {
          "output_type": "stream",
          "name": "stdout",
          "text": [
            "[2, 4, 6, 8, 10]\n",
            "[2, 4, 'hello', 8, 10]\n"
          ]
        }
      ]
    },
    {
      "cell_type": "markdown",
      "source": [
        "####**3. What is the value of ```spam[int(int('3'*2)//11)] ```?**\n",
        "\n",
        "\n",
        "\n",
        "\n",
        "\n"
      ],
      "metadata": {
        "id": "dOtsInM9BZ5x"
      }
    },
    {
      "cell_type": "markdown",
      "source": [
        "**Ans**: ```'d'``` (Note that '3' * 2 is the string '33', which is passed to int() before being divided by 11. This eventually evaluates to 3, ```spam[3]``` is equal to ```d```.)"
      ],
      "metadata": {
        "id": "MIuJmwAkEUZI"
      }
    },
    {
      "cell_type": "code",
      "source": [
        "\n",
        "spam=['a','b','c','d']\n",
        "print(\"spam[int(int('3'*2)//11)] ->\",spam[int(int('3'*2)//11)])"
      ],
      "metadata": {
        "colab": {
          "base_uri": "https://localhost:8080/"
        },
        "id": "3N2CekxqEqd2",
        "outputId": "201e8d06-4afa-4bee-baf7-e64684661cb4"
      },
      "execution_count": 21,
      "outputs": [
        {
          "output_type": "stream",
          "name": "stdout",
          "text": [
            "spam[int(int('3'*2)//11)] -> d\n"
          ]
        }
      ]
    },
    {
      "cell_type": "markdown",
      "source": [
        "####**4. What is the value of ```spam[-1]```**?**"
      ],
      "metadata": {
        "id": "q9J3GSMhEn0I"
      }
    },
    {
      "cell_type": "code",
      "source": [
        "\n",
        "spam=['a','b','c','d']\n",
        "print('spam[-1] -> ',spam[-1])\n"
      ],
      "metadata": {
        "colab": {
          "base_uri": "https://localhost:8080/"
        },
        "id": "inAVh0ppEmDu",
        "outputId": "ccbfa358-0d37-4971-94cf-c25f60c99b2e"
      },
      "execution_count": 22,
      "outputs": [
        {
          "output_type": "stream",
          "name": "stdout",
          "text": [
            "spam[-1] ->  d\n"
          ]
        }
      ]
    },
    {
      "cell_type": "markdown",
      "source": [
        "####**5. What is the value of ```spam[:2]```?**"
      ],
      "metadata": {
        "id": "BsbDBEMWFB7K"
      }
    },
    {
      "cell_type": "markdown",
      "source": [
        "**Ans**:``` spam[:2] ```returns all elements in the list spam from 0 to 2 excluding 2"
      ],
      "metadata": {
        "id": "nxagmLkSFM0I"
      }
    },
    {
      "cell_type": "code",
      "source": [
        "spam=['a','b','c','d']\n",
        "print(spam)\n",
        "print(spam[:2])\n"
      ],
      "metadata": {
        "colab": {
          "base_uri": "https://localhost:8080/"
        },
        "id": "jSzU4ubYFMNB",
        "outputId": "cd591816-9ed6-4830-ff1d-7c7fcf1834be"
      },
      "execution_count": 25,
      "outputs": [
        {
          "output_type": "stream",
          "name": "stdout",
          "text": [
            "['a', 'b', 'c', 'd']\n",
            "['a', 'b']\n"
          ]
        }
      ]
    },
    {
      "cell_type": "markdown",
      "source": [
        "####**6. What is the value of bacon.index('cat')?**"
      ],
      "metadata": {
        "id": "tzF6sHB3FhM_"
      }
    },
    {
      "cell_type": "markdown",
      "source": [
        "**Ans**: The value of `bacon.index('cat')` is 1 (Note: index method returns the \n",
        "\n",
        "index of first occuerence of 'cat')"
      ],
      "metadata": {
        "id": "X4-WGkPDFmH1"
      }
    },
    {
      "cell_type": "code",
      "source": [
        "bacon=[3.14,'cat',11,'cat',True]\n",
        "print(\"bacon.index('cat') ->\",bacon.index('cat'))"
      ],
      "metadata": {
        "colab": {
          "base_uri": "https://localhost:8080/"
        },
        "id": "o1fXSZzLFA9k",
        "outputId": "760980e2-71af-4234-e119-0e7c610c2297"
      },
      "execution_count": 26,
      "outputs": [
        {
          "output_type": "stream",
          "name": "stdout",
          "text": [
            "bacon.index('cat') -> 1\n"
          ]
        }
      ]
    },
    {
      "cell_type": "markdown",
      "source": [
        "####**7. How does` bacon.append(99)` change the look of the list value in bacon?**"
      ],
      "metadata": {
        "id": "5GpH8hNPGBXR"
      }
    },
    {
      "cell_type": "code",
      "source": [
        "bacon=[3.14,'cat',11,'cat',True]\n",
        "print(bacon)\n",
        "bacon.append(99) # appends 99 to the end of the list\n",
        "print(bacon)\n"
      ],
      "metadata": {
        "colab": {
          "base_uri": "https://localhost:8080/"
        },
        "id": "KECGlaAEFvEJ",
        "outputId": "979766e8-3ee4-4c43-a221-9f2047a93617"
      },
      "execution_count": 27,
      "outputs": [
        {
          "output_type": "stream",
          "name": "stdout",
          "text": [
            "[3.14, 'cat', 11, 'cat', True]\n",
            "[3.14, 'cat', 11, 'cat', True, 99]\n"
          ]
        }
      ]
    },
    {
      "cell_type": "markdown",
      "source": [
        "####**8. How does `bacon.remove('cat')` change the look of the list in bacon?**"
      ],
      "metadata": {
        "id": "n_UGyeksGNX1"
      }
    },
    {
      "cell_type": "markdown",
      "source": [
        "**Ans**: The `remove` method removes the first occurence of the element in the list"
      ],
      "metadata": {
        "id": "QP622msdGR4h"
      }
    },
    {
      "cell_type": "code",
      "source": [
        "print(bacon)\n",
        "bacon.remove('cat')\n",
        "print(bacon)\n"
      ],
      "metadata": {
        "colab": {
          "base_uri": "https://localhost:8080/"
        },
        "id": "gyK9JjblGLtr",
        "outputId": "dd1fd8ce-b9d9-4ba9-b3e8-f03da2a5d90f"
      },
      "execution_count": 29,
      "outputs": [
        {
          "output_type": "stream",
          "name": "stdout",
          "text": [
            "[3.14, 11, 'cat', True, 99]\n",
            "[3.14, 11, True, 99]\n"
          ]
        }
      ]
    },
    {
      "cell_type": "markdown",
      "source": [
        "####**9.what are the list concatenation and list replication operations?**"
      ],
      "metadata": {
        "id": "3xdshGdBGb4Z"
      }
    },
    {
      "cell_type": "markdown",
      "source": [
        "Ans: The operator for list concatenation is `+`, while the operator for replication is `*`. (This is the same as for strings.)"
      ],
      "metadata": {
        "id": "kQH9IkYkGh6p"
      }
    },
    {
      "cell_type": "code",
      "source": [
        "# Example\n",
        "list_1 = ['ML','DL','AI','CV','NLP']\n",
        "list_2 = ['RNN','CNN','SVN']\n",
        "print(list_1 + list_2) # List Concatenation\n",
        "print(list_2*2) # List Replication\n"
      ],
      "metadata": {
        "colab": {
          "base_uri": "https://localhost:8080/"
        },
        "id": "621I1p_9GZEx",
        "outputId": "9f91ccc0-faf3-4d2a-cf61-b27884ddd1f4"
      },
      "execution_count": 30,
      "outputs": [
        {
          "output_type": "stream",
          "name": "stdout",
          "text": [
            "['ML', 'DL', 'AI', 'CV', 'NLP', 'RNN', 'CNN', 'SVN']\n",
            "['RNN', 'CNN', 'SVN', 'RNN', 'CNN', 'SVN']\n"
          ]
        }
      ]
    },
    {
      "cell_type": "markdown",
      "source": [
        "####**10.what is the difference between the list method `append()` and `insert()` ?**"
      ],
      "metadata": {
        "id": "hnE19ODHG4l4"
      }
    },
    {
      "cell_type": "markdown",
      "source": [
        "**Ans**: While `append() `will add values only to the end of a list, `insert()`  can add them anywhere in the list."
      ],
      "metadata": {
        "id": "Lea2iZeBHJ-G"
      }
    },
    {
      "cell_type": "code",
      "source": [
        "#Examples\n",
        "A = [1,2,3,4,5]\n",
        "A.append(6)\n",
        "print(A)\n",
        "A.insert(2,'Demo')\n",
        "print(A)\n"
      ],
      "metadata": {
        "colab": {
          "base_uri": "https://localhost:8080/"
        },
        "id": "D-UFh09AHZct",
        "outputId": "0e0fcc51-a67a-4f7b-ad95-edea3ded5248"
      },
      "execution_count": 33,
      "outputs": [
        {
          "output_type": "stream",
          "name": "stdout",
          "text": [
            "[1, 2, 3, 4, 5, 6]\n",
            "[1, 2, 'Demo', 3, 4, 5, 6]\n"
          ]
        }
      ]
    },
    {
      "cell_type": "markdown",
      "source": [
        "####**11. What are the two methods for removing items from a list?**"
      ],
      "metadata": {
        "id": "oem4nf0WHs1S"
      }
    },
    {
      "cell_type": "markdown",
      "source": [
        "**Ans**: The `del` statement and the `remove() ` method are two ways to remove values from a list"
      ],
      "metadata": {
        "id": "FC9CMgbCHu0W"
      }
    },
    {
      "cell_type": "markdown",
      "source": [
        "####**12. Describe how list values and string values are identical.**"
      ],
      "metadata": {
        "id": "ehhSwM7fHSZY"
      }
    },
    {
      "cell_type": "markdown",
      "source": [
        "**Ans**: Both lists and strings can be passed to `len() ` function, have indexes and slices, be used in `for ` loops, be concatenated or replicated, and be used with the `in ` and `not in ` operators."
      ],
      "metadata": {
        "id": "Swe-AAGCH66K"
      }
    },
    {
      "cell_type": "markdown",
      "source": [
        "####**13. What's the difference between tuples and lists?**"
      ],
      "metadata": {
        "id": "p0ySrFFRIKZU"
      }
    },
    {
      "cell_type": "markdown",
      "source": [
        "  **Ans**: Lists are `Mutable `, `Indexable ` and `Slicable `. they can have values added, removed, or changed. Tuples are `Immutable ` but `Indexable ` and `Slicable `. the tuple values cannot be changed at all. Also, tuples are represented using parentheses, `() `, while lists use the square brackets, ` []`."
      ],
      "metadata": {
        "id": "7HkTClYQIPxP"
      }
    },
    {
      "cell_type": "markdown",
      "source": [
        "####**14. How do you type a tuple value that only contains the integer 42?**"
      ],
      "metadata": {
        "id": "fUZMxAZxImr5"
      }
    },
    {
      "cell_type": "markdown",
      "source": [
        "**Ans**:(42,) (The trailing comma is mandatory. otherwise its considered as a int by python Interpreter)"
      ],
      "metadata": {
        "id": "K03PkxPAIyag"
      }
    },
    {
      "cell_type": "code",
      "source": [
        "tup1=(42)\n",
        "tup2=(42,)\n",
        "print(type(tup1))\n",
        "print(type(tup2))"
      ],
      "metadata": {
        "colab": {
          "base_uri": "https://localhost:8080/"
        },
        "id": "q2h9kwoeIyAi",
        "outputId": "87f7449f-cf67-42fb-97b6-ff61e5d8d870"
      },
      "execution_count": 35,
      "outputs": [
        {
          "output_type": "stream",
          "name": "stdout",
          "text": [
            "<class 'int'>\n",
            "<class 'tuple'>\n"
          ]
        }
      ]
    },
    {
      "cell_type": "markdown",
      "source": [
        "####**15. How do you get a list value's tuple form? How do you get a tuple value's list form?**"
      ],
      "metadata": {
        "id": "qakE90kFI_hH"
      }
    },
    {
      "cell_type": "markdown",
      "source": [
        "**Ans**: The `tuple() ` and `list() ` functions, respectively are used to convert a list to tuple and vice versa"
      ],
      "metadata": {
        "id": "RgFcsPrGJElX"
      }
    },
    {
      "cell_type": "markdown",
      "source": [
        "####**16. Variables that \"contain\" list values are not necessarily lists themselves. Instead, what do they contain?**"
      ],
      "metadata": {
        "id": "w_BDXuXLJM9d"
      }
    },
    {
      "cell_type": "markdown",
      "source": [
        "**Ans**: They contain references to list values."
      ],
      "metadata": {
        "id": "ySt1EcxlJSOA"
      }
    },
    {
      "cell_type": "markdown",
      "source": [
        "####**17. How do you distinguish between copy.copy() and copy.deepcopy()?**"
      ],
      "metadata": {
        "id": "LbUiOXCEJcUM"
      }
    },
    {
      "cell_type": "markdown",
      "source": [
        "**Ans**: The `copy.copy() ` function will do a shallow copy of a list, while the `copy.deepcopy() ` function will do a deep copy of a list. That is, only copy.deepcopy() will duplicate any lists inside the list."
      ],
      "metadata": {
        "id": "NYii8XN7JfsZ"
      }
    }
  ]
}