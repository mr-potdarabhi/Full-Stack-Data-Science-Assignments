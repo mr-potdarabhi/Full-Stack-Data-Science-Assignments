{
  "nbformat": 4,
  "nbformat_minor": 0,
  "metadata": {
    "colab": {
      "provenance": []
    },
    "kernelspec": {
      "name": "python3",
      "display_name": "Python 3"
    },
    "language_info": {
      "name": "python"
    }
  },
  "cells": [
    {
      "cell_type": "markdown",
      "source": [
        "# **Assignment 14**\n"
      ],
      "metadata": {
        "id": "W7PtaKEgjuN_"
      }
    },
    {
      "cell_type": "markdown",
      "source": [
        "**1. What does RGBA stand for?**"
      ],
      "metadata": {
        "id": "xVYNU0Pjgeff"
      }
    },
    {
      "cell_type": "markdown",
      "source": [
        "**Ans**: RGBA is a four-channel format containing data\n",
        "**`Red-Green-Blue-Alpha`**"
      ],
      "metadata": {
        "id": "lh92pziqggPi"
      }
    },
    {
      "cell_type": "markdown",
      "source": [
        "**2.From the Pillow module, how do you get the RGBA value of any images?**"
      ],
      "metadata": {
        "id": "qlIEg01OgsuQ"
      }
    },
    {
      "cell_type": "markdown",
      "source": [
        "**Ans**:  `ImageColor.getcolor()`  get the RGBA value of any images"
      ],
      "metadata": {
        "id": "2XwnsrD7g1wa"
      }
    },
    {
      "cell_type": "markdown",
      "source": [
        "**3. What is a box tuple, and how does it work?**"
      ],
      "metadata": {
        "id": "bUDjBAzhg6J4"
      }
    },
    {
      "cell_type": "markdown",
      "source": [
        "**Ans**: A box tuple is a tuple value of four integers: the left-edge x-coordinate, the top-edge y-coordinate,the width, and the height, respectively."
      ],
      "metadata": {
        "id": "VQ5wq68ChNfA"
      }
    },
    {
      "cell_type": "markdown",
      "source": [
        "**4.Use your image and load in notebook then, How can you find out the width and height of an Image object?**"
      ],
      "metadata": {
        "id": "21Ke8ZYuhWza"
      }
    },
    {
      "cell_type": "code",
      "source": [
        "from PIL import Image\n",
        "im=Image.open(\"image.jpg\")\n",
        "width, height = im.size\n",
        "print(\"width=\", width)\n",
        "print(\"height=\", height)"
      ],
      "metadata": {
        "colab": {
          "base_uri": "https://localhost:8080/"
        },
        "id": "HnL_nw0vhw-i",
        "outputId": "5b0c8090-f0b9-4148-db8f-e8e1d583463b"
      },
      "execution_count": 3,
      "outputs": [
        {
          "output_type": "stream",
          "name": "stdout",
          "text": [
            "width= 5472\n",
            "height= 3648\n"
          ]
        }
      ]
    },
    {
      "cell_type": "markdown",
      "source": [
        "**5.What method would you call to get Image object for a 100×100 image, excluding the lower-left quarter of it?**"
      ],
      "metadata": {
        "id": "0987ZLN0hiyl"
      }
    },
    {
      "cell_type": "code",
      "source": [
        "from PIL import Image\n",
        "img = Image.open('image.jpg')\n",
        "new_img = img.crop((0,50,50,50))"
      ],
      "metadata": {
        "id": "m1zz9iW1ihpn"
      },
      "execution_count": 4,
      "outputs": []
    },
    {
      "cell_type": "markdown",
      "source": [
        "**6. After making changes to an Image object, how could you save it as an image file?**"
      ],
      "metadata": {
        "id": "_FPtmDidipXq"
      }
    },
    {
      "cell_type": "markdown",
      "source": [
        "**Ans**:  After making changes to an Image object,  `save(filename)` using this function you save it as an image file.\n",
        "\n"
      ],
      "metadata": {
        "id": "aWDxUyY4iz2j"
      }
    },
    {
      "cell_type": "markdown",
      "source": [
        "**7.What module contains Pillow’s shape-drawing code?**"
      ],
      "metadata": {
        "id": "IwyNNEhmjbFn"
      }
    },
    {
      "cell_type": "markdown",
      "source": [
        "**Ans** : `ImageDraw` "
      ],
      "metadata": {
        "id": "mSyu_8hVjdmc"
      }
    },
    {
      "cell_type": "markdown",
      "source": [
        "**8. Image objects do not have drawing methods. What kind of object does? How do you get this kind of object?**"
      ],
      "metadata": {
        "id": "TXeVPQODjiPL"
      }
    },
    {
      "cell_type": "markdown",
      "source": [
        "Ans: ImageDraw objects have shape-drawing methods such as `point()`, `line()`, or `rectangle()`.They are returned by passing the Image object to the `ImageDraw.Draw()` function."
      ],
      "metadata": {
        "id": "IfkQC4YfjmTg"
      }
    }
  ]
}