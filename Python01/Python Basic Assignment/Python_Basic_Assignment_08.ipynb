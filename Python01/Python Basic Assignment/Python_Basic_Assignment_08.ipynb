{
  "nbformat": 4,
  "nbformat_minor": 0,
  "metadata": {
    "colab": {
      "provenance": []
    },
    "kernelspec": {
      "name": "python3",
      "display_name": "Python 3"
    },
    "language_info": {
      "name": "python"
    }
  },
  "cells": [
    {
      "cell_type": "markdown",
      "source": [
        "# **Assignment 8**"
      ],
      "metadata": {
        "id": "8yujXuMDKzHL"
      }
    },
    {
      "cell_type": "markdown",
      "source": [
        "**1. Is the Python Standard Library included with PyInputPlus?**"
      ],
      "metadata": {
        "id": "4pFaXiS8ItQG"
      }
    },
    {
      "cell_type": "markdown",
      "source": [
        "**Ans**: No, PyInputPlus is not a part of Python Standard Library, it needs to be installed explicitly using the command !pip install PyInputPlus"
      ],
      "metadata": {
        "id": "rzfIqHQBIuli"
      }
    },
    {
      "cell_type": "markdown",
      "source": [
        "**2. Why is PyInputPlus commonly imported with import pyinputplus as pypi?**"
      ],
      "metadata": {
        "id": "3zSzfMkcI3qf"
      }
    },
    {
      "cell_type": "markdown",
      "source": [
        "**Ans**: You can import the module with import pyinputplus as pyip so that you can enter a shorter name when calling the module's functions.\n",
        "\n"
      ],
      "metadata": {
        "id": "sVV2vyzYI9S7"
      }
    },
    {
      "cell_type": "markdown",
      "source": [
        "**3. How do you distinguish between `inputInt()` and inputFloat()?**"
      ],
      "metadata": {
        "id": "nnjh7lD9JCF9"
      }
    },
    {
      "cell_type": "markdown",
      "source": [
        "**Ans**: `inputInt()` function Accepts an integer value. This also takes additional parameters min, max, greaterThan and lessThan for bounds. And it always returns an int.\n",
        "\\\n",
        "\\\n",
        "Whereas `inputFloat() `function Accepts a floating-point numeric value. this also takes additional min, max, greaterThan and lessThan parameters. and always returns a float."
      ],
      "metadata": {
        "id": "fcpY7Vt0JMGP"
      }
    },
    {
      "cell_type": "markdown",
      "source": [
        "####**4. Using PyInputPlus, how do you ensure that the user enters a whole number between 0 and 99?**\n"
      ],
      "metadata": {
        "id": "1Tc_G4dOJcK4"
      }
    },
    {
      "cell_type": "code",
      "source": [
        "import pyinputplus as pyip\n",
        "wholenumber = pyip.inputInt(prompt='Enter a number: ', min=0, max=100)\n",
        "print(wholenumber)"
      ],
      "metadata": {
        "id": "B0BYrTyRJkUf"
      },
      "execution_count": null,
      "outputs": []
    },
    {
      "cell_type": "markdown",
      "source": [
        "**5. What is transferred to the keyword arguments allowRegexes and blockRegexes?**"
      ],
      "metadata": {
        "id": "RiUXdiE8Jh9n"
      }
    },
    {
      "cell_type": "markdown",
      "source": [
        "**Ans**: keyword arguments take a list of regular expression strings to determine what the PyInputPlus function will accept or reject as valid input."
      ],
      "metadata": {
        "id": "lAwlKe04J3OG"
      }
    },
    {
      "cell_type": "markdown",
      "source": [
        "**6. If a blank input is entered three times, what does inputStr(limit=3) do?**"
      ],
      "metadata": {
        "id": "QWEcz19oJ65N"
      }
    },
    {
      "cell_type": "markdown",
      "source": [
        "**Ans**: The statement` inputStr(limit=3)` will throw two exceptions `ValidationException` and `RetryLimitException`. The first exception is thrown because blank values are not allowed by `inputStr() `function by default. it we want to consider blank values as valid input, we have to set blank=True.\n",
        "\\\n",
        "\\\n",
        "The second exception is occured because we have reached the max limit we have specified by using limit parameter. inorder to avoid this exception we can use default parameter to return a default value when max limit is reached."
      ],
      "metadata": {
        "id": "migz5xjjJ_l4"
      }
    },
    {
      "cell_type": "markdown",
      "source": [
        "**7. If blank input is entered three times, what does inputStr(limit=3, default='hello') do?**"
      ],
      "metadata": {
        "id": "7ylfWfj2KPA2"
      }
    },
    {
      "cell_type": "markdown",
      "source": [
        "**Ans**: Since the default parameter is set to `hello`. after blank input is entered three times instead of raising `RetryLimitException` exception. the function will return hello as response to the calling function"
      ],
      "metadata": {
        "id": "vXehazeRKUDb"
      }
    }
  ]
}