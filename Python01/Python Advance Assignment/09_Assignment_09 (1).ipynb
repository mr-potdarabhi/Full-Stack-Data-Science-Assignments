{
  "nbformat": 4,
  "nbformat_minor": 0,
  "metadata": {
    "colab": {
      "provenance": []
    },
    "kernelspec": {
      "name": "python3",
      "display_name": "Python 3"
    },
    "language_info": {
      "name": "python"
    }
  },
  "cells": [
    {
      "cell_type": "markdown",
      "source": [
        "#Assignment 09 Solutions\n"
      ],
      "metadata": {
        "id": "8DnY1qKJysQw"
      }
    },
    {
      "cell_type": "markdown",
      "source": [
        "**Q1. In Python 3.X, what are the names and functions of string object types?**"
      ],
      "metadata": {
        "id": "eeYU-wyqyuOk"
      }
    },
    {
      "cell_type": "markdown",
      "source": [
        "**Ans**: The following are the names and functions of string object types in Python 3.X\n",
        "\n",
        "\n",
        "* **`.isdecimal()`** -> Returns True if all characters in a string are decimal.\n",
        "\\\n",
        "* **`.isalnum()`**-> Returns True if all characters in the string are AlphaNumeric.\n",
        "\\\n",
        "* **`.istitle() `**-> Returns True if first character in a string is in Uppercase.\n",
        "\\\n",
        "* **`.partition()`** -> Splits string at first occurance of sub string and returns a tuple of 3 elements.\n",
        "\\\n",
        "* **`.rpartition()`** -> Splits string at last occurance of sub string and returns a tuple of 3 elements.\n",
        "\\\n",
        "* **`.isidentifier()`** -> Returns True if give string is a valid identifier name.\n",
        "\\\n",
        "* **`len() `**-> Returns the length of the given string.\n",
        "\\\n",
        "* **`.index() `**-> Returns the lowest index of substring if substring is found in the string.\n",
        "\\\n",
        "* **`.rindex()`** -> Returns the highest index of substring if substring is found in the string.\n",
        "\\\n",
        "* **`max()`** -> Returns the highest Alphabetical Character in the string as per ASCII.\n",
        "\\\n",
        "* **`min()`** -> Returns the lowest Alphabetical Character in the string as per ASCII.\n",
        "\\\n",
        "* **`.splitlines()`** -> Returns a list of lines in the string.\n",
        "\\\n",
        "* **`.capitalize()`** -> Returns the string with first character capitalized.\n",
        "\\\n",
        "* **`.upper() `**-> Returns the string with all characters in uppercase.\n",
        "\\\n",
        "* **`.lower()`** -> Returns the string with all characters in lowercase\n",
        "\\\n",
        "* **`.casefold()`** -> Returns the string in lowercase which can be used for \n",
        "caseless comparisions.\n",
        "\\\n",
        "* **`.expandtabs(no_of_spaces)`** -> Replaces tabs in a string with specified no of spaces default is 8\n",
        "\\\n",
        "* **`.find()`** -> Returns lowest index of substring if substring is found in the string else returns -1.\n",
        "\n",
        "* **`.rfind()`**-> Returns highest index of substring if substring is found in the string else returns -1.\n",
        "\\ \n",
        "* **`.count() `**-> Returns the no of occurances of the char in the given string.\n",
        "\\\n",
        "* **`.split()`**-> Returns list of words seperated by given sep else seperated by whitespace.\n",
        "\\\n",
        "* **`.rsplit()`** -> Returns list of words seperated by given sep else seperated by whitespace scanning from end.\n",
        "\\\n",
        "* **`.lstrip() `**-> Returns a copy of where leading whitespaces are removed.\n",
        "\\\n",
        "* **`.rstrip()`** -> Returns a copy of where trailed whitespaces are removed\n",
        "\\.\n",
        "* **`.strip()`** -> Returns a copy of where both leading and trailing whitespaces are removed.\n",
        "\\\n",
        "* **`.swapcase()`** -> Swaps lowercase characters with uppercase and vice versa.\n",
        "\\\n",
        "* **`.join()`** -> Concatenates a list or tuple of words with intervening occuernces of sep.\n",
        "\\ \n",
        "* **`.translate()`** -> translates the characters using table.\n",
        "\\\n",
        "* **`.maketrans()`** -> Creating a mapping translation tbale usable for .\n",
        "translate()\n",
        "\\\n",
        "* **`.replace(,)`** -> Replace all occurances of char_1 with char_2 in string.\n",
        "\\\n",
        "* **`.encode()`** -> Encodes string into any encoding supported by python. \n",
        "Default encoding is UTF-8.\n",
        "\\\n",
        "* **`.ljust()`** -> Left-justify in a field of given width.\n",
        "\\\n",
        "* **`.rjust() `**-> Right-justify in a field of given width.\n",
        "\\\n",
        "* **`.center()`** -> Center-justify in a field of given width.\n",
        "\\\n",
        "* **`.zfill()`** -> Zfill adds zeros to the begining of string until the specified length is reached.\n"
      ],
      "metadata": {
        "id": "ZSzeLksdyzQK"
      }
    },
    {
      "cell_type": "markdown",
      "source": [
        "**Q2. How do the string forms in Python 3.X vary in terms of operations?**"
      ],
      "metadata": {
        "id": "M42Lwcfoz9-X"
      }
    },
    {
      "cell_type": "markdown",
      "source": [
        "**Ans**: In Python3 default format of strings is Unicode Whereas in Pyton2 we need to explicitly mention Unicode value using u.\n",
        "\n"
      ],
      "metadata": {
        "id": "DFD9pTDQ4C-H"
      }
    },
    {
      "cell_type": "markdown",
      "source": [
        "**Q3. In Python 3.X, how do you put non-ASCII Unicode characters in a string?**"
      ],
      "metadata": {
        "id": "9UEkj7hw4ITn"
      }
    },
    {
      "cell_type": "markdown",
      "source": [
        "**Ans**: In Python 3.x unidecode() method from unidecode library can be used to put non-ASCII Unicode Characters in a string.\n",
        "\n"
      ],
      "metadata": {
        "id": "iEVHpFai4M5v"
      }
    },
    {
      "cell_type": "code",
      "source": [
        "from unidecode import unidecode\n",
        "print(unidecode(u'ko\\u017eu\\u0161\\u010dek'))\n",
        "print(unidecode(\"आप नीचे अपनी भाषा और इनपुट उपकरण चुनें और लिखना आरंभ करें\"))\n",
        "print(unidecode(\"谢谢你\"))\n",
        "print(unidecode(\"ありがとう。\"))\n",
        "print(unidecode(\"улыбаться Владимир Путин\"))"
      ],
      "metadata": {
        "colab": {
          "base_uri": "https://localhost:8080/"
        },
        "id": "5DK6NZjG4Rmv",
        "outputId": "b9949387-4bc6-41e9-8e64-7c3c71c338d5"
      },
      "execution_count": 3,
      "outputs": [
        {
          "output_type": "stream",
          "name": "stdout",
          "text": [
            "kozuscek\n",
            "aap niice apnii bhaassaa aur inputt upkrnn cuneN aur likhnaa aarNbh kreN\n",
            "Xie Xie Ni \n",
            "arigatou. \n",
            "ulybat'sia Vladimir Putin\n"
          ]
        }
      ]
    },
    {
      "cell_type": "code",
      "source": [
        "pip install unidecode"
      ],
      "metadata": {
        "colab": {
          "base_uri": "https://localhost:8080/"
        },
        "id": "q3GYfzP14gLS",
        "outputId": "95ddb02f-691c-45a4-bd41-f90d5b37e461"
      },
      "execution_count": 2,
      "outputs": [
        {
          "output_type": "stream",
          "name": "stdout",
          "text": [
            "Looking in indexes: https://pypi.org/simple, https://us-python.pkg.dev/colab-wheels/public/simple/\n",
            "Collecting unidecode\n",
            "  Downloading Unidecode-1.3.6-py3-none-any.whl (235 kB)\n",
            "\u001b[?25l\r\u001b[K     |█▍                              | 10 kB 16.5 MB/s eta 0:00:01\r\u001b[K     |██▉                             | 20 kB 5.5 MB/s eta 0:00:01\r\u001b[K     |████▏                           | 30 kB 7.8 MB/s eta 0:00:01\r\u001b[K     |█████▋                          | 40 kB 3.5 MB/s eta 0:00:01\r\u001b[K     |███████                         | 51 kB 3.9 MB/s eta 0:00:01\r\u001b[K     |████████▍                       | 61 kB 4.6 MB/s eta 0:00:01\r\u001b[K     |█████████▊                      | 71 kB 4.7 MB/s eta 0:00:01\r\u001b[K     |███████████▏                    | 81 kB 5.3 MB/s eta 0:00:01\r\u001b[K     |████████████▌                   | 92 kB 5.7 MB/s eta 0:00:01\r\u001b[K     |██████████████                  | 102 kB 4.6 MB/s eta 0:00:01\r\u001b[K     |███████████████▎                | 112 kB 4.6 MB/s eta 0:00:01\r\u001b[K     |████████████████▊               | 122 kB 4.6 MB/s eta 0:00:01\r\u001b[K     |██████████████████              | 133 kB 4.6 MB/s eta 0:00:01\r\u001b[K     |███████████████████▌            | 143 kB 4.6 MB/s eta 0:00:01\r\u001b[K     |████████████████████▉           | 153 kB 4.6 MB/s eta 0:00:01\r\u001b[K     |██████████████████████▎         | 163 kB 4.6 MB/s eta 0:00:01\r\u001b[K     |███████████████████████▋        | 174 kB 4.6 MB/s eta 0:00:01\r\u001b[K     |█████████████████████████       | 184 kB 4.6 MB/s eta 0:00:01\r\u001b[K     |██████████████████████████▍     | 194 kB 4.6 MB/s eta 0:00:01\r\u001b[K     |███████████████████████████▉    | 204 kB 4.6 MB/s eta 0:00:01\r\u001b[K     |█████████████████████████████▏  | 215 kB 4.6 MB/s eta 0:00:01\r\u001b[K     |██████████████████████████████▋ | 225 kB 4.6 MB/s eta 0:00:01\r\u001b[K     |████████████████████████████████| 235 kB 4.6 MB/s eta 0:00:01\r\u001b[K     |████████████████████████████████| 235 kB 4.6 MB/s \n",
            "\u001b[?25hInstalling collected packages: unidecode\n",
            "Successfully installed unidecode-1.3.6\n"
          ]
        }
      ]
    },
    {
      "cell_type": "markdown",
      "source": [
        "**Q4. In Python 3.X, what are the key differences between text-mode and binary-mode files?**"
      ],
      "metadata": {
        "id": "aeBB6aJE4Puo"
      }
    },
    {
      "cell_type": "markdown",
      "source": [
        "**Ans**: The major difference between these two is that a text file contains textual information in the form of alphabets, digits and special characters or symbols. On the other hand, a binary file contains bytes or a compiled version of a text file.\n",
        "\n",
        "\\\n",
        "When a file is opened in `text mode`, reading its data automatically decodes its content (as per the platform default or as per provided encoding), and returns it as a str; writing operation takes a str, and automatically encodes it before transferring to the file. Text mode files also support universal end-of-line translation, and encoding \n",
        "specification arguments.\n",
        "\n",
        "\\\n",
        "When a file is opened in binary mode by adding a b to the mode string argument in the `open()` call, reading its data does not decode it in any way, and simply returns its content raw and unchanged, as a bytes object; writing takes a bytes object and transfers it to the file unchanged. Binary-mode files also accept a bytearray object for the content to be written to the file."
      ],
      "metadata": {
        "id": "ngYPjoIm40eP"
      }
    },
    {
      "cell_type": "markdown",
      "source": [
        "**Q5. How can you interpret a Unicode text file containing text encoded in a different encoding than your platform's default?**"
      ],
      "metadata": {
        "id": "DA_Cwx3p5AUo"
      }
    },
    {
      "cell_type": "markdown",
      "source": [
        "**Ans**: Use of `encode() `and `decode()` method can be used to you interpret a Unicode text file containing text encoded in a different encoding than your platform's default, by default encoding parameter is UTF-8"
      ],
      "metadata": {
        "id": "i0-WfLR75Feo"
      }
    },
    {
      "cell_type": "markdown",
      "source": [
        "**Q6. What is the best way to make a Unicode text file in a particular encoding format?**"
      ],
      "metadata": {
        "id": "j5YKqVqJ5Knc"
      }
    },
    {
      "cell_type": "markdown",
      "source": [
        "Ans: Use `str.encode()` and `file.write()` to make a Unicode text file in a particular encoding format, default encoding format is `UTF-18.`\n",
        "\n",
        "\n",
        "\n",
        "\n",
        "\n",
        "*  Call `str.encode(encoding)` with encoding set to utf8 to encode str.\\\n",
        "* Call `open(file, mode)` to open a file with mode set to wb . wb writes to files in binary mode & preserves UTF-8format.\\\n",
        "* Call `file.write(data)` to write data to the file."
      ],
      "metadata": {
        "id": "op0kyINL5Mfx"
      }
    },
    {
      "cell_type": "code",
      "source": [
        "unicode_text = u\"улыбаться Владимир Путин\"\n",
        "encoded_unicode_text = unicode_text.encode(\"utf-8\")\n",
        "print(encoded_unicode_text,end=\"\\n\\n\")\n",
        "\n",
        "w_file = open(\"w_file.txt\",\"wb\")\n",
        "w_file.write(encoded_unicode_text)\n",
        "w_file.close()\n",
        "\n",
        "r_file = open(\"w_file.txt\",\"rb\")\n",
        "data = r_file.read()\n",
        "print(data)"
      ],
      "metadata": {
        "colab": {
          "base_uri": "https://localhost:8080/"
        },
        "id": "cjp5KLHq5miK",
        "outputId": "f5e9f34f-0bfa-45df-c2c1-f568b1230ee8"
      },
      "execution_count": 4,
      "outputs": [
        {
          "output_type": "stream",
          "name": "stdout",
          "text": [
            "b'\\xd1\\x83\\xd0\\xbb\\xd1\\x8b\\xd0\\xb1\\xd0\\xb0\\xd1\\x82\\xd1\\x8c\\xd1\\x81\\xd1\\x8f \\xd0\\x92\\xd0\\xbb\\xd0\\xb0\\xd0\\xb4\\xd0\\xb8\\xd0\\xbc\\xd0\\xb8\\xd1\\x80 \\xd0\\x9f\\xd1\\x83\\xd1\\x82\\xd0\\xb8\\xd0\\xbd'\n",
            "\n",
            "b'\\xd1\\x83\\xd0\\xbb\\xd1\\x8b\\xd0\\xb1\\xd0\\xb0\\xd1\\x82\\xd1\\x8c\\xd1\\x81\\xd1\\x8f \\xd0\\x92\\xd0\\xbb\\xd0\\xb0\\xd0\\xb4\\xd0\\xb8\\xd0\\xbc\\xd0\\xb8\\xd1\\x80 \\xd0\\x9f\\xd1\\x83\\xd1\\x82\\xd0\\xb8\\xd0\\xbd'\n"
          ]
        }
      ]
    },
    {
      "cell_type": "markdown",
      "source": [
        "**Q7. What qualifies ASCII text as a form of Unicode text?**"
      ],
      "metadata": {
        "id": "Jk2-q1bv5j89"
      }
    },
    {
      "cell_type": "markdown",
      "source": [
        "**Ans**: **`Unicode`** represents most written languages in the world. ASCII has its equivalent in Unicode. The difference between **`ASCII`** and Unicode is that ASCII represents `lowercase letters (a-z)`, `uppercase letters (A-Z)`,` digits (0–9)` and symbols such as punctuation marks while Unicode represents letters of English, Arabic, Greek etc. mathematical symbols, historical scripts, emoji covering a wide range of characters than ASCII."
      ],
      "metadata": {
        "id": "tbDP22az5t_A"
      }
    },
    {
      "cell_type": "markdown",
      "source": [
        "**Q8. How much of an effect does the change in string types in Python 3.X have on your code?**"
      ],
      "metadata": {
        "id": "CY2uPMvY58Wm"
      }
    },
    {
      "cell_type": "markdown",
      "source": [
        "**Ans**: Python 3 stores strings as Unicode by default whereas Python 2 requires you to mark a string with a u if you want to store it as Unicode. Unicode strings are more versatile than ASCII strings, which are the Python 3.X default, as they can store letters from foreign languages as well as emoji and the standard Roman letters and numerals"
      ],
      "metadata": {
        "id": "m4eM3Hgy6AIA"
      }
    }
  ]
}