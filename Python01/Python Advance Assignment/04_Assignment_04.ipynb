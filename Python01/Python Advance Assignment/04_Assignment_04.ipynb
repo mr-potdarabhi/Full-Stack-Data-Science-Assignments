{
  "nbformat": 4,
  "nbformat_minor": 0,
  "metadata": {
    "colab": {
      "provenance": []
    },
    "kernelspec": {
      "name": "python3",
      "display_name": "Python 3"
    },
    "language_info": {
      "name": "python"
    }
  },
  "cells": [
    {
      "cell_type": "markdown",
      "source": [
        "# Assignment 04 Solutions\n"
      ],
      "metadata": {
        "id": "B9MruvRTWyGO"
      }
    },
    {
      "cell_type": "markdown",
      "source": [
        "**Q1. Which two operator overloading methods can you use in your classes to support iteration?**"
      ],
      "metadata": {
        "id": "uzTo_7JQW0R_"
      }
    },
    {
      "cell_type": "markdown",
      "source": [
        "**Ans**: `__iter__` and `__next__` are the operator overloading methods in python that support iteration and are collectively called iterator protocol.\n",
        "\n",
        "\n",
        "\n",
        "1.   `__iter__` returns the iterator object and is called at the start of loop in our respective class.\n",
        "\n",
        "\n",
        "\n",
        "\n",
        "\n",
        "\n",
        "\n",
        "\n",
        "\n",
        "\n",
        "2.   `__next__` is called at each loop increment, it returns the incremented value. Also Stopiteration is raised when there is no value to return.\n",
        "\n"
      ],
      "metadata": {
        "id": "IhfpuoUHW56T"
      }
    },
    {
      "cell_type": "code",
      "source": [
        "class CounTer :\n",
        "  def __init__(self, low, high) :\n",
        "    self.current = low\n",
        "    self.high = high\n",
        "  def __iter__(self) :\n",
        "    return self\n",
        "  def __next__(self) :\n",
        "    if self.current > self.high :\n",
        "      raise StopIteration\n",
        "    else :\n",
        "      self.current += 1\n",
        "      return self.current - 1\n",
        "for ele in CounTer(10,15):\n",
        "  print(ele, end = \" \")\n"
      ],
      "metadata": {
        "colab": {
          "base_uri": "https://localhost:8080/"
        },
        "id": "gm16gmm8XZIa",
        "outputId": "f6bec501-726b-4043-9812-9319406e33f1"
      },
      "execution_count": 5,
      "outputs": [
        {
          "output_type": "stream",
          "name": "stdout",
          "text": [
            "10 11 12 13 14 15 "
          ]
        }
      ]
    },
    {
      "cell_type": "markdown",
      "source": [
        "**Q2. In what contexts do the two operator overloading methods manage printing?**"
      ],
      "metadata": {
        "id": "e52Gc-Y-XUND"
      }
    },
    {
      "cell_type": "markdown",
      "source": [
        "**Ans**: `__str__` and `__repr__` are two operator overloading methods that \n",
        "manage printing.\n",
        "\n",
        "\n",
        "\n",
        "\n",
        "* In Short, the difference between both these operators is the goal of \n",
        "`__repr__` is to be unambiguous and `__str__` is to be readable.\n",
        "* Whenever we are printing any object reference internally `__str__` method will be called by default.\n",
        "* The main purpose of `__str__` is for readability. it prints the informal string representation of an object, one that is useful for printing the object. it may not be possible to convert result string to original object.\n",
        "* `__repr__` is used to print official string representation of an object, so it includes all information and development."
      ],
      "metadata": {
        "id": "4OXu1HEpYxgR"
      }
    },
    {
      "cell_type": "code",
      "source": [
        "class Student:\n",
        "    def __init__(self,name,roll_no):\n",
        "        self.name = name\n",
        "        self.roll_no = roll_no\n",
        "        \n",
        "s1 = Student(\"abhi\",1)\n",
        "print(str(s1))\n",
        "\n",
        "class Student:\n",
        "    def __init__(self,name,roll_no):\n",
        "        self.name = name\n",
        "        self.roll_no = roll_no\n",
        "    def __str__(self):\n",
        "        return (f'Student Name: {self.name} and Roll No: {self.roll_no}')\n",
        "    \n",
        "s1 = Student(\"abhi\",1)\n",
        "print(str(s1))\n",
        "\n",
        "import datetime\n",
        "today = datetime.datetime.now()\n",
        "\n",
        "s = str(today) # converting datetime object to presentable str\n",
        "print(s)\n",
        "try: d = eval(s) # converting str back to datetime object\n",
        "except: print(\"Unable to convert back to original object\")\n",
        "    \n",
        "u = repr(today) # converting datetime object to str\n",
        "print(u)\n",
        "e = eval(u) # converting str back to datetime object\n",
        "print(e)\n"
      ],
      "metadata": {
        "colab": {
          "base_uri": "https://localhost:8080/"
        },
        "id": "zAvhrhCSZnnE",
        "outputId": "d06052dd-3138-4c36-fbf0-f7dd97c26f59"
      },
      "execution_count": 9,
      "outputs": [
        {
          "output_type": "stream",
          "name": "stdout",
          "text": [
            "<__main__.Student object at 0x7fa20b68c1f0>\n",
            "Student Name: abhi and Roll No: 1\n",
            "2022-12-09 06:16:28.110869\n",
            "Unable to convert back to original object\n",
            "datetime.datetime(2022, 12, 9, 6, 16, 28, 110869)\n",
            "2022-12-09 06:16:28.110869\n"
          ]
        }
      ]
    },
    {
      "cell_type": "markdown",
      "source": [
        "**Q3. In a class, how do you intercept slice operations?**"
      ],
      "metadata": {
        "id": "CVgkcgzJZmDr"
      }
    },
    {
      "cell_type": "markdown",
      "source": [
        "**Ans**: In a class use of `slice()` in `__getitem__` method is used for intercept slice operation. This slice method is provided with start integer number, stop integer number and step integer number."
      ],
      "metadata": {
        "id": "8rZOYFImaQ1U"
      }
    },
    {
      "cell_type": "markdown",
      "source": [
        "**Q4. In a class, how do you capture in-place addition?**"
      ],
      "metadata": {
        "id": "qepeZ-zuabk-"
      }
    },
    {
      "cell_type": "markdown",
      "source": [
        "**Ans**: `a+b` is normal addition. Whereas `a+=b` is inplace addition operation. In this in-place addition a itself will store the value of addition. In a class `__iadd__` method is used for this in-place operation."
      ],
      "metadata": {
        "id": "d30BlBaSaexJ"
      }
    },
    {
      "cell_type": "code",
      "source": [
        "class NoteBook :\n",
        "  def __init__(self, pages) :\n",
        "    self.pages = pages\n",
        "  def __iadd__(self , other) :\n",
        "    self.pages += other.pages\n",
        "    return self.pages\n",
        "\n",
        "b1 = NoteBook(50)\n",
        "b2 = NoteBook(100)\n",
        "\n",
        "b1+= b2\n",
        "print(b1)"
      ],
      "metadata": {
        "colab": {
          "base_uri": "https://localhost:8080/"
        },
        "id": "3rTVrncBaa2E",
        "outputId": "4bbcedea-035d-4b71-8286-1462951fcc71"
      },
      "execution_count": 8,
      "outputs": [
        {
          "output_type": "stream",
          "name": "stdout",
          "text": [
            "150\n"
          ]
        }
      ]
    },
    {
      "cell_type": "markdown",
      "source": [
        "**Q5. When is it appropriate to use operator overloading?**"
      ],
      "metadata": {
        "id": "AG2GqdKUb3Fr"
      }
    },
    {
      "cell_type": "markdown",
      "source": [
        "**Ans**: Operator overloading is used when we want to use an operator other than its normal operation to have different meaning according to the context required in user defined function."
      ],
      "metadata": {
        "id": "-6iPUBwHb7bc"
      }
    },
    {
      "cell_type": "code",
      "source": [
        "class NoteBook:\n",
        "    def __init__(self,pages):\n",
        "        self.pages = pages\n",
        "    def __add__(self,other):\n",
        "        return self.pages+other.pages\n",
        "b1 = NoteBook(50)\n",
        "b2 = NoteBook(100)\n",
        "print(f'Total Number of Pages -> {b1+b2}')"
      ],
      "metadata": {
        "colab": {
          "base_uri": "https://localhost:8080/"
        },
        "id": "C_WCcFCdburI",
        "outputId": "5fe984bc-dd4e-4355-e826-1e83bdbdbf83"
      },
      "execution_count": 10,
      "outputs": [
        {
          "output_type": "stream",
          "name": "stdout",
          "text": [
            "Total Number of Pages -> 150\n"
          ]
        }
      ]
    }
  ]
}