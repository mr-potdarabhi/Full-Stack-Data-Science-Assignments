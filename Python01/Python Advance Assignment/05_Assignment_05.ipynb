{
  "nbformat": 4,
  "nbformat_minor": 0,
  "metadata": {
    "colab": {
      "provenance": []
    },
    "kernelspec": {
      "name": "python3",
      "display_name": "Python 3"
    },
    "language_info": {
      "name": "python"
    }
  },
  "cells": [
    {
      "cell_type": "code",
      "execution_count": null,
      "metadata": {
        "id": "TjzoCyzolZqX"
      },
      "outputs": [],
      "source": []
    },
    {
      "cell_type": "markdown",
      "source": [
        "# Assignment 05 Solutions\n",
        " "
      ],
      "metadata": {
        "id": "mNpnHFOclaIf"
      }
    },
    {
      "cell_type": "markdown",
      "source": [
        "Q1. What is the meaning of multiple inheritance?"
      ],
      "metadata": {
        "id": "9HocvCGwtrEe"
      }
    },
    {
      "cell_type": "markdown",
      "source": [
        "**Ans**: Inheritence is nothing but reusing the code of Parent class by the child class. Similary when a child class inherits its properties from multiple Parent classes this scenario is called `Multiple Inheritence`"
      ],
      "metadata": {
        "id": "aXdur_3httpE"
      }
    },
    {
      "cell_type": "code",
      "source": [
        "class Parent_one:\n",
        "    pass\n",
        "class Parent_two:\n",
        "    pass\n",
        "class child(Parent_one,Parent_two):\n",
        "    pass"
      ],
      "metadata": {
        "id": "KUVQsBNAtqbb"
      },
      "execution_count": 1,
      "outputs": []
    },
    {
      "cell_type": "markdown",
      "source": [
        "**Q2. What is the concept of delegation?**"
      ],
      "metadata": {
        "id": "Rg6W1_XRt4Ip"
      }
    },
    {
      "cell_type": "markdown",
      "source": [
        "**Ans**: Delegation provides a proxy object for any class thay you want on top of the main class. its like a wrapper to your class so that you can access limited resources of the main class.\n",
        "\n",
        "\n",
        "\n",
        "\n",
        "it Wraps the object of main class into a smaller object with limited access\n",
        "\n",
        "\n",
        "\n",
        "\n",
        "Simply Delegation means that you can include a instance of another class as an instance variable, and forward messages to the instance."
      ],
      "metadata": {
        "id": "0FWE0kv2t7Uf"
      }
    },
    {
      "cell_type": "code",
      "source": [
        "class Myclass:\n",
        "    def sayHi(self):\n",
        "        print('Hey iam back')\n",
        "    def whoAmI(self):\n",
        "        print('Iam the main class')\n",
        "class NewClass:\n",
        "    def __init__(self,obj):\n",
        "        self.main = obj\n",
        "    def welcome(self):\n",
        "        self.main.sayHi()\n",
        "\n",
        "m = Myclass()        \n",
        "n = NewClass(m)\n",
        "m.sayHi()\n",
        "n.main.sayHi()\n",
        "n.welcome()\n",
        "n.main.whoAmI()"
      ],
      "metadata": {
        "colab": {
          "base_uri": "https://localhost:8080/"
        },
        "id": "fn_cHmDPt3S8",
        "outputId": "3866ffdd-19f5-493d-cefd-15caf435c7ac"
      },
      "execution_count": 18,
      "outputs": [
        {
          "output_type": "stream",
          "name": "stdout",
          "text": [
            "Hey iam back\n",
            "Hey iam back\n",
            "Hey iam back\n",
            "Iam the main class\n"
          ]
        }
      ]
    },
    {
      "cell_type": "markdown",
      "source": [
        "**Q3. What is the concept of composition?**"
      ],
      "metadata": {
        "id": "WqcrjqGGuJNI"
      }
    },
    {
      "cell_type": "markdown",
      "source": [
        "**Ans**: In the concept of Composition, a class refers to one or more other classes by using instances of those classes as a instance variable. irrespective of inheritence in this approach all the parent class members are not inherited into child class, but only required methods from a class are used by using class instance."
      ],
      "metadata": {
        "id": "a95Rrfv9uMKT"
      }
    },
    {
      "cell_type": "code",
      "source": [
        "class Salary:\n",
        "  def __init__(self,pay):\n",
        "    self.pay = pay\n",
        "  def ToTal_pay(self):\n",
        "    return self.pay*12\n",
        "\n",
        "class Employee:\n",
        "  def __init__(self, pay, bonus):\n",
        "    self.pay = pay\n",
        "    self.bonus = bonus\n",
        "    self.obj_salary =Salary(self.pay)\n",
        "  def annual_salary(self):\n",
        "    return (f\"ToTal Salary : {str(self.obj_salary.ToTal_pay())}'\")\n",
        "\n",
        "Obj_emp = Employee(400,500)\n",
        "print(Obj_emp.annual_salary())\n"
      ],
      "metadata": {
        "colab": {
          "base_uri": "https://localhost:8080/"
        },
        "id": "XqaqS3VbuISl",
        "outputId": "7be00cac-1a99-4dfb-e724-c859780889b5"
      },
      "execution_count": 5,
      "outputs": [
        {
          "output_type": "stream",
          "name": "stdout",
          "text": [
            "ToTal Salary : 4800'\n"
          ]
        }
      ]
    },
    {
      "cell_type": "markdown",
      "source": [
        "**Q4. What are bound methods and how do we use them?**"
      ],
      "metadata": {
        "id": "0sdggKXiw48l"
      }
    },
    {
      "cell_type": "markdown",
      "source": [
        "**Ans**: If a function is an attribute of class and it is accessed via the instances, they are called `bound methods`. A bound method is one that has self as its first argument. Since these are dependent on the instance of classes, these are also known as `instance methods.`"
      ],
      "metadata": {
        "id": "ZEMpNlC5w-MW"
      }
    },
    {
      "cell_type": "code",
      "source": [
        "class methods:\n",
        "  def method_one(self):    #bound method\n",
        "    print(\"This sentence inside the method one\")\n",
        "    \n",
        "  @classmethod             #unbound method\n",
        "  def method_two(self):\n",
        "    print(\"This sentence inside the method Two\")\n",
        "\n",
        "  @staticmethod            #Static method\n",
        "  def method_three():\n",
        "    print(\"This sentence inside the method Three\")\n",
        "\n",
        "MTD = methods()\n",
        "MTD.method_one() # accessing through instance object\n",
        "methods.method_two() # accessing directly through class\n",
        "MTD.method_three() \n",
        "\n"
      ],
      "metadata": {
        "colab": {
          "base_uri": "https://localhost:8080/"
        },
        "id": "aAhABYo3u_go",
        "outputId": "17099c66-8054-4067-ef31-e035e74847c9"
      },
      "execution_count": 16,
      "outputs": [
        {
          "output_type": "stream",
          "name": "stdout",
          "text": [
            "This sentence inside the method one\n",
            "This sentence inside the method Two\n",
            "This sentence inside the method Three\n"
          ]
        }
      ]
    },
    {
      "cell_type": "markdown",
      "source": [
        "**Q5. What is the purpose of pseudoprivate attributes?**"
      ],
      "metadata": {
        "id": "pz2hgZvIzuaw"
      }
    },
    {
      "cell_type": "markdown",
      "source": [
        "**Ans**: Pseudoprivate attributes are also useful in larger frameworks or tools, both to avoid introducing new method names that might accidentally hide definitions elsewhere in the class tree and to reduce the chance of internal methods being replaced by names defined lower in the tree. If a method is intended for use only within a class that may be mixed into other classes, the double underscore prefix ensures that the method won't interfere with other names in the tree, especially in multiple-inheritance scenarios\n",
        "\n",
        "Pseudoprivate names also prevent subclasses from accidentally redefining the internal method's names,"
      ],
      "metadata": {
        "id": "O2xc479u0FWM"
      }
    },
    {
      "cell_type": "code",
      "source": [
        "class Super:\n",
        "    def method(self): # A real application method\n",
        "        pass\n",
        "class Tool:\n",
        "    def _method(self): # becomes _Tool_method\n",
        "        pass\n",
        "    def other(self): # uses internal method\n",
        "        self._method()\n",
        "class Subl(Tool,Super):\n",
        "    def actions(self):\n",
        "        self.method()\n",
        "class Sub2(Tool):\n",
        "    def __init__(self):\n",
        "        self.method = 99"
      ],
      "metadata": {
        "id": "2rzhyeaZzv34"
      },
      "execution_count": 17,
      "outputs": []
    }
  ]
}