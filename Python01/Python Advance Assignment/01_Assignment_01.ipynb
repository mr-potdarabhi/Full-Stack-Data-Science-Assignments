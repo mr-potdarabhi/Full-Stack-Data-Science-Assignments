{
  "nbformat": 4,
  "nbformat_minor": 0,
  "metadata": {
    "colab": {
      "provenance": []
    },
    "kernelspec": {
      "name": "python3",
      "display_name": "Python 3"
    },
    "language_info": {
      "name": "python"
    }
  },
  "cells": [
    {
      "cell_type": "markdown",
      "source": [
        "\n",
        "# Assignment 01 Solutions\n",
        "\n"
      ],
      "metadata": {
        "id": "FWEDCVQfR_9L"
      }
    },
    {
      "cell_type": "markdown",
      "source": [
        "**Q1. What is the purpose of Python&#39;s OOP?**"
      ],
      "metadata": {
        "id": "DuskmfG1Nj5n"
      }
    },
    {
      "cell_type": "markdown",
      "source": [
        "**Ans**: Object-oriented programming is a programming paradigm that provides a means of structuring programs so that properties and behaviors are bundled into individual objects\n",
        "\n",
        "\n",
        "* In Python, object-oriented Programming (OOPs) uses objects and classes in programming.\n",
        "* It aims to implement real-world entities like inheritance, polymorphisms, encapsulation, etc. in the programming.\n",
        "* The main concept of OOPs is to bind the data and the functions that work on that together as a single unit so that no other part of the code can access this data.\n",
        "* It comes up with the following advantages:\n",
        "* It helps to divide our over all program into different small segments and thus making it solving easy with the use of objects.\n",
        "* Multiple instances of an object can be made.\n",
        "\n",
        "\n",
        "\n",
        "\n",
        "\n",
        "\n",
        "\n",
        "\n",
        "\n",
        "\n"
      ],
      "metadata": {
        "id": "TwD3TGHzNmWI"
      }
    },
    {
      "cell_type": "markdown",
      "source": [
        "**Q2. Where does an inheritance search look for an attribute?**"
      ],
      "metadata": {
        "id": "F3qsftmzOeSi"
      }
    },
    {
      "cell_type": "markdown",
      "source": [
        "**Ans**: Python searches for an attribute in an upward tree of attributes. \n",
        "it first searches for the attribute in its instance and then looks in the class it is generated from, to all super classes listed in its class header"
      ],
      "metadata": {
        "id": "NeDGOSX5Ogn6"
      }
    },
    {
      "cell_type": "markdown",
      "source": [
        "**Q3. How do you distinguish between a class object and an instance object?**"
      ],
      "metadata": {
        "id": "_n-XFc1GOz0F"
      }
    },
    {
      "cell_type": "markdown",
      "source": [
        "**Ans**\n",
        "\n",
        "\n",
        "\n",
        "* Class is a template for creating objects whereas object is an instance of class\n",
        "* Seperate memory is allocated for each object whenever an object is created. but for a class this doesnot happens.\n",
        "* A Class is created once. Many objects are created using a class.\n",
        "* As Classes have no allocated memory. they can't be manipulated. but objects can be manipulated."
      ],
      "metadata": {
        "id": "JAgEoScQO4pq"
      }
    },
    {
      "cell_type": "markdown",
      "source": [
        "**Q4. What makes the first argument in a class’s method function special?**"
      ],
      "metadata": {
        "id": "NcLo7uT0PSDn"
      }
    },
    {
      "cell_type": "markdown",
      "source": [
        "\n",
        "**Ans**: Python Classes usually have three types of methods which are:\n",
        "\n",
        "* Instance Methods (object level methods).\n",
        "* Class Methods (class level methods).\n",
        "* Static Methods (general utility methods).\n",
        "* self is the first argument for instance methods. which refers to the object itself.\n",
        "* cls is the first argument for class methods which refers to the class itself"
      ],
      "metadata": {
        "id": "SbPJsTBSPXL4"
      }
    },
    {
      "cell_type": "markdown",
      "source": [
        "**Q5. What is the purpose of the __init__ method?**"
      ],
      "metadata": {
        "id": "jGIgm3R0P81x"
      }
    },
    {
      "cell_type": "markdown",
      "source": [
        "**Ans**:\n",
        "\n",
        "```\n",
        "__init__\n",
        "```\n",
        "is a reseved method in python classes. It serves the role of a constructor in object oriented terminology. This method is called when an object is created from a class and it allows the class to initialize the attributes of the class"
      ],
      "metadata": {
        "id": "t53f8-dsP-29"
      }
    },
    {
      "cell_type": "markdown",
      "source": [],
      "metadata": {
        "id": "sVf7dtQGRSEQ"
      }
    },
    {
      "cell_type": "markdown",
      "source": [
        "**Q6. What is the process for creating a class instance?**"
      ],
      "metadata": {
        "id": "_woQo9nBQnqX"
      }
    },
    {
      "cell_type": "markdown",
      "source": [
        "**Ans** : To create a class instance, we need to call the class by its name and pass the arguments to the class, which its init method accepts.\n",
        "\n",
        "Example: my_bike = my_class(\"bajaj\",\"pulsar220\") Here my_bike is an instance of class my_class with attributes \"bajaj\" and \"pulsar220\"."
      ],
      "metadata": {
        "id": "J5m_3PTxQrgc"
      }
    },
    {
      "cell_type": "markdown",
      "source": [
        "**Q7. What is the process for creating a class?**"
      ],
      "metadata": {
        "id": "GxvKdRJPRSp8"
      }
    },
    {
      "cell_type": "markdown",
      "source": [
        "**Ans**: class keyword is used to created a class in python. The syntax to create a class in python is class :\n",
        "\n",
        "Example: class bike: ➞ this creates a class called bike."
      ],
      "metadata": {
        "id": "pqU36YllRWyv"
      }
    },
    {
      "cell_type": "markdown",
      "source": [
        "**Q8. How would you define the superclasses of a class?**"
      ],
      "metadata": {
        "id": "2PjvIQEgRhIp"
      }
    },
    {
      "cell_type": "markdown",
      "source": [
        "**Ans** : Superclass/Parent class is given as a arugment to the child class\n",
        "\n",
        "Example: class bike(bajaj): Here child class bike inherits attributes and methods from Superclass/Parent bajaj."
      ],
      "metadata": {
        "id": "N_CZb4AlRlRx"
      }
    }
  ]
}