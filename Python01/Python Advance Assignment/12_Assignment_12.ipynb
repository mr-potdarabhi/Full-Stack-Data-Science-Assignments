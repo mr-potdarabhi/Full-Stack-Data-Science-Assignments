{
 "cells": [
  {
   "cell_type": "markdown",
   "id": "cee6f7bf",
   "metadata": {},
   "source": [
    "\n",
    "# Assignment 12 "
   ]
  },
  {
   "cell_type": "markdown",
   "id": "2cb397a4",
   "metadata": {},
   "source": [
    "#### Q1. Does assigning a value to a string's indexed character violate Python's string immutability ?\n",
    "**Ans:**  String’s indexed character cannot to be assigned a New value , as Strings are **immutable.**  \n",
    "`Example: `  \n",
    "`A = \"HELLO\"`  \n",
    "`print(id(A)) #2725512467248`  \n"
   ]
  },
  {
   "cell_type": "markdown",
   "id": "70ba8316",
   "metadata": {},
   "source": [
    "#### Q2. Does using the += operator to concatenate strings violate Python's string immutability? Why or why not ?\n",
    "**Ans:**  **`+=`** operator is used to concatenate strings, it does not violate Python’s string immutability Property. Because doing so new creates a new association with data and variable. E.g. `str_1=\"a\"` and `str_1+=\"b`. effect of this statements to create string `ab` and reassign it to variable `str_1`, any string data is not actually modified. "
   ]
  },
  {
   "cell_type": "code",
   "execution_count": 5,
   "id": "a291130d",
   "metadata": {},
   "outputs": [
    {
     "name": "stdout",
     "output_type": "stream",
     "text": [
      "2725435139184\n",
      "2725512460144\n"
     ]
    }
   ],
   "source": [
    "str_a = 'a'\n",
    "print(id(str_a))\n",
    "str_a += 'b'\n",
    "print(id(str_a)) # Does not Modify existing string, Creates a New String Object"
   ]
  },
  {
   "cell_type": "markdown",
   "id": "6b1375ac",
   "metadata": {},
   "source": [
    "#### Q3. In Python, how many different ways are there to index a character?\n",
    "**Ans:** A Character in string can be indexed using string name followed by index number of character in square bracket. **Positive Indexing** i.e. first index is 0 an so on, or **Negative Indexing** i.e. last letter is -1 and so on can be used to index a character"
   ]
  },
  {
   "cell_type": "code",
   "execution_count": 13,
   "id": "e811a19e",
   "metadata": {},
   "outputs": [
    {
     "name": "stdout",
     "output_type": "stream",
     "text": [
      "u l e\n",
      "e i c\n"
     ]
    }
   ],
   "source": [
    "in_str = \"iNeuron Full Stack Data Science\"\n",
    "print(in_str[9],in_str[10],in_str[2]) # Positive Indexing\n",
    "print(in_str[-1],in_str[-5],in_str[-2]) # Negative Indexing"
   ]
  },
  {
   "cell_type": "markdown",
   "id": "99345e14",
   "metadata": {},
   "source": [
    "#### Q4. What is the relationship between indexing and slicing?\n",
    "**Ans:** We can access elements of sequence datatypes by using slicing and indexing. Indexing is used to obtaining individual element while slicing for sequence of elements."
   ]
  },
  {
   "cell_type": "code",
   "execution_count": 8,
   "id": "af3b410a",
   "metadata": {},
   "outputs": [
    {
     "name": "stdout",
     "output_type": "stream",
     "text": [
      "N u o\n",
      "Neuron Full St\n"
     ]
    }
   ],
   "source": [
    "in_str = \"iNeuron Full Stack Data Science\"\n",
    "print(in_str[1],in_str[3],in_str[5]) # Indexing\n",
    "print(in_str[1:15]) # Slicing"
   ]
  },
  {
   "cell_type": "markdown",
   "id": "3fef0f15",
   "metadata": {},
   "source": [
    "#### Q5. What is an indexed character's exact data type? What is the data form of a slicing-generated substring?\n",
    "**Ans:** Indexed characters and sliced substrings have datatype **String**. "
   ]
  },
  {
   "cell_type": "code",
   "execution_count": 14,
   "id": "a29de380",
   "metadata": {},
   "outputs": [
    {
     "name": "stdout",
     "output_type": "stream",
     "text": [
      "<class 'str'>\n",
      "<class 'str'>\n"
     ]
    }
   ],
   "source": [
    "in_str = \"iNeuron Full Stack Data Science\"\n",
    "print(type(in_str[3])) # Indexing -> str\n",
    "print(type(in_str[1:10])) # Indexing -> str"
   ]
  },
  {
   "cell_type": "markdown",
   "id": "5d009717",
   "metadata": {},
   "source": [
    "#### Q6. What is the relationship between string and character \"types\" in Python?\n",
    "**Ans:** Object that contains sequence of character datatypes are called String."
   ]
  },
  {
   "cell_type": "markdown",
   "id": "acca6b35",
   "metadata": {},
   "source": [
    "#### Q7. Identify at least two operators & one method that allow you to combine one or more smaller strings to create a larger string ?\n",
    "**Ans:** `+`, `+=` and `*` allow to combine one or more smaller strings to create a larger string. **`<string>.join(<sep>)`** method joins element of iterable type like list and tuple to get a combined string. "
   ]
  },
  {
   "cell_type": "code",
   "execution_count": 11,
   "id": "90a23b84",
   "metadata": {},
   "outputs": [
    {
     "name": "stdout",
     "output_type": "stream",
     "text": [
      "Bajaj pulsar 220f power\n",
      "power power power \n",
      "B A J A J\n",
      "b a j a j\n"
     ]
    }
   ],
   "source": [
    "in_str = 'Bajaj '\n",
    "in_str += 'pulsar 220f'\n",
    "print(in_str + ' power')\n",
    "print('power '*3)\n",
    "print(\" \".join(['B','A','J','A','J'])) # List Iterable\n",
    "print(\" \".join(('B','A','J','A','J')).lower()) # Tuple Iterable"
   ]
  },
  {
   "cell_type": "markdown",
   "id": "5e188189",
   "metadata": {},
   "source": [
    "#### Q8. What is the benefit of first checking the target string with in or not in before using the index method to find a substring ?\n",
    "**Ans:** Checking the target string with **`in`** or **`not`** Operators before using the index method to find a  substring just helps confirming availability of substring and thus avoid raising of **`ValueError.`**  \n",
    "**`Example:`**    \n",
    "`in_string = \"ineuron\"`  \n",
    "`in_string.index('x') # Raises ValueError`  \n",
    "`in_string.index('u') # 3`  "
   ]
  },
  {
   "cell_type": "markdown",
   "id": "0bdd9476",
   "metadata": {},
   "source": [
    "#### Q9. Which operators and built-in string methods produce simple Boolean (true/false) results?\n",
    "**Ans:** The String Operators and built-in methods to Produce Simple Boolean (True/False) Results are:\n",
    "- **`in`**\n",
    "- **`not`**\n",
    "- **`<string>.isalpha()`**\n",
    "- **`<string>.isalnum()`**\n",
    "- **`<string>.isdecimal()`**\n",
    "- **`<string>.isdigit()`**\n",
    "- **`<string>.islower()`**\n",
    "- **`<string>.isnumeric()`**\n",
    "- **`<string>.isprintable()`**\n",
    "- **`<string>.isspace()`**\n",
    "- **`<string>.istitle()`**"
   ]
  },
  {
   "cell_type": "code",
   "execution_count": null,
   "id": "74351b4c",
   "metadata": {},
   "outputs": [],
   "source": []
  }
 ],
 "metadata": {
  "kernelspec": {
   "display_name": "Python 3 (ipykernel)",
   "language": "python",
   "name": "python3"
  },
  "language_info": {
   "codemirror_mode": {
    "name": "ipython",
    "version": 3
   },
   "file_extension": ".py",
   "mimetype": "text/x-python",
   "name": "python",
   "nbconvert_exporter": "python",
   "pygments_lexer": "ipython3",
   "version": "3.9.13"
  }
 },
 "nbformat": 4,
 "nbformat_minor": 5
}
