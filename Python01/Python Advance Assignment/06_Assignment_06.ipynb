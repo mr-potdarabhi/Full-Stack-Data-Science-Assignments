{
 "cells": [
  {
   "cell_type": "markdown",
   "id": "a537b307",
   "metadata": {},
   "source": [
    "# **Assignment_06 Solutions**"
   ]
  },
  {
   "cell_type": "markdown",
   "id": "4979cefc",
   "metadata": {},
   "source": [
    "**Q1. Describe three applications for exception processing.**"
   ]
  },
  {
   "cell_type": "markdown",
   "id": "dd6ad71f",
   "metadata": {},
   "source": [
    "**Ans**: Exception Processing is important to find exceptions that causes the runtime error. As runtime errors Halt the program execution when exception occurs . \\\n",
    "\\\n",
    "Exception Processing is used in Various Applications of which few examples are:\n",
    "\n",
    "\n",
    "\n",
    "\n",
    "1.   Checking Appropriate use of input in an application\n",
    "\n",
    "\n",
    "2.   Checking for Arithmetic exceptions in mathematical executions\n",
    "\n",
    "\n",
    "3. Checking File I/O exceptions during File handling\n",
    "\n",
    "\n"
   ]
  },
  {
   "cell_type": "markdown",
   "id": "59731572",
   "metadata": {},
   "source": [
    "**Q2. What happens if you don't do something extra to treat an exception?**"
   ]
  },
  {
   "cell_type": "markdown",
   "id": "2b5b20b9",
   "metadata": {},
   "source": [
    "**Ans**: If Exceptions are not handled flow of program will be broken during the run time which might lead to a abnormal termination of the program. Inshort inability of program to handle exceptions will result in crashing of program."
   ]
  },
  {
   "cell_type": "markdown",
   "id": "7cdf4833",
   "metadata": {},
   "source": [
    "**Q3. What are your options for recovering from an exception in your script?**"
   ]
  },
  {
   "cell_type": "markdown",
   "id": "b3373ad1",
   "metadata": {},
   "source": [
    "**Ans**: Python provides try and except statements for recovering from an exception in your script."
   ]
  },
  {
   "cell_type": "markdown",
   "id": "9dd16802",
   "metadata": {},
   "source": [
    "**Q4. Describe two methods for triggering exceptions in your script ?**"
   ]
  },
  {
   "cell_type": "markdown",
   "id": "29000c3c",
   "metadata": {},
   "source": [
    "**Ans**: `raise` and `assert` are two methods that can be used to trigger manual exceptions in your script.\n",
    "\n",
    "1. `raise` method triggers an exception if condition provided to it turns out to be True.\n",
    "2. `assert` will let the program to continue execution if condition provided to it turns out to be True else exception will be raised"
   ]
  },
  {
   "cell_type": "markdown",
   "id": "0b0e91a2",
   "metadata": {},
   "source": [
    "**Q5. Identify two methods for specifying actions to be executed at termination time, regardless of whether or not an exception exists.**\\\n",
    "\\\n",
    "**Ans**: Python Provides else and finally blocks for specifying actions to be executed at termination time, regardless of whether an exceptions exists or not"
   ]
  }
 ],
 "metadata": {
  "kernelspec": {
   "display_name": "Python 3 (ipykernel)",
   "language": "python",
   "name": "python3"
  },
  "language_info": {
   "codemirror_mode": {
    "name": "ipython",
    "version": 3
   },
   "file_extension": ".py",
   "mimetype": "text/x-python",
   "name": "python",
   "nbconvert_exporter": "python",
   "pygments_lexer": "ipython3",
   "version": "3.9.12"
  }
 },
 "nbformat": 4,
 "nbformat_minor": 5
}
