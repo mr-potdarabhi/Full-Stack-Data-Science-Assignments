{
  "nbformat": 4,
  "nbformat_minor": 0,
  "metadata": {
    "colab": {
      "provenance": []
    },
    "kernelspec": {
      "name": "python3",
      "display_name": "Python 3"
    },
    "language_info": {
      "name": "python"
    }
  },
  "cells": [
    {
      "cell_type": "markdown",
      "source": [
        "#**Assignment_06 Solutions**"
      ],
      "metadata": {
        "id": "0UZp0ts3_N8V"
      }
    },
    {
      "cell_type": "markdown",
      "source": [
        "####**Q1. Describe three applications for exception processing.**"
      ],
      "metadata": {
        "id": "WBIA5G2W9VOB"
      }
    },
    {
      "cell_type": "markdown",
      "source": [
        "**Ans**: Exception Processing is important to find exceptions that causes the runtime error. As runtime errors Halt the program execution when exception occurs . \\\n",
        "\\\n",
        "Exception Processing is used in Various Applications of which few examples are:\n",
        "\n",
        "\n",
        "\\\n",
        "1.   Checking Appropriate use of input in an application\n",
        "\n",
        "\n",
        "2.   Checking for Arithmetic exceptions in mathematical executions\n",
        "\n",
        "3. Checking File I/O exceptions during File handling\n",
        "\n",
        "\n"
      ],
      "metadata": {
        "id": "bpfCAnNr9ZD5"
      }
    },
    {
      "cell_type": "markdown",
      "source": [
        "####**Q2. What happens if you don't do something extra to treat an exception?**"
      ],
      "metadata": {
        "id": "lKC04u-x-H52"
      }
    },
    {
      "cell_type": "markdown",
      "source": [
        "**Ans**: If Exceptions are not handled flow of program will be broken during the run time which might lead to a abnormal termination of the program. Inshort inability of program to handle exceptions will result in crashing of program."
      ],
      "metadata": {
        "id": "Uj4mN-v8-K3x"
      }
    },
    {
      "cell_type": "markdown",
      "source": [
        "####**Q3. What are your options for recovering from an exception in your script?**"
      ],
      "metadata": {
        "id": "nc42Bx1P-RLt"
      }
    },
    {
      "cell_type": "markdown",
      "source": [
        "**Ans**: Python provides try and except statements for recovering from an exception in your script."
      ],
      "metadata": {
        "id": "dvnho7X2-XXz"
      }
    },
    {
      "cell_type": "markdown",
      "source": [
        "####**Q4. Describe two methods for triggering exceptions in your script ?**"
      ],
      "metadata": {
        "id": "j5pbYlXl-Yww"
      }
    },
    {
      "cell_type": "markdown",
      "source": [
        "**Ans**: `raise` and `assert` are two methods that can be used to trigger manual exceptions in your script.\n",
        "\n",
        "1. `raise` method triggers an exception if condition provided to it turns out to be True.\n",
        "2. `assert` will let the program to continue execution if condition provided to it turns out to be True else exception will be raised"
      ],
      "metadata": {
        "id": "JjBIcwlt-eVW"
      }
    },
    {
      "cell_type": "markdown",
      "source": [
        "####**Q5. Identify two methods for specifying actions to be executed at termination time, regardless of whether or not an exception exists.**\\\n",
        "\\\n",
        "\\\n",
        "\\\n",
        "**Ans**: Python Provides else and finally blocks for specifying actions to be executed at termination time, regardless of whether an exceptions exists or not"
      ],
      "metadata": {
        "id": "WN1q1FfK-uLR"
      }
    }
  ]
}