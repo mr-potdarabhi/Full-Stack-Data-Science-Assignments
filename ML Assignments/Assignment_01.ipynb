{
 "cells": [
  {
   "cell_type": "markdown",
   "id": "a941442b",
   "metadata": {},
   "source": [
    "### 1. What does one mean by the term &quot;machine learning&quot;?"
   ]
  },
  {
   "cell_type": "markdown",
   "id": "6a97ebba",
   "metadata": {},
   "source": [
    "#### **ANS:**\n",
    "Machine learning refers to the field of study and practice that enables computers or machines to learn and improve from experience without being explicitly programmed."
   ]
  },
  {
   "cell_type": "markdown",
   "id": "f6514e5b",
   "metadata": {},
   "source": [
    "### 2.Can you think of 4 distinct types of issues where it shines?"
   ]
  },
  {
   "cell_type": "markdown",
   "id": "2184757a",
   "metadata": {},
   "source": [
    "#### **ANS:**\n",
    "    1.Pattern recognition\n",
    "    2.Predictive analysis\n",
    "    3.Personalization and recommendation systems\n",
    "    4.Anomaly detection"
   ]
  },
  {
   "cell_type": "markdown",
   "id": "f98cd3c7",
   "metadata": {},
   "source": [
    "### 3.What is a labeled training set, and how does it work?"
   ]
  },
  {
   "cell_type": "markdown",
   "id": "0ffcda9e",
   "metadata": {},
   "source": [
    "#### **ANS:**\n",
    "A labeled training set is a collection of data with assigned correct answers that helps machine learning algorithms learn patterns and make predictions."
   ]
  },
  {
   "cell_type": "markdown",
   "id": "0a6b41ed",
   "metadata": {},
   "source": [
    "### 4.What are the two most important tasks that are supervised?"
   ]
  },
  {
   "cell_type": "markdown",
   "id": "faa6ee35",
   "metadata": {},
   "source": [
    "#### **ANS:**\n",
    "The two most important supervised tasks are\n",
    "\n",
    "    1.classification    \n",
    "    2.regression."
   ]
  },
  {
   "cell_type": "markdown",
   "id": "4a655c94",
   "metadata": {},
   "source": [
    "### 5.Can you think of four examples of unsupervised tasks?"
   ]
  },
  {
   "cell_type": "markdown",
   "id": "4cd4803f",
   "metadata": {},
   "source": [
    "#### **ANS:**\n",
    "1. Clustering: Grouping similar data points together based on patterns or similarities.\n",
    "2. Anomaly detection: Identifying unusual or unexpected patterns or data points without explicit examples.\n",
    "3. Dimensionality reduction: Reducing the number of features or variables in a dataset while preserving important information.\n",
    "4. Association rule mining: Discovering relationships or patterns in large datasets, such as product associations in market basket analysis."
   ]
  },
  {
   "cell_type": "markdown",
   "id": "e4b82da3",
   "metadata": {},
   "source": [
    "### 6.State the machine learning model that would be best to make a robot walk through various unfamiliar terrains?"
   ]
  },
  {
   "cell_type": "markdown",
   "id": "0ffd27c4",
   "metadata": {},
   "source": [
    "#### **ANS:**\n",
    "To make a robot walk through various unfamiliar terrains, a reinforcement learning model, specifically a type of model called a Deep Reinforcement Learning model, would be best suited. Reinforcement learning is a machine learning paradigm where an agent learns to make sequential decisions in an environment to maximize a cumulative reward signal.\n",
    "\n",
    "In the context of a robot walking through unfamiliar terrains, the reinforcement learning model would learn to take actions (such as adjusting leg movements) based on the current state (sensor readings, terrain features, etc.) to optimize a long-term reward signal (e.g., successfully reaching the destination, maintaining balance, etc.).\n",
    "\n",
    "The use of a deep reinforcement learning model, such as Deep Q-Networks (DQN) or Proximal Policy Optimization (PPO), allows the robot to learn complex representations and policies by combining reinforcement learning with deep neural networks. This enables the robot to adapt and navigate through different terrains by continuously learning and refining its walking strategies based on trial and error interactions with the environment."
   ]
  },
  {
   "cell_type": "markdown",
   "id": "6b6fb562",
   "metadata": {},
   "source": [
    "### 7.Which algorithm will you use to divide your customers into different groups?"
   ]
  },
  {
   "cell_type": "markdown",
   "id": "48a71db9",
   "metadata": {},
   "source": [
    "#### ANS:\n",
    "To divide customers into different groups, a common algorithm used is K-means clustering."
   ]
  },
  {
   "cell_type": "markdown",
   "id": "cc7b7722",
   "metadata": {},
   "source": [
    "### 8.Will you consider the problem of spam detection to be a supervised or unsupervised learning problem?"
   ]
  },
  {
   "cell_type": "markdown",
   "id": "aad5a4f6",
   "metadata": {},
   "source": [
    "#### ANS:\n",
    "The problem of spam detection is typically considered a supervised learning problem. In supervised learning, the algorithm learns from labeled examples, where each email is labeled as either \"spam\" or \"not spam.\" The algorithm is trained on a labeled dataset to classify new, unseen emails as spam or non-spam based on the patterns and characteristics learned during training.\n",
    "\n",
    "In contrast, unsupervised learning does not rely on labeled data. It aims to find patterns, structures, or relationships in the data without specific target labels. For spam detection, the availability of labeled examples is crucial for the algorithm to learn and generalize the classification task accurately."
   ]
  },
  {
   "cell_type": "markdown",
   "id": "03c0e570",
   "metadata": {},
   "source": [
    "### 9.What is the concept of an online learning system?"
   ]
  },
  {
   "cell_type": "markdown",
   "id": "d0348932",
   "metadata": {},
   "source": [
    "#### ANS:\n",
    "An online learning system is a machine learning approach where the model learns from new data as it arrives, without needing to go back and retrain on all the previous data. It continuously adapts to new information, making it useful for situations with streaming or real-time data. It allows the model to update itself and make predictions or decisions on the fly."
   ]
  },
  {
   "cell_type": "markdown",
   "id": "ab8b70af",
   "metadata": {},
   "source": [
    "### 10.What is out-of-core learning, and how does it differ from core learning?"
   ]
  },
  {
   "cell_type": "markdown",
   "id": "17ff7436",
   "metadata": {},
   "source": [
    "#### ANS:\n",
    "Out-of-core learning is a technique used when the dataset is too large to fit into memory. It involves reading and processing data in smaller chunks or batches from the disk, allowing the model to learn from the entire dataset iteratively. In-core learning, on the other hand, assumes the entire dataset can be loaded into memory at once. Out-of-core learning enables handling large datasets but can be slower due to disk I/O, while in-core learning is faster but requires enough memory to hold the entire dataset."
   ]
  },
  {
   "cell_type": "markdown",
   "id": "2f9d76d0",
   "metadata": {},
   "source": [
    "### 11.What kind of learning algorithm makes predictions using a similarity measure?"
   ]
  },
  {
   "cell_type": "markdown",
   "id": "fbc9886e",
   "metadata": {},
   "source": [
    "#### ANS:\n",
    "The learning algorithm that makes predictions using a similarity measure is called a \"nearest neighbor\" algorithm."
   ]
  },
  {
   "cell_type": "markdown",
   "id": "2a30c566",
   "metadata": {},
   "source": [
    "### 12.What&#39;s the difference between a model parameter and a hyperparameter in a learning algorithm?"
   ]
  },
  {
   "cell_type": "markdown",
   "id": "7a69eeb6",
   "metadata": {},
   "source": [
    "#### ANS:\n",
    "- Model parameters are learned from the data and capture patterns and relationships.\n",
    "- Hyperparameters are set before training and control the behavior of the learning algorithm.\n",
    "- Model parameters are internal to the model, while hyperparameters are external configuration settings.\n",
    "- Model parameters are learned, while hyperparameters are predetermined."
   ]
  },
  {
   "cell_type": "markdown",
   "id": "2d704b06",
   "metadata": {},
   "source": [
    "### 13.What are the criteria that model-based learning algorithms look for? What is the most popular method they use to achieve success? What method do they use to make predictions?"
   ]
  },
  {
   "cell_type": "markdown",
   "id": "9d15433a",
   "metadata": {},
   "source": [
    "#### ANS:\n",
    "Model-based learning algorithms look for patterns in the data, use supervised learning to achieve success, and make predictions by applying the learned model to new data."
   ]
  },
  {
   "cell_type": "markdown",
   "id": "5b03c66f",
   "metadata": {},
   "source": [
    "### 14.Can you name four of the most important Machine Learning challenges?"
   ]
  },
  {
   "cell_type": "markdown",
   "id": "24390012",
   "metadata": {},
   "source": [
    "#### ANS:\n",
    "1. Data quality and preprocessing: Ensuring the data used for training and testing is good and preparing it correctly.\n",
    "2. Overfitting and underfitting: Finding the right balance between a model that fits the data well without being too complex or too simple.\n",
    "3. Generalization and bias-variance tradeoff: Ensuring the model performs well on new, unseen data by balancing its ability to capture patterns without overfitting or underfitting.\n",
    "4. Interpretability and explainability: Making sure the model's predictions can be understood and explained in a transparent manner."
   ]
  },
  {
   "cell_type": "markdown",
   "id": "bec85e0a",
   "metadata": {},
   "source": [
    "### 15.What happens if the model performs well on the training data but fails to generalize the results to new situations? Can you think of three different options?"
   ]
  },
  {
   "cell_type": "markdown",
   "id": "9f58e7ad",
   "metadata": {},
   "source": [
    "#### ANS:\n",
    "If a model performs well on the training data but fails to generalize to new situations, it means that the model is overfitting to the training data and not capturing the underlying patterns effectively. Here are three different options to address this issue:\n",
    "\n",
    "1. Collect more diverse and representative data: If the model is trained on a limited or biased dataset, it may not be able to generalize well. Collecting more diverse and representative data can help the model learn a wider range of patterns and improve its ability to generalize to new situations.\n",
    "\n",
    "2. Regularization techniques: Applying regularization techniques such as L1 or L2 regularization, dropout, or early stopping can help prevent overfitting. These techniques add constraints to the model, reducing its complexity and making it less prone to fitting noise in the training data.\n",
    "\n",
    "3. Simplify the model: If the model is too complex, it may be capturing noise or irrelevant details in the training data. Simplifying the model, such as reducing the number of layers in a neural network or using a simpler algorithm, can help improve generalization by focusing on the most important features and patterns.\n",
    "\n",
    "By implementing these options, the model can overcome the issue of overfitting and improve its ability to generalize the results to new situations."
   ]
  },
  {
   "cell_type": "markdown",
   "id": "b169a397",
   "metadata": {},
   "source": [
    "### 16.What exactly is a test set, and why would you need one?"
   ]
  },
  {
   "cell_type": "markdown",
   "id": "10783e2f",
   "metadata": {},
   "source": [
    "#### ANS:\n",
    "A test set is a group of data that is used to check how well a machine learning model performs on new, unseen examples. It is like a final exam for the model to see if it has learned properly. By having a test set, we can make sure the model can generalize its predictions beyond the examples it was trained on and avoid making inaccurate predictions in real-world situations."
   ]
  },
  {
   "cell_type": "markdown",
   "id": "26234bec",
   "metadata": {},
   "source": [
    "### 17.What is a validation set&#39;s purpose?"
   ]
  },
  {
   "cell_type": "markdown",
   "id": "272dfb22",
   "metadata": {},
   "source": [
    "#### ANS:\n",
    "The purpose of a validation set is to assess and fine-tune the performance of a machine learning model during the training process.\n",
    "\n",
    "In simple terms, a validation set acts as a practice test for the model. It is a portion of data that is separate from both the training set and the final test set. The validation set is used to evaluate the model's performance on unseen data and make adjustments to improve its performance.\n",
    "\n",
    "During training, the model is trained on the training set and its performance is evaluated on the validation set. This evaluation helps in making decisions such as selecting the best model, tuning hyperparameters, or adjusting the model's architecture.\n",
    "\n",
    "The validation set helps to prevent overfitting by providing an unbiased evaluation of the model's performance on data that it has not seen before. It allows us to assess how well the model generalizes and performs on new examples.\n",
    "\n",
    "By iterating through training, evaluation on the validation set, and making adjustments based on the results, we can improve the model's performance before finally testing it on the separate test set."
   ]
  },
  {
   "cell_type": "markdown",
   "id": "717bdd87",
   "metadata": {},
   "source": [
    "### 18.What precisely is the train-dev kit, when will you need it, how do you put it to use?"
   ]
  },
  {
   "cell_type": "markdown",
   "id": "23a767f8",
   "metadata": {},
   "source": [
    "#### ANS:\n",
    "a train-dev kit refers to a collection of tools and resources used during the training and development of a machine learning model. It includes things like software frameworks, pre-existing models, data processing scripts, and evaluation metrics. These resources help researchers and developers train and refine their models to achieve better performance and accuracy."
   ]
  },
  {
   "cell_type": "markdown",
   "id": "a313c238",
   "metadata": {},
   "source": [
    "### 19.What could go wrong if you use the test set to tune hyperparameters?"
   ]
  },
  {
   "cell_type": "markdown",
   "id": "c8e48f0a",
   "metadata": {},
   "source": [
    "    1.Overfitting to the test set: Hyperparameter tuning involves making adjustments to optimize the model's performance on the given data. If you repeatedly evaluate your model on the test set and tune hyperparameters accordingly, you risk overfitting the model to the test set. As a result, your model may perform well on the test set but generalize poorly to new, unseen data.\n",
    "\n",
    "    2.Data leakage: When you use the test set for hyperparameter tuning, you are indirectly incorporating information from the test set into the model selection process. This can lead to data leakage, where the model inadvertently learns patterns or characteristics specific to the test set. Consequently, the performance estimation on the test set becomes biased and unreliable.\n",
    "\n",
    "    3.Invalid evaluation: The purpose of the test set is to provide an unbiased evaluation of the model's performance on unseen data. By using it for hyperparameter tuning, you compromise the independence between the test set and the final evaluation. This makes it difficult to obtain an accurate estimation of how the model will perform on new data."
   ]
  },
  {
   "cell_type": "code",
   "execution_count": null,
   "id": "b01ac31e",
   "metadata": {},
   "outputs": [],
   "source": []
  }
 ],
 "metadata": {
  "kernelspec": {
   "display_name": "Python 3 (ipykernel)",
   "language": "python",
   "name": "python3"
  },
  "language_info": {
   "codemirror_mode": {
    "name": "ipython",
    "version": 3
   },
   "file_extension": ".py",
   "mimetype": "text/x-python",
   "name": "python",
   "nbconvert_exporter": "python",
   "pygments_lexer": "ipython3",
   "version": "3.9.13"
  }
 },
 "nbformat": 4,
 "nbformat_minor": 5
}
