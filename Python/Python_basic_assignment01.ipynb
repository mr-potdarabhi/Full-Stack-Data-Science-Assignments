{
  "nbformat": 4,
  "nbformat_minor": 0,
  "metadata": {
    "colab": {
      "provenance": [],
      "collapsed_sections": []
    },
    "kernelspec": {
      "name": "python3",
      "display_name": "Python 3"
    },
    "language_info": {
      "name": "python"
    }
  },
  "cells": [
    {
      "cell_type": "markdown",
      "source": [
        "###1.In the below elements which of them are values or an expression? eg:- values can be integer or string and expressions will be mathematical operators.\n",
        "\n",
        "*,'hello', -87.8,-,/,+,6\n",
        "\n",
        "Ans-----\n",
        "\n",
        "Ans: There are a total of 4 Operators and 3 Expressions, They are:\n",
        "Operators: *,-,/,+\n",
        "Expressions: 'hello', 87.8, 6"
      ],
      "metadata": {
        "id": "LoXcdt1LhXEs"
      }
    },
    {
      "cell_type": "markdown",
      "source": [
        "###2. What is the difference between string and variable?\n",
        "\n",
        "**String**---Strings are data, so we can use them to fill up a variable.\n",
        "\n",
        "**variable**---Variables are symbols that you can use to store data in a program. You can think of them as an empty box that you fill with some data or value."
      ],
      "metadata": {
        "id": "UQWpx0fPiqCk"
      }
    },
    {
      "cell_type": "markdown",
      "source": [
        "###3. Describe three different data types.\n",
        "#ans\n",
        "\n",
        "**1. integer(int)**---numberice data tye for numbers without fraction\n",
        "\n",
        "ex.int_num=1997\n",
        "\n",
        "print( type(int_num))\n",
        "\n",
        "\n",
        "**2. string(string)**---sequence of char, digits always trated as a text.\n",
        "\n",
        "ex(\"hi\", \"12345\", ) we write also singl coat('hi','12345')\n",
        "\n",
        "\n",
        "**3.boolean***---This data type contain only true or false value.\n",
        "\n",
        "ex.(0)false,(1)true"
      ],
      "metadata": {
        "id": "lwAm9JXnl3Lk"
      }
    },
    {
      "cell_type": "markdown",
      "source": [
        "\n",
        "###4. What is an expression made up of? What do all expressions do?\n",
        "\n",
        "**ans**--\n",
        "\n",
        "\n",
        "An e An expression is a combination of values, variables, operators, and calls to functions. Expressions need to be evaluated. If we ask Python to print an expression, the interpreter evaluates the expression and displays the result.\n",
        "\n",
        "ex . 4*5+20-40 # Is an Expression, The Python Interpreter Evaluates it to 0"
      ],
      "metadata": {
        "id": "OPlws05nm9GG"
      }
    },
    {
      "cell_type": "markdown",
      "source": [
        "##5. This assignment statements, like spam = 10. What is the difference between an expression and a statement?\n",
        "\n",
        "Ans- \n",
        "\n",
        "----An expression is a combination of values, variables, and operators.When we type an expression at the prompt, the interpreter evaluates it, which means that it finds the value of the expression.\n",
        "\n",
        "eg: 7+90+10-44 nis an example of a statement\n",
        "\n",
        "\n",
        "\n",
        "\n",
        "\n",
        "\n",
        "----A statement is a unit of code that has an effect, like creating a variable or displaying a value.When we type a statement, the interpreter executes it, which means that it does whatever the statement says. In general, statements don’t have values.\n",
        "\n",
        "eg: variable declaration and assignment are statements because they do not return a value"
      ],
      "metadata": {
        "id": "0X-SnwYvsCVh"
      }
    },
    {
      "cell_type": "markdown",
      "source": [
        "###6. After running the following code, what does the variable bacon contain?\n",
        "\n",
        "\n",
        "\n",
        "\n",
        "bacon = 22\n",
        "\n",
        "bacon + 1\n",
        "\n",
        "\n",
        "Ans--\n",
        "\n",
        "The becon veriable is a set of 22. & the expression bacon+1 is does not reassign the value in bacon."
      ],
      "metadata": {
        "id": "5dln8QoZuSwn"
      }
    },
    {
      "cell_type": "code",
      "source": [
        "bacon =22   ##bacon contain 22\n",
        "bacon+1\n",
        "print(bacon)"
      ],
      "metadata": {
        "colab": {
          "base_uri": "https://localhost:8080/"
        },
        "id": "ovKwdP4hoSnF",
        "outputId": "49eca42d-b89f-4b98-bee7-3f3d524b45b3"
      },
      "execution_count": 1,
      "outputs": [
        {
          "output_type": "stream",
          "name": "stdout",
          "text": [
            "22\n"
          ]
        }
      ]
    },
    {
      "cell_type": "code",
      "source": [
        "bacon =22   \n",
        "bacon=bacon+1\n",
        "print(bacon)"
      ],
      "metadata": {
        "colab": {
          "base_uri": "https://localhost:8080/"
        },
        "id": "nLyuPHSAlmae",
        "outputId": "d4086501-de2c-4b6e-def1-03f2c57cd0f0"
      },
      "execution_count": 2,
      "outputs": [
        {
          "output_type": "stream",
          "name": "stdout",
          "text": [
            "23\n"
          ]
        }
      ]
    },
    {
      "cell_type": "markdown",
      "source": [
        "###7.What should the values of the following two terms be?\n",
        "\n",
        "\n",
        "'spam'+'spamspam'\n",
        "\n",
        "'spam' * 3\n",
        "\n",
        "\n",
        "\n",
        "Ans-\n",
        "\n",
        "the first expression follows String Concatentation and the second expression follows String Multiplication"
      ],
      "metadata": {
        "id": "iJdVRDXjvN-3"
      }
    },
    {
      "cell_type": "code",
      "source": [
        "'spam'+'spamspam'"
      ],
      "metadata": {
        "colab": {
          "base_uri": "https://localhost:8080/",
          "height": 35
        },
        "id": "bfEd0pltvbPL",
        "outputId": "719652c3-2ca7-4ba6-944b-ac02eef64581"
      },
      "execution_count": null,
      "outputs": [
        {
          "output_type": "execute_result",
          "data": {
            "text/plain": [
              "'spamspamspam'"
            ],
            "application/vnd.google.colaboratory.intrinsic+json": {
              "type": "string"
            }
          },
          "metadata": {},
          "execution_count": 16
        }
      ]
    },
    {
      "cell_type": "code",
      "source": [
        "'spam'*3"
      ],
      "metadata": {
        "colab": {
          "base_uri": "https://localhost:8080/",
          "height": 35
        },
        "id": "Fx4QMNYkvpKi",
        "outputId": "e5447600-b7cb-4c98-f164-c7dd5afa7909"
      },
      "execution_count": null,
      "outputs": [
        {
          "output_type": "execute_result",
          "data": {
            "text/plain": [
              "'spamspamspam'"
            ],
            "application/vnd.google.colaboratory.intrinsic+json": {
              "type": "string"
            }
          },
          "metadata": {},
          "execution_count": 17
        }
      ]
    },
    {
      "cell_type": "markdown",
      "source": [
        "###8. Why is eggs a valid variable name while 100 is invalid?\n",
        "\n",
        "Ans----beacuse \n",
        "\n",
        "1.Variable name must start with a letter or the underscore character.\n",
        "\n",
        "2.Variable name cannot start with a number.\n",
        "\n",
        "3.Variable name can only contain alpha-numeric characters and underscores (A-z, 0-9, & _ ).\n",
        "\n",
        "4.Variable names are case-sensitive (name, ABHI and abhi are three different variables).\n",
        "\n",
        "5.The reserved words(keywords) cannot be used naming the variable."
      ],
      "metadata": {
        "id": "iVW9SZBiv3u9"
      }
    },
    {
      "cell_type": "markdown",
      "source": [
        "###9. What three functions can be used to get the integer, floating-point number, or string version of a value?\n",
        "\n",
        "Ans--- \n",
        "\n",
        "1.int(),\n",
        "\n",
        "\n",
        "\n",
        "\n",
        "\n",
        "2.float(),\n",
        "\n",
        "3.str()\n",
        " \n",
        "  functions used to get integer, floating-point number, or string version of a value."
      ],
      "metadata": {
        "id": "Ia1_A5VFwqmL"
      }
    },
    {
      "cell_type": "code",
      "source": [
        "#ex\n",
        "print(int(10.0))\n",
        "print(int(10.0))  # int() function converts given input to int\n",
        "print(float(10)) # float() function converts given input to float\n",
        "print(str(10) ) # str() function converts given input to string"
      ],
      "metadata": {
        "colab": {
          "base_uri": "https://localhost:8080/"
        },
        "id": "F97yYuLqqXKt",
        "outputId": "c3d624b6-c3d6-489d-a8b3-5bdf26a190b4"
      },
      "execution_count": 8,
      "outputs": [
        {
          "output_type": "stream",
          "name": "stdout",
          "text": [
            "10\n",
            "10\n",
            "10.0\n",
            "10\n"
          ]
        }
      ]
    },
    {
      "cell_type": "markdown",
      "source": [
        "###10. Why does this expression cause an error? How can you fix it?\n",
        "\n",
        "'i have eaten'+99+'burritos'"
      ],
      "metadata": {
        "id": "IXYX0p7SxNKT"
      }
    },
    {
      "cell_type": "code",
      "source": [
        "#'i have eaten'+99+'burritos'-----   ##beacuse 99 is a integer and only string value can be concatenate to other string with + operator\n",
        "#the right way is\n",
        "'i have eaten '+str(99)+' burritos'"
      ],
      "metadata": {
        "colab": {
          "base_uri": "https://localhost:8080/",
          "height": 35
        },
        "id": "G83yGFDWv3kz",
        "outputId": "3e8fec58-d783-4e14-8125-b370550cb4dc"
      },
      "execution_count": null,
      "outputs": [
        {
          "output_type": "execute_result",
          "data": {
            "text/plain": [
              "'i have eaten 99 burritos'"
            ],
            "application/vnd.google.colaboratory.intrinsic+json": {
              "type": "string"
            }
          },
          "metadata": {},
          "execution_count": 20
        }
      ]
    }
  ]
}